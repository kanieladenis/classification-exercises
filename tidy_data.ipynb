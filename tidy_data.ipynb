{
 "cells": [
  {
   "cell_type": "markdown",
   "id": "4b690d7f",
   "metadata": {},
   "source": [
    "# Exercise 1 - Attendance Data"
   ]
  },
  {
   "cell_type": "markdown",
   "id": "bd550ac5",
   "metadata": {},
   "source": [
    "### 1) Load the attendance.csv "
   ]
  },
  {
   "cell_type": "code",
   "execution_count": 3,
   "id": "17db0375",
   "metadata": {},
   "outputs": [],
   "source": [
    "import pandas as pd\n",
    "import numpy as np"
   ]
  },
  {
   "cell_type": "code",
   "execution_count": 145,
   "id": "92f03d22",
   "metadata": {},
   "outputs": [
    {
     "data": {
      "text/html": [
       "<div>\n",
       "<style scoped>\n",
       "    .dataframe tbody tr th:only-of-type {\n",
       "        vertical-align: middle;\n",
       "    }\n",
       "\n",
       "    .dataframe tbody tr th {\n",
       "        vertical-align: top;\n",
       "    }\n",
       "\n",
       "    .dataframe thead th {\n",
       "        text-align: right;\n",
       "    }\n",
       "</style>\n",
       "<table border=\"1\" class=\"dataframe\">\n",
       "  <thead>\n",
       "    <tr style=\"text-align: right;\">\n",
       "      <th></th>\n",
       "      <th>name</th>\n",
       "      <th>2018-01-01</th>\n",
       "      <th>2018-01-02</th>\n",
       "      <th>2018-01-03</th>\n",
       "      <th>2018-01-04</th>\n",
       "      <th>2018-01-05</th>\n",
       "      <th>2018-01-06</th>\n",
       "      <th>2018-01-07</th>\n",
       "      <th>2018-01-08</th>\n",
       "    </tr>\n",
       "  </thead>\n",
       "  <tbody>\n",
       "    <tr>\n",
       "      <th>0</th>\n",
       "      <td>Sally</td>\n",
       "      <td>P</td>\n",
       "      <td>T</td>\n",
       "      <td>T</td>\n",
       "      <td>H</td>\n",
       "      <td>P</td>\n",
       "      <td>A</td>\n",
       "      <td>T</td>\n",
       "      <td>T</td>\n",
       "    </tr>\n",
       "    <tr>\n",
       "      <th>1</th>\n",
       "      <td>Jane</td>\n",
       "      <td>A</td>\n",
       "      <td>P</td>\n",
       "      <td>T</td>\n",
       "      <td>T</td>\n",
       "      <td>T</td>\n",
       "      <td>T</td>\n",
       "      <td>A</td>\n",
       "      <td>T</td>\n",
       "    </tr>\n",
       "    <tr>\n",
       "      <th>2</th>\n",
       "      <td>Billy</td>\n",
       "      <td>A</td>\n",
       "      <td>T</td>\n",
       "      <td>A</td>\n",
       "      <td>A</td>\n",
       "      <td>H</td>\n",
       "      <td>T</td>\n",
       "      <td>P</td>\n",
       "      <td>T</td>\n",
       "    </tr>\n",
       "    <tr>\n",
       "      <th>3</th>\n",
       "      <td>John</td>\n",
       "      <td>P</td>\n",
       "      <td>T</td>\n",
       "      <td>H</td>\n",
       "      <td>P</td>\n",
       "      <td>P</td>\n",
       "      <td>T</td>\n",
       "      <td>P</td>\n",
       "      <td>P</td>\n",
       "    </tr>\n",
       "  </tbody>\n",
       "</table>\n",
       "</div>"
      ],
      "text/plain": [
       "    name 2018-01-01 2018-01-02 2018-01-03 2018-01-04 2018-01-05 2018-01-06  \\\n",
       "0  Sally          P          T          T          H          P          A   \n",
       "1   Jane          A          P          T          T          T          T   \n",
       "2  Billy          A          T          A          A          H          T   \n",
       "3   John          P          T          H          P          P          T   \n",
       "\n",
       "  2018-01-07 2018-01-08  \n",
       "0          T          T  \n",
       "1          A          T  \n",
       "2          P          T  \n",
       "3          P          P  "
      ]
     },
     "execution_count": 145,
     "metadata": {},
     "output_type": "execute_result"
    }
   ],
   "source": [
    "df_attendance = pd.read_csv('untidy_data/attendance.csv')\n",
    "df_attendance = df_attendance.rename(columns={'Unnamed: 0':'name'})\n",
    "df_attendance"
   ]
  },
  {
   "cell_type": "code",
   "execution_count": 164,
   "id": "ebac07ec",
   "metadata": {},
   "outputs": [
    {
     "data": {
      "text/plain": [
       "(4, 9)"
      ]
     },
     "execution_count": 164,
     "metadata": {},
     "output_type": "execute_result"
    }
   ],
   "source": [
    "df_attendance.shape"
   ]
  },
  {
   "cell_type": "markdown",
   "id": "b23e0c6d",
   "metadata": {},
   "source": [
    "### 2) file and calculate an attendnace percentage for each student. \n",
    "- Note: One half day is worth 50% of a full day, and 10 tardies is equal to one absence."
   ]
  },
  {
   "cell_type": "code",
   "execution_count": 146,
   "id": "54f4fc84",
   "metadata": {},
   "outputs": [
    {
     "data": {
      "text/html": [
       "<div>\n",
       "<style scoped>\n",
       "    .dataframe tbody tr th:only-of-type {\n",
       "        vertical-align: middle;\n",
       "    }\n",
       "\n",
       "    .dataframe tbody tr th {\n",
       "        vertical-align: top;\n",
       "    }\n",
       "\n",
       "    .dataframe thead th {\n",
       "        text-align: right;\n",
       "    }\n",
       "</style>\n",
       "<table border=\"1\" class=\"dataframe\">\n",
       "  <thead>\n",
       "    <tr style=\"text-align: right;\">\n",
       "      <th></th>\n",
       "      <th>name</th>\n",
       "      <th>date</th>\n",
       "      <th>attendance</th>\n",
       "    </tr>\n",
       "  </thead>\n",
       "  <tbody>\n",
       "    <tr>\n",
       "      <th>0</th>\n",
       "      <td>Sally</td>\n",
       "      <td>2018-01-01</td>\n",
       "      <td>P</td>\n",
       "    </tr>\n",
       "    <tr>\n",
       "      <th>1</th>\n",
       "      <td>Jane</td>\n",
       "      <td>2018-01-01</td>\n",
       "      <td>A</td>\n",
       "    </tr>\n",
       "    <tr>\n",
       "      <th>2</th>\n",
       "      <td>Billy</td>\n",
       "      <td>2018-01-01</td>\n",
       "      <td>A</td>\n",
       "    </tr>\n",
       "    <tr>\n",
       "      <th>3</th>\n",
       "      <td>John</td>\n",
       "      <td>2018-01-01</td>\n",
       "      <td>P</td>\n",
       "    </tr>\n",
       "    <tr>\n",
       "      <th>4</th>\n",
       "      <td>Sally</td>\n",
       "      <td>2018-01-02</td>\n",
       "      <td>T</td>\n",
       "    </tr>\n",
       "  </tbody>\n",
       "</table>\n",
       "</div>"
      ],
      "text/plain": [
       "    name        date attendance\n",
       "0  Sally  2018-01-01          P\n",
       "1   Jane  2018-01-01          A\n",
       "2  Billy  2018-01-01          A\n",
       "3   John  2018-01-01          P\n",
       "4  Sally  2018-01-02          T"
      ]
     },
     "execution_count": 146,
     "metadata": {},
     "output_type": "execute_result"
    }
   ],
   "source": [
    "df_attendance_melt = df_attendance.melt(id_vars='name', var_name='date', value_name='attendance')\n",
    "df_attendance_melt.head()"
   ]
  },
  {
   "cell_type": "code",
   "execution_count": 147,
   "id": "838caef0",
   "metadata": {},
   "outputs": [
    {
     "data": {
      "text/plain": [
       "(32, 3)"
      ]
     },
     "execution_count": 147,
     "metadata": {},
     "output_type": "execute_result"
    }
   ],
   "source": [
    "df_attendance_melt.shape"
   ]
  },
  {
   "cell_type": "code",
   "execution_count": 161,
   "id": "8e00ed1a",
   "metadata": {},
   "outputs": [
    {
     "data": {
      "text/html": [
       "<div>\n",
       "<style scoped>\n",
       "    .dataframe tbody tr th:only-of-type {\n",
       "        vertical-align: middle;\n",
       "    }\n",
       "\n",
       "    .dataframe tbody tr th {\n",
       "        vertical-align: top;\n",
       "    }\n",
       "\n",
       "    .dataframe thead th {\n",
       "        text-align: right;\n",
       "    }\n",
       "</style>\n",
       "<table border=\"1\" class=\"dataframe\">\n",
       "  <thead>\n",
       "    <tr style=\"text-align: right;\">\n",
       "      <th></th>\n",
       "      <th>name</th>\n",
       "      <th>date</th>\n",
       "      <th>attendance</th>\n",
       "    </tr>\n",
       "  </thead>\n",
       "  <tbody>\n",
       "    <tr>\n",
       "      <th>0</th>\n",
       "      <td>Sally</td>\n",
       "      <td>2018-01-01</td>\n",
       "      <td>1.0</td>\n",
       "    </tr>\n",
       "    <tr>\n",
       "      <th>1</th>\n",
       "      <td>Jane</td>\n",
       "      <td>2018-01-01</td>\n",
       "      <td>0.0</td>\n",
       "    </tr>\n",
       "    <tr>\n",
       "      <th>2</th>\n",
       "      <td>Billy</td>\n",
       "      <td>2018-01-01</td>\n",
       "      <td>0.0</td>\n",
       "    </tr>\n",
       "    <tr>\n",
       "      <th>3</th>\n",
       "      <td>John</td>\n",
       "      <td>2018-01-01</td>\n",
       "      <td>1.0</td>\n",
       "    </tr>\n",
       "    <tr>\n",
       "      <th>4</th>\n",
       "      <td>Sally</td>\n",
       "      <td>2018-01-02</td>\n",
       "      <td>0.9</td>\n",
       "    </tr>\n",
       "  </tbody>\n",
       "</table>\n",
       "</div>"
      ],
      "text/plain": [
       "    name        date  attendance\n",
       "0  Sally  2018-01-01         1.0\n",
       "1   Jane  2018-01-01         0.0\n",
       "2  Billy  2018-01-01         0.0\n",
       "3   John  2018-01-01         1.0\n",
       "4  Sally  2018-01-02         0.9"
      ]
     },
     "execution_count": 161,
     "metadata": {},
     "output_type": "execute_result"
    }
   ],
   "source": [
    "df_attendence_c = df_attendance_melt.replace({'P':1, 'A':0, 'H':.5, 'T':.9})\n",
    "df_attendence_c.head()"
   ]
  },
  {
   "cell_type": "code",
   "execution_count": 163,
   "id": "928e4f3b",
   "metadata": {},
   "outputs": [
    {
     "data": {
      "text/html": [
       "<div>\n",
       "<style scoped>\n",
       "    .dataframe tbody tr th:only-of-type {\n",
       "        vertical-align: middle;\n",
       "    }\n",
       "\n",
       "    .dataframe tbody tr th {\n",
       "        vertical-align: top;\n",
       "    }\n",
       "\n",
       "    .dataframe thead th {\n",
       "        text-align: right;\n",
       "    }\n",
       "</style>\n",
       "<table border=\"1\" class=\"dataframe\">\n",
       "  <thead>\n",
       "    <tr style=\"text-align: right;\">\n",
       "      <th></th>\n",
       "      <th>attendance</th>\n",
       "    </tr>\n",
       "    <tr>\n",
       "      <th>name</th>\n",
       "      <th></th>\n",
       "    </tr>\n",
       "  </thead>\n",
       "  <tbody>\n",
       "    <tr>\n",
       "      <th>Billy</th>\n",
       "      <td>0.5250</td>\n",
       "    </tr>\n",
       "    <tr>\n",
       "      <th>Jane</th>\n",
       "      <td>0.6875</td>\n",
       "    </tr>\n",
       "    <tr>\n",
       "      <th>John</th>\n",
       "      <td>0.9125</td>\n",
       "    </tr>\n",
       "    <tr>\n",
       "      <th>Sally</th>\n",
       "      <td>0.7625</td>\n",
       "    </tr>\n",
       "  </tbody>\n",
       "</table>\n",
       "</div>"
      ],
      "text/plain": [
       "       attendance\n",
       "name             \n",
       "Billy      0.5250\n",
       "Jane       0.6875\n",
       "John       0.9125\n",
       "Sally      0.7625"
      ]
     },
     "execution_count": 163,
     "metadata": {},
     "output_type": "execute_result"
    }
   ],
   "source": [
    "df_attendence_c.groupby('name').mean()"
   ]
  },
  {
   "cell_type": "markdown",
   "id": "c36034ef",
   "metadata": {},
   "source": [
    "# Exercise 2 - Coffee Levels"
   ]
  },
  {
   "cell_type": "markdown",
   "id": "dc8e5591",
   "metadata": {},
   "source": [
    "### 1) Read the coffee_levels.csv file."
   ]
  },
  {
   "cell_type": "code",
   "execution_count": 168,
   "id": "2a319b18",
   "metadata": {},
   "outputs": [],
   "source": [
    "df_coffee = pd.read_csv('untidy_data/coffee_levels.csv')"
   ]
  },
  {
   "cell_type": "code",
   "execution_count": 69,
   "id": "4495b05e",
   "metadata": {},
   "outputs": [
    {
     "data": {
      "text/html": [
       "<div>\n",
       "<style scoped>\n",
       "    .dataframe tbody tr th:only-of-type {\n",
       "        vertical-align: middle;\n",
       "    }\n",
       "\n",
       "    .dataframe tbody tr th {\n",
       "        vertical-align: top;\n",
       "    }\n",
       "\n",
       "    .dataframe thead th {\n",
       "        text-align: right;\n",
       "    }\n",
       "</style>\n",
       "<table border=\"1\" class=\"dataframe\">\n",
       "  <thead>\n",
       "    <tr style=\"text-align: right;\">\n",
       "      <th></th>\n",
       "      <th>hour</th>\n",
       "      <th>coffee_carafe</th>\n",
       "      <th>coffee_amount</th>\n",
       "    </tr>\n",
       "  </thead>\n",
       "  <tbody>\n",
       "    <tr>\n",
       "      <th>0</th>\n",
       "      <td>8</td>\n",
       "      <td>x</td>\n",
       "      <td>0.816164</td>\n",
       "    </tr>\n",
       "    <tr>\n",
       "      <th>1</th>\n",
       "      <td>9</td>\n",
       "      <td>x</td>\n",
       "      <td>0.451018</td>\n",
       "    </tr>\n",
       "    <tr>\n",
       "      <th>2</th>\n",
       "      <td>10</td>\n",
       "      <td>x</td>\n",
       "      <td>0.843279</td>\n",
       "    </tr>\n",
       "    <tr>\n",
       "      <th>3</th>\n",
       "      <td>11</td>\n",
       "      <td>x</td>\n",
       "      <td>0.335533</td>\n",
       "    </tr>\n",
       "    <tr>\n",
       "      <th>4</th>\n",
       "      <td>12</td>\n",
       "      <td>x</td>\n",
       "      <td>0.898291</td>\n",
       "    </tr>\n",
       "  </tbody>\n",
       "</table>\n",
       "</div>"
      ],
      "text/plain": [
       "   hour coffee_carafe  coffee_amount\n",
       "0     8             x       0.816164\n",
       "1     9             x       0.451018\n",
       "2    10             x       0.843279\n",
       "3    11             x       0.335533\n",
       "4    12             x       0.898291"
      ]
     },
     "execution_count": 69,
     "metadata": {},
     "output_type": "execute_result"
    }
   ],
   "source": [
    "df_coffee.head()"
   ]
  },
  {
   "cell_type": "code",
   "execution_count": 70,
   "id": "8179116d",
   "metadata": {},
   "outputs": [
    {
     "data": {
      "text/plain": [
       "(30, 3)"
      ]
     },
     "execution_count": 70,
     "metadata": {},
     "output_type": "execute_result"
    }
   ],
   "source": [
    "df_coffee.shape"
   ]
  },
  {
   "cell_type": "markdown",
   "id": "6f984d1f",
   "metadata": {},
   "source": [
    "### 2) Transform the data so that each carafe is in it's own column."
   ]
  },
  {
   "cell_type": "code",
   "execution_count": 71,
   "id": "64e2d199",
   "metadata": {},
   "outputs": [
    {
     "data": {
      "text/plain": [
       "z    10\n",
       "y    10\n",
       "x    10\n",
       "Name: coffee_carafe, dtype: int64"
      ]
     },
     "execution_count": 71,
     "metadata": {},
     "output_type": "execute_result"
    }
   ],
   "source": [
    "df_coffee.coffee_carafe.value_counts()"
   ]
  },
  {
   "cell_type": "code",
   "execution_count": 177,
   "id": "2cdff135",
   "metadata": {},
   "outputs": [
    {
     "data": {
      "text/html": [
       "<div>\n",
       "<style scoped>\n",
       "    .dataframe tbody tr th:only-of-type {\n",
       "        vertical-align: middle;\n",
       "    }\n",
       "\n",
       "    .dataframe tbody tr th {\n",
       "        vertical-align: top;\n",
       "    }\n",
       "\n",
       "    .dataframe thead th {\n",
       "        text-align: right;\n",
       "    }\n",
       "</style>\n",
       "<table border=\"1\" class=\"dataframe\">\n",
       "  <thead>\n",
       "    <tr style=\"text-align: right;\">\n",
       "      <th></th>\n",
       "      <th>x</th>\n",
       "      <th>y</th>\n",
       "      <th>z</th>\n",
       "    </tr>\n",
       "    <tr>\n",
       "      <th>hour</th>\n",
       "      <th></th>\n",
       "      <th></th>\n",
       "      <th></th>\n",
       "    </tr>\n",
       "  </thead>\n",
       "  <tbody>\n",
       "    <tr>\n",
       "      <th>8</th>\n",
       "      <td>0.816164</td>\n",
       "      <td>0.189297</td>\n",
       "      <td>0.999264</td>\n",
       "    </tr>\n",
       "    <tr>\n",
       "      <th>9</th>\n",
       "      <td>0.451018</td>\n",
       "      <td>0.521502</td>\n",
       "      <td>0.915990</td>\n",
       "    </tr>\n",
       "    <tr>\n",
       "      <th>10</th>\n",
       "      <td>0.843279</td>\n",
       "      <td>0.023163</td>\n",
       "      <td>0.144928</td>\n",
       "    </tr>\n",
       "    <tr>\n",
       "      <th>11</th>\n",
       "      <td>0.335533</td>\n",
       "      <td>0.235529</td>\n",
       "      <td>0.311495</td>\n",
       "    </tr>\n",
       "    <tr>\n",
       "      <th>12</th>\n",
       "      <td>0.898291</td>\n",
       "      <td>0.017009</td>\n",
       "      <td>0.771947</td>\n",
       "    </tr>\n",
       "    <tr>\n",
       "      <th>13</th>\n",
       "      <td>0.310711</td>\n",
       "      <td>0.997464</td>\n",
       "      <td>0.398520</td>\n",
       "    </tr>\n",
       "    <tr>\n",
       "      <th>14</th>\n",
       "      <td>0.507288</td>\n",
       "      <td>0.058361</td>\n",
       "      <td>0.864464</td>\n",
       "    </tr>\n",
       "    <tr>\n",
       "      <th>15</th>\n",
       "      <td>0.215043</td>\n",
       "      <td>0.144644</td>\n",
       "      <td>0.436364</td>\n",
       "    </tr>\n",
       "    <tr>\n",
       "      <th>16</th>\n",
       "      <td>0.183891</td>\n",
       "      <td>0.544676</td>\n",
       "      <td>0.280621</td>\n",
       "    </tr>\n",
       "    <tr>\n",
       "      <th>17</th>\n",
       "      <td>0.391560</td>\n",
       "      <td>0.594126</td>\n",
       "      <td>0.436677</td>\n",
       "    </tr>\n",
       "  </tbody>\n",
       "</table>\n",
       "</div>"
      ],
      "text/plain": [
       "             x         y         z\n",
       "hour                              \n",
       "8     0.816164  0.189297  0.999264\n",
       "9     0.451018  0.521502  0.915990\n",
       "10    0.843279  0.023163  0.144928\n",
       "11    0.335533  0.235529  0.311495\n",
       "12    0.898291  0.017009  0.771947\n",
       "13    0.310711  0.997464  0.398520\n",
       "14    0.507288  0.058361  0.864464\n",
       "15    0.215043  0.144644  0.436364\n",
       "16    0.183891  0.544676  0.280621\n",
       "17    0.391560  0.594126  0.436677"
      ]
     },
     "execution_count": 177,
     "metadata": {},
     "output_type": "execute_result"
    }
   ],
   "source": [
    "coffee_melt = df_coffee.pivot(index='hour', columns='coffee_carafe')\n",
    "coffee_melt.columns = coffee_melt.columns.droplevel()\n",
    "coffee_melt.columns.name = ' '\n",
    "coffee_melt"
   ]
  },
  {
   "cell_type": "code",
   "execution_count": 78,
   "id": "83215e4b",
   "metadata": {},
   "outputs": [
    {
     "data": {
      "text/plain": [
       "(10, 3)"
      ]
     },
     "execution_count": 78,
     "metadata": {},
     "output_type": "execute_result"
    }
   ],
   "source": [
    "coffee_melt.shape"
   ]
  },
  {
   "cell_type": "markdown",
   "id": "975c68a2",
   "metadata": {},
   "source": [
    "### 3) Is this the best shape for the data?"
   ]
  },
  {
   "cell_type": "markdown",
   "id": "5b9e9520",
   "metadata": {},
   "source": [
    "#### yes, since each column is a variable, each row is an observation, and each cell is a single value"
   ]
  },
  {
   "cell_type": "markdown",
   "id": "68cfbf80",
   "metadata": {},
   "source": [
    "# Exercise 3 - Cake Recipes"
   ]
  },
  {
   "cell_type": "markdown",
   "id": "147ef5fc",
   "metadata": {},
   "source": [
    "### 1) Read the cake_recipes.csv data. \n",
    "#### Note) This data set contains cake tastiness scores for combinations of different recipes, oven rack positions, and oven temperatures."
   ]
  },
  {
   "cell_type": "code",
   "execution_count": 99,
   "id": "826fc6f6",
   "metadata": {},
   "outputs": [
    {
     "data": {
      "text/html": [
       "<div>\n",
       "<style scoped>\n",
       "    .dataframe tbody tr th:only-of-type {\n",
       "        vertical-align: middle;\n",
       "    }\n",
       "\n",
       "    .dataframe tbody tr th {\n",
       "        vertical-align: top;\n",
       "    }\n",
       "\n",
       "    .dataframe thead th {\n",
       "        text-align: right;\n",
       "    }\n",
       "</style>\n",
       "<table border=\"1\" class=\"dataframe\">\n",
       "  <thead>\n",
       "    <tr style=\"text-align: right;\">\n",
       "      <th></th>\n",
       "      <th>recipe:position</th>\n",
       "      <th>225</th>\n",
       "      <th>250</th>\n",
       "      <th>275</th>\n",
       "      <th>300</th>\n",
       "    </tr>\n",
       "  </thead>\n",
       "  <tbody>\n",
       "    <tr>\n",
       "      <th>0</th>\n",
       "      <td>a:bottom</td>\n",
       "      <td>61.738655</td>\n",
       "      <td>53.912627</td>\n",
       "      <td>74.414730</td>\n",
       "      <td>98.786784</td>\n",
       "    </tr>\n",
       "    <tr>\n",
       "      <th>1</th>\n",
       "      <td>a:top</td>\n",
       "      <td>51.709751</td>\n",
       "      <td>52.009735</td>\n",
       "      <td>68.576858</td>\n",
       "      <td>50.228470</td>\n",
       "    </tr>\n",
       "    <tr>\n",
       "      <th>2</th>\n",
       "      <td>b:bottom</td>\n",
       "      <td>57.095320</td>\n",
       "      <td>61.904369</td>\n",
       "      <td>61.196980</td>\n",
       "      <td>99.248541</td>\n",
       "    </tr>\n",
       "    <tr>\n",
       "      <th>3</th>\n",
       "      <td>b:top</td>\n",
       "      <td>82.455004</td>\n",
       "      <td>95.224151</td>\n",
       "      <td>98.594881</td>\n",
       "      <td>58.169349</td>\n",
       "    </tr>\n",
       "    <tr>\n",
       "      <th>4</th>\n",
       "      <td>c:bottom</td>\n",
       "      <td>96.470207</td>\n",
       "      <td>52.001358</td>\n",
       "      <td>92.893227</td>\n",
       "      <td>65.473084</td>\n",
       "    </tr>\n",
       "    <tr>\n",
       "      <th>5</th>\n",
       "      <td>c:top</td>\n",
       "      <td>71.306308</td>\n",
       "      <td>82.795477</td>\n",
       "      <td>92.098049</td>\n",
       "      <td>53.960273</td>\n",
       "    </tr>\n",
       "    <tr>\n",
       "      <th>6</th>\n",
       "      <td>d:bottom</td>\n",
       "      <td>52.799753</td>\n",
       "      <td>58.670419</td>\n",
       "      <td>51.747686</td>\n",
       "      <td>56.183110</td>\n",
       "    </tr>\n",
       "    <tr>\n",
       "      <th>7</th>\n",
       "      <td>d:top</td>\n",
       "      <td>96.873178</td>\n",
       "      <td>76.101363</td>\n",
       "      <td>59.571620</td>\n",
       "      <td>50.971626</td>\n",
       "    </tr>\n",
       "  </tbody>\n",
       "</table>\n",
       "</div>"
      ],
      "text/plain": [
       "  recipe:position        225        250        275        300\n",
       "0        a:bottom  61.738655  53.912627  74.414730  98.786784\n",
       "1           a:top  51.709751  52.009735  68.576858  50.228470\n",
       "2        b:bottom  57.095320  61.904369  61.196980  99.248541\n",
       "3           b:top  82.455004  95.224151  98.594881  58.169349\n",
       "4        c:bottom  96.470207  52.001358  92.893227  65.473084\n",
       "5           c:top  71.306308  82.795477  92.098049  53.960273\n",
       "6        d:bottom  52.799753  58.670419  51.747686  56.183110\n",
       "7           d:top  96.873178  76.101363  59.571620  50.971626"
      ]
     },
     "execution_count": 99,
     "metadata": {},
     "output_type": "execute_result"
    }
   ],
   "source": [
    "df_cake = pd.read_csv('untidy_data/cake_recipes.csv')\n",
    "df_cake"
   ]
  },
  {
   "cell_type": "code",
   "execution_count": 100,
   "id": "50dfc2b7",
   "metadata": {
    "scrolled": true
   },
   "outputs": [
    {
     "name": "stdout",
     "output_type": "stream",
     "text": [
      "<class 'pandas.core.frame.DataFrame'>\n",
      "RangeIndex: 8 entries, 0 to 7\n",
      "Data columns (total 5 columns):\n",
      " #   Column           Non-Null Count  Dtype  \n",
      "---  ------           --------------  -----  \n",
      " 0   recipe:position  8 non-null      object \n",
      " 1   225              8 non-null      float64\n",
      " 2   250              8 non-null      float64\n",
      " 3   275              8 non-null      float64\n",
      " 4   300              8 non-null      float64\n",
      "dtypes: float64(4), object(1)\n",
      "memory usage: 448.0+ bytes\n"
     ]
    }
   ],
   "source": [
    "df_cake.info()"
   ]
  },
  {
   "cell_type": "markdown",
   "id": "3d156c90",
   "metadata": {},
   "source": [
    "### 2) Tidy the data as necessary."
   ]
  },
  {
   "cell_type": "code",
   "execution_count": 105,
   "id": "4c8f8104",
   "metadata": {},
   "outputs": [
    {
     "data": {
      "text/html": [
       "<div>\n",
       "<style scoped>\n",
       "    .dataframe tbody tr th:only-of-type {\n",
       "        vertical-align: middle;\n",
       "    }\n",
       "\n",
       "    .dataframe tbody tr th {\n",
       "        vertical-align: top;\n",
       "    }\n",
       "\n",
       "    .dataframe thead th {\n",
       "        text-align: right;\n",
       "    }\n",
       "</style>\n",
       "<table border=\"1\" class=\"dataframe\">\n",
       "  <thead>\n",
       "    <tr style=\"text-align: right;\">\n",
       "      <th></th>\n",
       "      <th>recipe:position</th>\n",
       "      <th>225</th>\n",
       "      <th>250</th>\n",
       "      <th>275</th>\n",
       "      <th>300</th>\n",
       "      <th>recipe</th>\n",
       "      <th>rack_position</th>\n",
       "    </tr>\n",
       "  </thead>\n",
       "  <tbody>\n",
       "    <tr>\n",
       "      <th>0</th>\n",
       "      <td>a:bottom</td>\n",
       "      <td>61.738655</td>\n",
       "      <td>53.912627</td>\n",
       "      <td>74.414730</td>\n",
       "      <td>98.786784</td>\n",
       "      <td>a</td>\n",
       "      <td>bottom</td>\n",
       "    </tr>\n",
       "    <tr>\n",
       "      <th>1</th>\n",
       "      <td>a:top</td>\n",
       "      <td>51.709751</td>\n",
       "      <td>52.009735</td>\n",
       "      <td>68.576858</td>\n",
       "      <td>50.228470</td>\n",
       "      <td>a</td>\n",
       "      <td>top</td>\n",
       "    </tr>\n",
       "    <tr>\n",
       "      <th>2</th>\n",
       "      <td>b:bottom</td>\n",
       "      <td>57.095320</td>\n",
       "      <td>61.904369</td>\n",
       "      <td>61.196980</td>\n",
       "      <td>99.248541</td>\n",
       "      <td>b</td>\n",
       "      <td>bottom</td>\n",
       "    </tr>\n",
       "    <tr>\n",
       "      <th>3</th>\n",
       "      <td>b:top</td>\n",
       "      <td>82.455004</td>\n",
       "      <td>95.224151</td>\n",
       "      <td>98.594881</td>\n",
       "      <td>58.169349</td>\n",
       "      <td>b</td>\n",
       "      <td>top</td>\n",
       "    </tr>\n",
       "    <tr>\n",
       "      <th>4</th>\n",
       "      <td>c:bottom</td>\n",
       "      <td>96.470207</td>\n",
       "      <td>52.001358</td>\n",
       "      <td>92.893227</td>\n",
       "      <td>65.473084</td>\n",
       "      <td>c</td>\n",
       "      <td>bottom</td>\n",
       "    </tr>\n",
       "    <tr>\n",
       "      <th>5</th>\n",
       "      <td>c:top</td>\n",
       "      <td>71.306308</td>\n",
       "      <td>82.795477</td>\n",
       "      <td>92.098049</td>\n",
       "      <td>53.960273</td>\n",
       "      <td>c</td>\n",
       "      <td>top</td>\n",
       "    </tr>\n",
       "    <tr>\n",
       "      <th>6</th>\n",
       "      <td>d:bottom</td>\n",
       "      <td>52.799753</td>\n",
       "      <td>58.670419</td>\n",
       "      <td>51.747686</td>\n",
       "      <td>56.183110</td>\n",
       "      <td>d</td>\n",
       "      <td>bottom</td>\n",
       "    </tr>\n",
       "    <tr>\n",
       "      <th>7</th>\n",
       "      <td>d:top</td>\n",
       "      <td>96.873178</td>\n",
       "      <td>76.101363</td>\n",
       "      <td>59.571620</td>\n",
       "      <td>50.971626</td>\n",
       "      <td>d</td>\n",
       "      <td>top</td>\n",
       "    </tr>\n",
       "  </tbody>\n",
       "</table>\n",
       "</div>"
      ],
      "text/plain": [
       "  recipe:position        225        250        275        300 recipe  \\\n",
       "0        a:bottom  61.738655  53.912627  74.414730  98.786784      a   \n",
       "1           a:top  51.709751  52.009735  68.576858  50.228470      a   \n",
       "2        b:bottom  57.095320  61.904369  61.196980  99.248541      b   \n",
       "3           b:top  82.455004  95.224151  98.594881  58.169349      b   \n",
       "4        c:bottom  96.470207  52.001358  92.893227  65.473084      c   \n",
       "5           c:top  71.306308  82.795477  92.098049  53.960273      c   \n",
       "6        d:bottom  52.799753  58.670419  51.747686  56.183110      d   \n",
       "7           d:top  96.873178  76.101363  59.571620  50.971626      d   \n",
       "\n",
       "  rack_position  \n",
       "0        bottom  \n",
       "1           top  \n",
       "2        bottom  \n",
       "3           top  \n",
       "4        bottom  \n",
       "5           top  \n",
       "6        bottom  \n",
       "7           top  "
      ]
     },
     "execution_count": 105,
     "metadata": {},
     "output_type": "execute_result"
    }
   ],
   "source": [
    "# split column 'recipe:position' to two columns for recipe and rack position\n",
    "df_cake[['recipe','rack_position']] = df_cake['recipe:position'].str.split(':', expand=True)\n",
    "df_cake"
   ]
  },
  {
   "cell_type": "code",
   "execution_count": 107,
   "id": "0ee78896",
   "metadata": {},
   "outputs": [
    {
     "data": {
      "text/html": [
       "<div>\n",
       "<style scoped>\n",
       "    .dataframe tbody tr th:only-of-type {\n",
       "        vertical-align: middle;\n",
       "    }\n",
       "\n",
       "    .dataframe tbody tr th {\n",
       "        vertical-align: top;\n",
       "    }\n",
       "\n",
       "    .dataframe thead th {\n",
       "        text-align: right;\n",
       "    }\n",
       "</style>\n",
       "<table border=\"1\" class=\"dataframe\">\n",
       "  <thead>\n",
       "    <tr style=\"text-align: right;\">\n",
       "      <th></th>\n",
       "      <th>225</th>\n",
       "      <th>250</th>\n",
       "      <th>275</th>\n",
       "      <th>300</th>\n",
       "      <th>recipe</th>\n",
       "      <th>rack_position</th>\n",
       "    </tr>\n",
       "  </thead>\n",
       "  <tbody>\n",
       "    <tr>\n",
       "      <th>0</th>\n",
       "      <td>61.738655</td>\n",
       "      <td>53.912627</td>\n",
       "      <td>74.414730</td>\n",
       "      <td>98.786784</td>\n",
       "      <td>a</td>\n",
       "      <td>bottom</td>\n",
       "    </tr>\n",
       "    <tr>\n",
       "      <th>1</th>\n",
       "      <td>51.709751</td>\n",
       "      <td>52.009735</td>\n",
       "      <td>68.576858</td>\n",
       "      <td>50.228470</td>\n",
       "      <td>a</td>\n",
       "      <td>top</td>\n",
       "    </tr>\n",
       "    <tr>\n",
       "      <th>2</th>\n",
       "      <td>57.095320</td>\n",
       "      <td>61.904369</td>\n",
       "      <td>61.196980</td>\n",
       "      <td>99.248541</td>\n",
       "      <td>b</td>\n",
       "      <td>bottom</td>\n",
       "    </tr>\n",
       "    <tr>\n",
       "      <th>3</th>\n",
       "      <td>82.455004</td>\n",
       "      <td>95.224151</td>\n",
       "      <td>98.594881</td>\n",
       "      <td>58.169349</td>\n",
       "      <td>b</td>\n",
       "      <td>top</td>\n",
       "    </tr>\n",
       "    <tr>\n",
       "      <th>4</th>\n",
       "      <td>96.470207</td>\n",
       "      <td>52.001358</td>\n",
       "      <td>92.893227</td>\n",
       "      <td>65.473084</td>\n",
       "      <td>c</td>\n",
       "      <td>bottom</td>\n",
       "    </tr>\n",
       "    <tr>\n",
       "      <th>5</th>\n",
       "      <td>71.306308</td>\n",
       "      <td>82.795477</td>\n",
       "      <td>92.098049</td>\n",
       "      <td>53.960273</td>\n",
       "      <td>c</td>\n",
       "      <td>top</td>\n",
       "    </tr>\n",
       "    <tr>\n",
       "      <th>6</th>\n",
       "      <td>52.799753</td>\n",
       "      <td>58.670419</td>\n",
       "      <td>51.747686</td>\n",
       "      <td>56.183110</td>\n",
       "      <td>d</td>\n",
       "      <td>bottom</td>\n",
       "    </tr>\n",
       "    <tr>\n",
       "      <th>7</th>\n",
       "      <td>96.873178</td>\n",
       "      <td>76.101363</td>\n",
       "      <td>59.571620</td>\n",
       "      <td>50.971626</td>\n",
       "      <td>d</td>\n",
       "      <td>top</td>\n",
       "    </tr>\n",
       "  </tbody>\n",
       "</table>\n",
       "</div>"
      ],
      "text/plain": [
       "         225        250        275        300 recipe rack_position\n",
       "0  61.738655  53.912627  74.414730  98.786784      a        bottom\n",
       "1  51.709751  52.009735  68.576858  50.228470      a           top\n",
       "2  57.095320  61.904369  61.196980  99.248541      b        bottom\n",
       "3  82.455004  95.224151  98.594881  58.169349      b           top\n",
       "4  96.470207  52.001358  92.893227  65.473084      c        bottom\n",
       "5  71.306308  82.795477  92.098049  53.960273      c           top\n",
       "6  52.799753  58.670419  51.747686  56.183110      d        bottom\n",
       "7  96.873178  76.101363  59.571620  50.971626      d           top"
      ]
     },
     "execution_count": 107,
     "metadata": {},
     "output_type": "execute_result"
    }
   ],
   "source": [
    "# drop column 'recipe:position'\n",
    "df_cake = df_cake.drop(columns='recipe:position')\n",
    "df_cake"
   ]
  },
  {
   "cell_type": "code",
   "execution_count": 144,
   "id": "49107530",
   "metadata": {},
   "outputs": [
    {
     "data": {
      "text/html": [
       "<div>\n",
       "<style scoped>\n",
       "    .dataframe tbody tr th:only-of-type {\n",
       "        vertical-align: middle;\n",
       "    }\n",
       "\n",
       "    .dataframe tbody tr th {\n",
       "        vertical-align: top;\n",
       "    }\n",
       "\n",
       "    .dataframe thead th {\n",
       "        text-align: right;\n",
       "    }\n",
       "</style>\n",
       "<table border=\"1\" class=\"dataframe\">\n",
       "  <thead>\n",
       "    <tr style=\"text-align: right;\">\n",
       "      <th></th>\n",
       "      <th>recipe</th>\n",
       "      <th>rack_position</th>\n",
       "      <th>temp</th>\n",
       "      <th>taste_score</th>\n",
       "    </tr>\n",
       "  </thead>\n",
       "  <tbody>\n",
       "    <tr>\n",
       "      <th>0</th>\n",
       "      <td>a</td>\n",
       "      <td>bottom</td>\n",
       "      <td>225</td>\n",
       "      <td>61.738655</td>\n",
       "    </tr>\n",
       "    <tr>\n",
       "      <th>1</th>\n",
       "      <td>a</td>\n",
       "      <td>top</td>\n",
       "      <td>225</td>\n",
       "      <td>51.709751</td>\n",
       "    </tr>\n",
       "    <tr>\n",
       "      <th>2</th>\n",
       "      <td>b</td>\n",
       "      <td>bottom</td>\n",
       "      <td>225</td>\n",
       "      <td>57.095320</td>\n",
       "    </tr>\n",
       "    <tr>\n",
       "      <th>3</th>\n",
       "      <td>b</td>\n",
       "      <td>top</td>\n",
       "      <td>225</td>\n",
       "      <td>82.455004</td>\n",
       "    </tr>\n",
       "    <tr>\n",
       "      <th>4</th>\n",
       "      <td>c</td>\n",
       "      <td>bottom</td>\n",
       "      <td>225</td>\n",
       "      <td>96.470207</td>\n",
       "    </tr>\n",
       "  </tbody>\n",
       "</table>\n",
       "</div>"
      ],
      "text/plain": [
       "  recipe rack_position temp  taste_score\n",
       "0      a        bottom  225    61.738655\n",
       "1      a           top  225    51.709751\n",
       "2      b        bottom  225    57.095320\n",
       "3      b           top  225    82.455004\n",
       "4      c        bottom  225    96.470207"
      ]
     },
     "execution_count": 144,
     "metadata": {},
     "output_type": "execute_result"
    }
   ],
   "source": [
    "# melt columns for different tempuratures\n",
    "df_cake_melt = df_cake.melt(id_vars=['recipe','rack_position'],\n",
    "                            var_name='temp',\n",
    "                            value_name='taste_score')\n",
    "df_cake_melt.head()"
   ]
  },
  {
   "cell_type": "markdown",
   "id": "efb6d160",
   "metadata": {},
   "source": [
    "### 3) Which recipe, on average, is the best?\n",
    "#### answer: recipe b"
   ]
  },
  {
   "cell_type": "code",
   "execution_count": 178,
   "id": "e345621b",
   "metadata": {},
   "outputs": [
    {
     "data": {
      "text/plain": [
       "recipe\n",
       "a    63.922201\n",
       "b    76.736074\n",
       "c    75.874748\n",
       "d    62.864844\n",
       "Name: taste_score, dtype: float64"
      ]
     },
     "execution_count": 178,
     "metadata": {},
     "output_type": "execute_result"
    }
   ],
   "source": [
    "# Get the average of taste score grouped by recipe\n",
    "df_cake_melt.groupby('recipe').taste_score.mean()"
   ]
  },
  {
   "cell_type": "code",
   "execution_count": null,
   "id": "4e0afc0b",
   "metadata": {},
   "outputs": [],
   "source": [
    "#### Recipe B has the best average taste score"
   ]
  },
  {
   "cell_type": "markdown",
   "id": "b08ead82",
   "metadata": {},
   "source": [
    "### 4) Which oven temperature, on average, produces the best results?\n",
    "#### answer: 275"
   ]
  },
  {
   "cell_type": "code",
   "execution_count": 118,
   "id": "cfc12791",
   "metadata": {},
   "outputs": [
    {
     "data": {
      "text/plain": [
       "temp\n",
       "225    71.306022\n",
       "250    66.577437\n",
       "275    74.886754\n",
       "300    66.627655\n",
       "Name: taste_score, dtype: float64"
      ]
     },
     "execution_count": 118,
     "metadata": {},
     "output_type": "execute_result"
    }
   ],
   "source": [
    "# get the aveage of taste scores grouped by temperatures\n",
    "df_cake_melt.groupby('temp').taste_score.mean()"
   ]
  },
  {
   "cell_type": "markdown",
   "id": "bc4fcace",
   "metadata": {},
   "source": [
    "#### Temperature 275 is the best "
   ]
  },
  {
   "cell_type": "markdown",
   "id": "749c411b",
   "metadata": {},
   "source": [
    "### 5) Which combination of recipe, rack position, and temperature gives the best result?\n",
    "#### answer: recipe b, bottom rack, 300 degrees"
   ]
  },
  {
   "cell_type": "code",
   "execution_count": 139,
   "id": "3b32df05",
   "metadata": {},
   "outputs": [
    {
     "data": {
      "text/plain": [
       "recipe  rack_position  temp\n",
       "a       bottom         225     61.738655\n",
       "                       250     53.912627\n",
       "                       275     74.414730\n",
       "                       300     98.786784\n",
       "        top            225     51.709751\n",
       "                       250     52.009735\n",
       "                       275     68.576858\n",
       "                       300     50.228470\n",
       "b       bottom         225     57.095320\n",
       "                       250     61.904369\n",
       "                       275     61.196980\n",
       "                       300     99.248541\n",
       "        top            225     82.455004\n",
       "                       250     95.224151\n",
       "                       275     98.594881\n",
       "                       300     58.169349\n",
       "c       bottom         225     96.470207\n",
       "                       250     52.001358\n",
       "                       275     92.893227\n",
       "                       300     65.473084\n",
       "        top            225     71.306308\n",
       "                       250     82.795477\n",
       "                       275     92.098049\n",
       "                       300     53.960273\n",
       "d       bottom         225     52.799753\n",
       "                       250     58.670419\n",
       "                       275     51.747686\n",
       "                       300     56.183110\n",
       "        top            225     96.873178\n",
       "                       250     76.101363\n",
       "                       275     59.571620\n",
       "                       300     50.971626\n",
       "Name: taste_score, dtype: float64"
      ]
     },
     "execution_count": 139,
     "metadata": {},
     "output_type": "execute_result"
    }
   ],
   "source": [
    "df_cake_combo = df_cake_melt.groupby(['recipe','rack_position','temp']).taste_score.mean()\n",
    "df_cake_combo"
   ]
  },
  {
   "cell_type": "code",
   "execution_count": 140,
   "id": "650ee9a7",
   "metadata": {},
   "outputs": [
    {
     "data": {
      "text/plain": [
       "99.2485405378462"
      ]
     },
     "execution_count": 140,
     "metadata": {},
     "output_type": "execute_result"
    }
   ],
   "source": [
    "best_combo = df_cake_melt.groupby(['recipe','rack_position','temp']).taste_score.mean().max()\n",
    "best_combo"
   ]
  },
  {
   "cell_type": "code",
   "execution_count": 143,
   "id": "bfe12ce1",
   "metadata": {},
   "outputs": [
    {
     "data": {
      "text/html": [
       "<div>\n",
       "<style scoped>\n",
       "    .dataframe tbody tr th:only-of-type {\n",
       "        vertical-align: middle;\n",
       "    }\n",
       "\n",
       "    .dataframe tbody tr th {\n",
       "        vertical-align: top;\n",
       "    }\n",
       "\n",
       "    .dataframe thead th {\n",
       "        text-align: right;\n",
       "    }\n",
       "</style>\n",
       "<table border=\"1\" class=\"dataframe\">\n",
       "  <thead>\n",
       "    <tr style=\"text-align: right;\">\n",
       "      <th></th>\n",
       "      <th>recipe</th>\n",
       "      <th>rack_position</th>\n",
       "      <th>temp</th>\n",
       "      <th>taste_score</th>\n",
       "    </tr>\n",
       "  </thead>\n",
       "  <tbody>\n",
       "    <tr>\n",
       "      <th>26</th>\n",
       "      <td>b</td>\n",
       "      <td>bottom</td>\n",
       "      <td>300</td>\n",
       "      <td>99.248541</td>\n",
       "    </tr>\n",
       "  </tbody>\n",
       "</table>\n",
       "</div>"
      ],
      "text/plain": [
       "   recipe rack_position temp  taste_score\n",
       "26      b        bottom  300    99.248541"
      ]
     },
     "execution_count": 143,
     "metadata": {},
     "output_type": "execute_result"
    }
   ],
   "source": [
    "df_cake_melt[df_cake_melt.taste_score == best_combo] "
   ]
  },
  {
   "cell_type": "markdown",
   "id": "4457ceb8",
   "metadata": {},
   "source": [
    "#### # Best Combo is Recipe B, cooked in the bottom rack at 300 degrees"
   ]
  }
 ],
 "metadata": {
  "kernelspec": {
   "display_name": "Python 3",
   "language": "python",
   "name": "python3"
  },
  "language_info": {
   "codemirror_mode": {
    "name": "ipython",
    "version": 3
   },
   "file_extension": ".py",
   "mimetype": "text/x-python",
   "name": "python",
   "nbconvert_exporter": "python",
   "pygments_lexer": "ipython3",
   "version": "3.8.8"
  }
 },
 "nbformat": 4,
 "nbformat_minor": 5
}
