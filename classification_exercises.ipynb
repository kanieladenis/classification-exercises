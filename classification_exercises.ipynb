{
 "cells": [
  {
   "cell_type": "code",
   "execution_count": 1,
   "id": "0231708c",
   "metadata": {},
   "outputs": [],
   "source": [
    "import pandas as pd\n",
    "import numpy as np\n",
    "import scipy.stats as stats\n",
    "import seaborn as sns\n",
    "import matplotlib.pyplot as plt\n",
    "from pydataset import data\n",
    "from sklearn.model_selection import train_test_split\n",
    "import prepare\n",
    "\n",
    "np.random.seed(123)"
   ]
  },
  {
   "cell_type": "code",
   "execution_count": null,
   "id": "84046495",
   "metadata": {},
   "outputs": [],
   "source": [
    "df_iris = data('iris')\n",
    "df_iris.head()"
   ]
  },
  {
   "cell_type": "markdown",
   "id": "e486283a",
   "metadata": {},
   "source": [
    "# 4) Iris Data"
   ]
  },
  {
   "cell_type": "markdown",
   "id": "cdef48b2",
   "metadata": {},
   "source": [
    "## print the first 3 rows"
   ]
  },
  {
   "cell_type": "code",
   "execution_count": null,
   "id": "8434a023",
   "metadata": {},
   "outputs": [],
   "source": [
    "df_iris.head(3)"
   ]
  },
  {
   "cell_type": "markdown",
   "id": "31eda265",
   "metadata": {},
   "source": [
    "## print the number of rows and columns (shape)"
   ]
  },
  {
   "cell_type": "code",
   "execution_count": null,
   "id": "0325fc3c",
   "metadata": {},
   "outputs": [],
   "source": [
    "df_iris.shape"
   ]
  },
  {
   "cell_type": "markdown",
   "id": "477e072c",
   "metadata": {},
   "source": [
    "## print the column names"
   ]
  },
  {
   "cell_type": "code",
   "execution_count": null,
   "id": "51e4641c",
   "metadata": {},
   "outputs": [],
   "source": [
    "df_iris.columns"
   ]
  },
  {
   "cell_type": "markdown",
   "id": "f96d1e5c",
   "metadata": {},
   "source": [
    "## print the data type of each column"
   ]
  },
  {
   "cell_type": "code",
   "execution_count": null,
   "id": "7ca06899",
   "metadata": {},
   "outputs": [],
   "source": [
    "df_iris.dtypes"
   ]
  },
  {
   "cell_type": "markdown",
   "id": "0b361549",
   "metadata": {},
   "source": [
    "## print the summary statistics for each of the numeric variables. Would you recommend rescaling the data based on these statistics"
   ]
  },
  {
   "cell_type": "code",
   "execution_count": null,
   "id": "0b6628f6",
   "metadata": {},
   "outputs": [],
   "source": [
    "df_iris.describe() # No Recommendation to rescale"
   ]
  },
  {
   "cell_type": "markdown",
   "id": "3f4bab49",
   "metadata": {},
   "source": [
    "# 5) Table1_CustDetails table from the Excel_Exercises.xlsx file into a dataframe named df_excel."
   ]
  },
  {
   "cell_type": "code",
   "execution_count": null,
   "id": "0ff621a6",
   "metadata": {},
   "outputs": [],
   "source": [
    "df_excel = pd.read_excel('telco_churn.xlsx')\n",
    "df_excel"
   ]
  },
  {
   "cell_type": "markdown",
   "id": "187ade0c",
   "metadata": {},
   "source": [
    "## assign the first 100 rows to a new dataframe, df_excel_sample"
   ]
  },
  {
   "cell_type": "code",
   "execution_count": null,
   "id": "d03e4703",
   "metadata": {},
   "outputs": [],
   "source": [
    "df_excel_sample = df_excel.head(100)\n",
    "df_excel_sample.shape"
   ]
  },
  {
   "cell_type": "markdown",
   "id": "007c44e3",
   "metadata": {},
   "source": [
    "## print the number of rows of your original dataframe"
   ]
  },
  {
   "cell_type": "code",
   "execution_count": null,
   "id": "63465ecc",
   "metadata": {},
   "outputs": [],
   "source": [
    "df_excel.shape[0]"
   ]
  },
  {
   "cell_type": "markdown",
   "id": "7e086b1f",
   "metadata": {},
   "source": [
    "## print the first 5 column names"
   ]
  },
  {
   "cell_type": "code",
   "execution_count": null,
   "id": "fa93f45a",
   "metadata": {},
   "outputs": [],
   "source": [
    "df_excel.columns[0:5]"
   ]
  },
  {
   "cell_type": "markdown",
   "id": "72256635",
   "metadata": {},
   "source": [
    "## print the column names that have a data type of object"
   ]
  },
  {
   "cell_type": "code",
   "execution_count": null,
   "id": "2e3dc625",
   "metadata": {},
   "outputs": [],
   "source": [
    "df_excel.select_dtypes(include='object').columns\n"
   ]
  },
  {
   "cell_type": "markdown",
   "id": "878a8f50",
   "metadata": {},
   "source": [
    "## compute the range for each of the numeric variables."
   ]
  },
  {
   "cell_type": "code",
   "execution_count": null,
   "id": "ad2bc600",
   "metadata": {},
   "outputs": [],
   "source": [
    "df_excel.monthly_charges.max() - df_excel.monthly_charges.min()"
   ]
  },
  {
   "cell_type": "code",
   "execution_count": null,
   "id": "533b21a3",
   "metadata": {},
   "outputs": [],
   "source": [
    "df_excel.total_charges.max() - df_excel.total_charges.min()"
   ]
  },
  {
   "cell_type": "markdown",
   "id": "e43dcd07",
   "metadata": {},
   "source": [
    "# 6) Read the data from this google sheet into a dataframe, df_google"
   ]
  },
  {
   "cell_type": "code",
   "execution_count": null,
   "id": "57a595c5",
   "metadata": {},
   "outputs": [],
   "source": [
    "sheet_url = 'https://docs.google.com/spreadsheets/d/1Uhtml8KY19LILuZsrDtlsHHDC9wuDGUSe8LTEwvdI5g/edit#gid=341089357'"
   ]
  },
  {
   "cell_type": "code",
   "execution_count": null,
   "id": "926c6bf7",
   "metadata": {},
   "outputs": [],
   "source": [
    "csv_export_url = sheet_url.replace('/edit#gid=', '/export?format=csv&gid=')\n",
    "csv_export_url"
   ]
  },
  {
   "cell_type": "code",
   "execution_count": null,
   "id": "7e6a4d49",
   "metadata": {},
   "outputs": [],
   "source": [
    "df_googlesheet = pd.read_csv(csv_export_url)"
   ]
  },
  {
   "cell_type": "code",
   "execution_count": null,
   "id": "a55489a1",
   "metadata": {},
   "outputs": [],
   "source": [
    "df_googlesheet.head()"
   ]
  },
  {
   "cell_type": "markdown",
   "id": "7d68611e",
   "metadata": {},
   "source": [
    "## print the first 3 rows"
   ]
  },
  {
   "cell_type": "code",
   "execution_count": null,
   "id": "70432e2e",
   "metadata": {},
   "outputs": [],
   "source": [
    "df_googlesheet.head(3)"
   ]
  },
  {
   "cell_type": "markdown",
   "id": "757aec24",
   "metadata": {},
   "source": [
    "## print the number of rows and columns"
   ]
  },
  {
   "cell_type": "code",
   "execution_count": null,
   "id": "053a62d0",
   "metadata": {},
   "outputs": [],
   "source": [
    "df_googlesheet.shape"
   ]
  },
  {
   "cell_type": "markdown",
   "id": "dd70f944",
   "metadata": {},
   "source": [
    "## print the column names"
   ]
  },
  {
   "cell_type": "code",
   "execution_count": null,
   "id": "a631f40b",
   "metadata": {},
   "outputs": [],
   "source": [
    "df_googlesheet.columns"
   ]
  },
  {
   "cell_type": "markdown",
   "id": "5bfa2730",
   "metadata": {},
   "source": [
    "## print the data type of each column"
   ]
  },
  {
   "cell_type": "code",
   "execution_count": null,
   "id": "a204a78f",
   "metadata": {},
   "outputs": [],
   "source": [
    "df_googlesheet.dtypes"
   ]
  },
  {
   "cell_type": "markdown",
   "id": "82be5a42",
   "metadata": {},
   "source": [
    "## print the summary statistics for each of the numeric variables"
   ]
  },
  {
   "cell_type": "code",
   "execution_count": null,
   "id": "b51586c0",
   "metadata": {},
   "outputs": [],
   "source": [
    "df_googlesheet.describe()"
   ]
  },
  {
   "cell_type": "markdown",
   "id": "75d41b2e",
   "metadata": {},
   "source": [
    "## print the unique values for each of your categorical variables"
   ]
  },
  {
   "cell_type": "code",
   "execution_count": null,
   "id": "ff85b178",
   "metadata": {},
   "outputs": [],
   "source": [
    "for col in df_googlesheet.columns:\n",
    "    if df_googlesheet[col].dtypes == 'object':\n",
    "        print(f'{col} has {df_googlesheet[col].nunique()} unique values')"
   ]
  },
  {
   "cell_type": "code",
   "execution_count": null,
   "id": "dfd45107",
   "metadata": {},
   "outputs": [],
   "source": [
    "df_googlesheet.Sex.value_counts()"
   ]
  },
  {
   "cell_type": "code",
   "execution_count": null,
   "id": "9f9c2601",
   "metadata": {},
   "outputs": [],
   "source": [
    "df_googlesheet.Pclass.value_counts()"
   ]
  },
  {
   "cell_type": "code",
   "execution_count": null,
   "id": "da1057a7",
   "metadata": {},
   "outputs": [],
   "source": [
    "df_googlesheet.Survived.value_counts()"
   ]
  },
  {
   "cell_type": "markdown",
   "id": "ca368253",
   "metadata": {},
   "source": [
    "# Data Aquisition Functions -> acquire.py"
   ]
  },
  {
   "cell_type": "markdown",
   "id": "ffca76c5",
   "metadata": {},
   "source": [
    "## 1) Make a function named get_titanic_data that returns the titanic data from the codeup data science database as a pandas data frame. Obtain your data from the Codeup Data Science Database."
   ]
  },
  {
   "cell_type": "code",
   "execution_count": null,
   "id": "d862cf70",
   "metadata": {},
   "outputs": [],
   "source": [
    "def get_connection(db_name):\n",
    "    from env import host, user, password\n",
    "    return f'mysql+pymysql://{user}:{password}@{host}/{db_name}'"
   ]
  },
  {
   "cell_type": "code",
   "execution_count": null,
   "id": "c314ac7a",
   "metadata": {},
   "outputs": [],
   "source": [
    "df_titanic = pd.read_sql('SELECT * FROM passengers', get_connection('titanic_db'))\n",
    "df_titanic.head()"
   ]
  },
  {
   "cell_type": "code",
   "execution_count": null,
   "id": "ce72c9d5",
   "metadata": {},
   "outputs": [],
   "source": [
    "def get_titanic_data():\n",
    "    return pd.read_sql('SELECT * FROM passengers', get_connection('titanic_db'))"
   ]
  },
  {
   "cell_type": "markdown",
   "id": "83084811",
   "metadata": {},
   "source": [
    "## 2) Make a function named get_iris_data that returns the data from the iris_db on the codeup data science database as a pandas data frame. The returned data frame should include the actual name of the species in addition to the species_ids. Obtain your data from the Codeup Data Science Database."
   ]
  },
  {
   "cell_type": "code",
   "execution_count": null,
   "id": "28d2f154",
   "metadata": {
    "scrolled": true
   },
   "outputs": [],
   "source": [
    "df_iris = pd.read_sql('SELECT * FROM species JOIN measurements USING (species_id)', get_connection('iris_db'))\n",
    "df_iris.head()"
   ]
  },
  {
   "cell_type": "code",
   "execution_count": null,
   "id": "b972fa22",
   "metadata": {},
   "outputs": [],
   "source": [
    "def get_iris_data():\n",
    "    return pd.read_sql('SELECT * FROM species JOIN measurements USING (species_id)', get_connection('iris_db'))"
   ]
  },
  {
   "cell_type": "markdown",
   "id": "e384dc51",
   "metadata": {},
   "source": [
    "## 3) Make a function named get_telco_data"
   ]
  },
  {
   "cell_type": "code",
   "execution_count": null,
   "id": "6cf3b848",
   "metadata": {},
   "outputs": [],
   "source": [
    "df_telco = pd.read_sql('''SELECT * FROM customers c\n",
    "                       JOIN contract_types ct ON ct.contract_type_id=c.contract_type_id\n",
    "                       JOIN internet_service_types ist ON ist.internet_service_type_id=c.internet_service_type_id\n",
    "                       JOIN payment_types pt ON pt.payment_type_id=c.payment_type_id\n",
    "                       '''\n",
    "                       , get_connection('telco_churn'))\n",
    "df_telco.head()"
   ]
  },
  {
   "cell_type": "code",
   "execution_count": null,
   "id": "f61dba36",
   "metadata": {},
   "outputs": [],
   "source": [
    "def get_telco_data():\n",
    "    sql = '''SELECT * FROM customers c\n",
    "                       JOIN contract_types ct ON ct.contract_type_id=c.contract_type_id\n",
    "                       JOIN internet_service_types ist ON ist.internet_service_type_id=c.internet_service_type_id\n",
    "                       JOIN payment_types pt ON pt.payment_type_id=c.payment_type_id\n",
    "                       '''\n",
    "    url = get_connection('telco_churn')\n",
    "    return pd.read_sql(sql, url)"
   ]
  },
  {
   "cell_type": "markdown",
   "id": "a0eaa61c",
   "metadata": {},
   "source": [
    "# 4) Add caching to Functions. "
   ]
  },
  {
   "cell_type": "code",
   "execution_count": null,
   "id": "a296fe38",
   "metadata": {},
   "outputs": [],
   "source": [
    "def get_titanic_data():\n",
    "    import os\n",
    "    file_name = 'titanic.csv'\n",
    "    if os.path.isfile(file_name): # checks if file exist\n",
    "        df = pd.read_csv(file_name) # assigns df to read on return\n",
    "    else:\n",
    "        sql = '''\n",
    "        'SELECT * FROM passengers'\n",
    "        '''\n",
    "        url = get_connection('titanic_db')\n",
    "        df = pd.read_sql(sql, url) #creates df\n",
    "        df.to_csv(file_name) # converts df to csv file\n",
    "    return df"
   ]
  },
  {
   "cell_type": "code",
   "execution_count": null,
   "id": "56f81030",
   "metadata": {},
   "outputs": [],
   "source": [
    "get_titanic_data().head()"
   ]
  },
  {
   "cell_type": "code",
   "execution_count": null,
   "id": "2531d8e8",
   "metadata": {},
   "outputs": [],
   "source": [
    "def get_iris_data():\n",
    "    import os\n",
    "    file_name = 'iris.csv'\n",
    "    if os.path.isfile(file_name):\n",
    "        df = pd.read_csv(file_name)\n",
    "    else:\n",
    "        sql = '''\n",
    "        SELECT * FROM species \n",
    "        JOIN measurements USING (species_id)\n",
    "        '''\n",
    "        url = get_connection('iris_db')\n",
    "        df = pd.read_sql(sql,url)\n",
    "        df.to_csv(file_name)\n",
    "    return df"
   ]
  },
  {
   "cell_type": "code",
   "execution_count": null,
   "id": "84a52540",
   "metadata": {},
   "outputs": [],
   "source": [
    "get_iris_data().head()"
   ]
  },
  {
   "cell_type": "code",
   "execution_count": null,
   "id": "3f89d49f",
   "metadata": {},
   "outputs": [],
   "source": [
    "def get_telco_data():\n",
    "    import os\n",
    "    file_name = 'telco.csv'\n",
    "    if os.path.isfile(file_name):\n",
    "        df = pd.read_csv(file_name)\n",
    "    else:\n",
    "        sql = '''\n",
    "        SELECT * FROM customers c\n",
    "        JOIN contract_types ct ON ct.contract_type_id=c.contract_type_id\n",
    "        JOIN internet_service_types ist ON ist.internet_service_type_id=c.internet_service_type_id\n",
    "        JOIN payment_types pt ON pt.payment_type_id=c.payment_type_id\n",
    "        '''\n",
    "        url = get_connection('telco_churn')\n",
    "        df = pd.read_sql(sql, url)\n",
    "        df.to_csv(file_name)\n",
    "    return df"
   ]
  },
  {
   "cell_type": "code",
   "execution_count": null,
   "id": "91bc7e17",
   "metadata": {},
   "outputs": [],
   "source": [
    "get_telco_data().head()"
   ]
  },
  {
   "cell_type": "markdown",
   "id": "0de4ba8c",
   "metadata": {},
   "source": [
    "# Data Prep Exercises"
   ]
  },
  {
   "cell_type": "code",
   "execution_count": null,
   "id": "6582610b",
   "metadata": {},
   "outputs": [],
   "source": [
    "import pandas as pd\n",
    "import numpy as np\n",
    "import matplotlib.pyplot as plt\n",
    "\n",
    "# import splitting and imputing functions\n",
    "from sklearn.model_selection import train_test_split\n",
    "from sklearn.impute import SimpleImputer\n",
    "\n",
    "# turn off pink boxes for demo\n",
    "import warnings\n",
    "warnings.filterwarnings(\"ignore\")\n",
    "\n",
    "# import our own acquire moduleimport acquire"
   ]
  },
  {
   "cell_type": "markdown",
   "id": "55a86740",
   "metadata": {},
   "source": [
    "## Iris Data:"
   ]
  },
  {
   "cell_type": "markdown",
   "id": "e9b83289",
   "metadata": {},
   "source": [
    "### 1) Use the function defined in acquire.py to load the iris data."
   ]
  },
  {
   "cell_type": "code",
   "execution_count": null,
   "id": "5b2f2058",
   "metadata": {},
   "outputs": [],
   "source": [
    "import acquire\n",
    "df = acquire.get_iris_data()\n",
    "df.head()"
   ]
  },
  {
   "cell_type": "markdown",
   "id": "25cc7d55",
   "metadata": {},
   "source": [
    "### 2) Drop the species_id and measurement_id columns."
   ]
  },
  {
   "cell_type": "code",
   "execution_count": null,
   "id": "605f8156",
   "metadata": {},
   "outputs": [],
   "source": [
    "df = df.drop(columns=['species_id','measurement_id'])\n",
    "df"
   ]
  },
  {
   "cell_type": "markdown",
   "id": "67c9aef8",
   "metadata": {},
   "source": [
    "### 3) Rename the species_name column to just species."
   ]
  },
  {
   "cell_type": "code",
   "execution_count": null,
   "id": "e36fbb66",
   "metadata": {},
   "outputs": [],
   "source": [
    "df = df.rename(columns={'species_name':'species'})\n",
    "df.head()"
   ]
  },
  {
   "cell_type": "markdown",
   "id": "37ef438b",
   "metadata": {},
   "source": [
    "### 4) Create dummy variables of the species name and concatenate onto the iris dataframe"
   ]
  },
  {
   "cell_type": "code",
   "execution_count": null,
   "id": "31ba7adf",
   "metadata": {},
   "outputs": [],
   "source": [
    "df_species = pd.get_dummies(df.species, prefix='is')\n",
    "df = pd.concat([df, df_species], axis=1)\n",
    "df"
   ]
  },
  {
   "cell_type": "markdown",
   "id": "ded97ab2",
   "metadata": {},
   "source": [
    "### 5) Create a function named prep_iris that accepts the untransformed iris data, and returns the data with the transformations above applied."
   ]
  },
  {
   "cell_type": "code",
   "execution_count": null,
   "id": "fa7b7b04",
   "metadata": {},
   "outputs": [],
   "source": [
    "def prep_iris():\n",
    "    df = acquire.get_iris_data()\n",
    "    df = df.drop(columns=['species_id','measurement_id'])\n",
    "    df = df.rename(columns={'species_name':'species'})\n",
    "    df_species = pd.get_dummies(df.species, prefix='is')\n",
    "    df = pd.concat([df, df_species], axis=1)\n",
    "    return df"
   ]
  },
  {
   "cell_type": "markdown",
   "id": "d6d77a05",
   "metadata": {},
   "source": [
    "# Titanic Data"
   ]
  },
  {
   "cell_type": "markdown",
   "id": "82c6b41e",
   "metadata": {},
   "source": [
    "## 1) Use the function defined in acquire.py to load the Titanic data."
   ]
  },
  {
   "cell_type": "code",
   "execution_count": null,
   "id": "a35f1e6b",
   "metadata": {},
   "outputs": [],
   "source": [
    "import acquire\n",
    "df = acquire.get_titanic_data()\n",
    "df.head()"
   ]
  },
  {
   "cell_type": "markdown",
   "id": "07c134ef",
   "metadata": {},
   "source": [
    "## 2) Drop any unnecessary, unhelpful, or duplicated columns."
   ]
  },
  {
   "cell_type": "code",
   "execution_count": null,
   "id": "a4f35472",
   "metadata": {},
   "outputs": [],
   "source": [
    "drop_col = ['embarked','fare', 'class', 'deck', 'age']\n",
    "df = df.drop(columns = drop_col)\n",
    "df.head()"
   ]
  },
  {
   "cell_type": "markdown",
   "id": "42c2a7ec",
   "metadata": {},
   "source": [
    "## 3) Encode the categorical columns. Create dummy variables of the categorical columns and concatenate them onto the dataframe"
   ]
  },
  {
   "cell_type": "code",
   "execution_count": null,
   "id": "c12e7370",
   "metadata": {},
   "outputs": [],
   "source": [
    "df.info()"
   ]
  },
  {
   "cell_type": "code",
   "execution_count": null,
   "id": "0258cf4f",
   "metadata": {},
   "outputs": [],
   "source": [
    "obj_cols = df.columns[[df[col].dtypes == 'O' for col in df.columns]]\n",
    "for col in obj_cols:\n",
    "    print(df[col].value_counts())\n",
    "    print(df[col].value_counts(normalize=True, dropna=False))\n",
    "    print('-------------------------------')"
   ]
  },
  {
   "cell_type": "code",
   "execution_count": null,
   "id": "a2a25bd1",
   "metadata": {},
   "outputs": [],
   "source": [
    "df['embark_town'] = df.embark_town.fillna(value='Southampton')\n",
    "df.info()"
   ]
  },
  {
   "cell_type": "code",
   "execution_count": null,
   "id": "3e1e3415",
   "metadata": {},
   "outputs": [],
   "source": [
    "dummies_df = pd.get_dummies(df, columns = ['sex', 'embark_town'], drop_first=[True,True])\n",
    "dummies_df.info()"
   ]
  },
  {
   "cell_type": "code",
   "execution_count": null,
   "id": "a7e14425",
   "metadata": {},
   "outputs": [],
   "source": [
    "dummies_df.head()"
   ]
  },
  {
   "cell_type": "code",
   "execution_count": null,
   "id": "50bfec3c",
   "metadata": {},
   "outputs": [],
   "source": [
    "df = pd.concat([df,dummies_df], axis=1)\n",
    "df.head()"
   ]
  },
  {
   "cell_type": "markdown",
   "id": "98f3bb5d",
   "metadata": {},
   "source": [
    "## 4) Create a function named prep_titanic that accepts the raw titanic data, and returns the data with the transformations above applied."
   ]
  },
  {
   "cell_type": "code",
   "execution_count": null,
   "id": "4ea4e726",
   "metadata": {},
   "outputs": [],
   "source": [
    "def prep_titanic():\n",
    "    df = acquire.get_titanic_data()\n",
    "    drop_col = ['embarked','fare', 'class', 'deck', 'age']\n",
    "    df = df.drop(columns = drop_col)\n",
    "    df['embark_town'] = df.embark_town.fillna(value='Southampton')\n",
    "    dummies_df = pd.get_dummies(df, columns = ['sex', 'embark_town'], drop_first=[True,True])\n",
    "    df = pd.concat([df,dummies_df], axis=1)\n",
    "    return df\n",
    "    "
   ]
  },
  {
   "cell_type": "markdown",
   "id": "ed883a66",
   "metadata": {},
   "source": [
    "# Telco Data"
   ]
  },
  {
   "cell_type": "markdown",
   "id": "913021ee",
   "metadata": {},
   "source": [
    "## 1) Use the function defined in acquire.py to load the Telco data."
   ]
  },
  {
   "cell_type": "code",
   "execution_count": null,
   "id": "2380a9d6",
   "metadata": {},
   "outputs": [],
   "source": [
    "import acquire\n",
    "df = acquire.get_telco_data()\n",
    "df.head()"
   ]
  },
  {
   "cell_type": "markdown",
   "id": "a22e4800",
   "metadata": {},
   "source": [
    "## 2) Drop any unnecessary, unhelpful, or duplicated columns. This could mean dropping foreign key columns but keeping the corresponding string values, for example."
   ]
  },
  {
   "cell_type": "code",
   "execution_count": null,
   "id": "9daf4e21",
   "metadata": {},
   "outputs": [],
   "source": [
    "df.info()"
   ]
  },
  {
   "cell_type": "code",
   "execution_count": null,
   "id": "6021fbcd",
   "metadata": {},
   "outputs": [],
   "source": [
    "df.shape"
   ]
  },
  {
   "cell_type": "code",
   "execution_count": null,
   "id": "32b21cff",
   "metadata": {},
   "outputs": [],
   "source": [
    "df.duplicated().any()"
   ]
  },
  {
   "cell_type": "code",
   "execution_count": null,
   "id": "31a9cddd",
   "metadata": {},
   "outputs": [],
   "source": [
    "# check if columns are duplicated\n",
    "df.duplicated(subset=['internet_service_type_id','internet_service_type_id.1']).any()"
   ]
  },
  {
   "cell_type": "code",
   "execution_count": null,
   "id": "9ac0d4d9",
   "metadata": {},
   "outputs": [],
   "source": [
    "# check if columns are duplicated\n",
    "df.duplicated(subset=['contract_type_id','contract_type_id.1']).any()"
   ]
  },
  {
   "cell_type": "code",
   "execution_count": null,
   "id": "0b6265cd",
   "metadata": {},
   "outputs": [],
   "source": [
    "# check if columns are duplicated\n",
    "df.duplicated(subset=['payment_type_id','payment_type_id.1']).any()"
   ]
  },
  {
   "cell_type": "code",
   "execution_count": null,
   "id": "8f2df1a2",
   "metadata": {},
   "outputs": [],
   "source": [
    "drop_cols = ['internet_service_type_id',\n",
    "             'internet_service_type_id.1',\n",
    "             'contract_type_id',\n",
    "             'contract_type_id.1',\n",
    "             'payment_type_id',\n",
    "             'payment_type_id.1']"
   ]
  },
  {
   "cell_type": "code",
   "execution_count": null,
   "id": "e05c6911",
   "metadata": {},
   "outputs": [],
   "source": [
    "df = df.drop(columns=drop_cols)\n",
    "df.shape"
   ]
  },
  {
   "cell_type": "code",
   "execution_count": null,
   "id": "3631cdc8",
   "metadata": {},
   "outputs": [],
   "source": [
    "df.info()"
   ]
  },
  {
   "cell_type": "code",
   "execution_count": null,
   "id": "8c162302",
   "metadata": {},
   "outputs": [],
   "source": [
    "# shows 11 blank values\n",
    "df.total_charges.value_counts()"
   ]
  },
  {
   "cell_type": "code",
   "execution_count": null,
   "id": "c2a8cab7",
   "metadata": {},
   "outputs": [],
   "source": [
    "# show no na values\n",
    "df[df.total_charges.isna()]"
   ]
  },
  {
   "cell_type": "code",
   "execution_count": null,
   "id": "420238c2",
   "metadata": {},
   "outputs": [],
   "source": [
    "# shows no null values\n",
    "df[df.total_charges.isnull()]"
   ]
  },
  {
   "cell_type": "code",
   "execution_count": null,
   "id": "96bc803c",
   "metadata": {},
   "outputs": [],
   "source": [
    "# show total_charges with blank values\n",
    "df[df.total_charges == ' '].head()"
   ]
  },
  {
   "cell_type": "code",
   "execution_count": null,
   "id": "821f2eff",
   "metadata": {},
   "outputs": [],
   "source": [
    "# replace blank spaces with zeros\n",
    "df['total_charges'] = df.total_charges.replace(' ', '0')"
   ]
  },
  {
   "cell_type": "code",
   "execution_count": null,
   "id": "bb11c72b",
   "metadata": {},
   "outputs": [],
   "source": [
    "# confirmed no more blank values\n",
    "df[df.total_charges == ' ']"
   ]
  },
  {
   "cell_type": "code",
   "execution_count": null,
   "id": "6624c17e",
   "metadata": {},
   "outputs": [],
   "source": [
    "# convert total charges from object to float\n",
    "df.total_charges = df.total_charges.astype(float)"
   ]
  },
  {
   "cell_type": "code",
   "execution_count": null,
   "id": "6a66ad2c",
   "metadata": {},
   "outputs": [],
   "source": [
    "# confirmed change to float\n",
    "df.info()"
   ]
  },
  {
   "cell_type": "code",
   "execution_count": null,
   "id": "14ce1331",
   "metadata": {},
   "outputs": [],
   "source": [
    "obj_cols = df.columns[[df[col].dtypes == 'O' for col in df.columns]]\n",
    "obj_cols"
   ]
  },
  {
   "cell_type": "code",
   "execution_count": null,
   "id": "d3a49b06",
   "metadata": {},
   "outputs": [],
   "source": [
    "for col in obj_cols:\n",
    "    print(df[col].value_counts())\n",
    "    print(df[col].value_counts(normalize=True, dropna=False))\n",
    "    print('-------------------------------------')"
   ]
  },
  {
   "cell_type": "markdown",
   "id": "81ca781c",
   "metadata": {},
   "source": [
    "## 3) Encode the categorical columns. Create dummy variables of the categorical columns and concatenate them onto the dataframe."
   ]
  },
  {
   "cell_type": "code",
   "execution_count": null,
   "id": "e66051db",
   "metadata": {},
   "outputs": [],
   "source": [
    "df.columns.to_list()"
   ]
  },
  {
   "cell_type": "code",
   "execution_count": null,
   "id": "185cc0dd",
   "metadata": {},
   "outputs": [],
   "source": [
    "# identified columns to encode and assigned to variable\n",
    "dummies_cols = [\n",
    " 'gender',\n",
    " 'senior_citizen',\n",
    " 'partner',\n",
    " 'dependents',\n",
    " 'phone_service',\n",
    " 'multiple_lines',\n",
    " 'online_security',\n",
    " 'online_backup',\n",
    " 'device_protection',\n",
    " 'tech_support',\n",
    " 'streaming_tv',\n",
    " 'streaming_movies',\n",
    " 'paperless_billing',\n",
    " 'churn',\n",
    " 'contract_type',\n",
    " 'internet_service_type',\n",
    " 'payment_type']"
   ]
  },
  {
   "cell_type": "code",
   "execution_count": null,
   "id": "196142bb",
   "metadata": {},
   "outputs": [],
   "source": [
    "# performed get_dummmies function to create dummy variables\n",
    "dummies_df = pd.get_dummies(df[dummies_cols], drop_first=True)\n",
    "dummies_df.columns.to_list()"
   ]
  },
  {
   "cell_type": "code",
   "execution_count": null,
   "id": "1b982087",
   "metadata": {},
   "outputs": [],
   "source": [
    "# concat fd with new dummy variable columns\n",
    "df = pd.concat([df, dummies_df], axis=1)\n",
    "df.columns.to_list()"
   ]
  },
  {
   "cell_type": "markdown",
   "id": "9a122fb8",
   "metadata": {},
   "source": [
    "## 4) Create a function named prep_telco that accepts the raw telco data, and returns the data with the transformations above applied."
   ]
  },
  {
   "cell_type": "code",
   "execution_count": null,
   "id": "41e00136",
   "metadata": {},
   "outputs": [],
   "source": [
    "def prep_telco():\n",
    "    df = acquire.get_telco_data()\n",
    "    # id cols to drop\n",
    "    drop_cols = ['internet_service_type_id',\n",
    "             'internet_service_type_id.1',\n",
    "             'contract_type_id',\n",
    "             'contract_type_id.1',\n",
    "             'payment_type_id',\n",
    "             'payment_type_id.1']\n",
    "    # drop columns\n",
    "    df = df.drop(columns=drop_cols)\n",
    "    # replace blank spaces with zeros\n",
    "    df['total_charges'] = df.total_charges.replace(' ', '0')\n",
    "    # convert total charges from object to float\n",
    "    df.total_charges = df.total_charges.astype(float)\n",
    "    # id columns for dummy variables\n",
    "    dummies_cols = [\n",
    " 'gender',\n",
    " 'senior_citizen',\n",
    " 'partner',\n",
    " 'dependents',\n",
    " 'phone_service',\n",
    " 'multiple_lines',\n",
    " 'online_security',\n",
    " 'online_backup',\n",
    " 'device_protection',\n",
    " 'tech_support',\n",
    " 'streaming_tv',\n",
    " 'streaming_movies',\n",
    " 'paperless_billing',\n",
    " 'churn',\n",
    " 'contract_type',\n",
    " 'internet_service_type',\n",
    " 'payment_type']\n",
    "    # creaet dummy variables and assign to variable\n",
    "    dummies_df = pd.get_dummies(df[dummies_cols], drop_first=True)\n",
    "    # concat df with dummy variable columns\n",
    "    df = pd.concat([df, dummies_df], axis=1)\n",
    "    return df\n",
    "    "
   ]
  },
  {
   "cell_type": "code",
   "execution_count": null,
   "id": "34f726ee",
   "metadata": {},
   "outputs": [],
   "source": [
    "prep_telco()"
   ]
  },
  {
   "cell_type": "code",
   "execution_count": null,
   "id": "38de6aee",
   "metadata": {},
   "outputs": [],
   "source": [
    "### created prepare.py file"
   ]
  },
  {
   "cell_type": "markdown",
   "id": "b944ee95",
   "metadata": {},
   "source": [
    "# Split Data"
   ]
  },
  {
   "cell_type": "code",
   "execution_count": null,
   "id": "52a8a881",
   "metadata": {},
   "outputs": [],
   "source": [
    "from sklearn.model_selection import train_test_split"
   ]
  },
  {
   "cell_type": "code",
   "execution_count": null,
   "id": "be3f8eae",
   "metadata": {},
   "outputs": [],
   "source": [
    "df = prepare.prep_titanic()\n",
    "df.head()"
   ]
  },
  {
   "cell_type": "code",
   "execution_count": null,
   "id": "da53204f",
   "metadata": {},
   "outputs": [],
   "source": [
    "def split_titanic(df):\n",
    "    train_validate, test = train_test_split(df, \n",
    "                                             test_size=.2, \n",
    "                                             random_state=123, \n",
    "                                             stratify=df.survived)\n",
    "    train, validate = train_test_split(train_validate,\n",
    "                                      test_size=.3,\n",
    "                                      random_state=123,\n",
    "                                      stratify=train_validate.survived)\n",
    "    return train, validate, test"
   ]
  },
  {
   "cell_type": "code",
   "execution_count": null,
   "id": "6696fed2",
   "metadata": {},
   "outputs": [],
   "source": [
    "# assign split portions to variables for print\n",
    "train, validate, test = split_titanic(df)"
   ]
  },
  {
   "cell_type": "code",
   "execution_count": null,
   "id": "615b139d",
   "metadata": {},
   "outputs": [],
   "source": [
    "# print to validate the split\n",
    "print(f'train -> {train.shape}')\n",
    "print(f'validate -> {validate.shape}')\n",
    "print(f'test -> {test.shape}')\n"
   ]
  },
  {
   "cell_type": "code",
   "execution_count": null,
   "id": "00111464",
   "metadata": {},
   "outputs": [],
   "source": [
    "df = prepare.prep_iris()\n",
    "df"
   ]
  },
  {
   "cell_type": "code",
   "execution_count": null,
   "id": "d21f3770",
   "metadata": {},
   "outputs": [],
   "source": [
    "def split_iris(df):\n",
    "    train_validate, test = train_test_split(df, \n",
    "                                             test_size=.2, \n",
    "                                             random_state=123, \n",
    "                                             stratify=df.species)\n",
    "    train, validate = train_test_split(train_validate,\n",
    "                                      test_size=.3,\n",
    "                                      random_state=123,\n",
    "                                      stratify=train_validate.species)\n",
    "    return train, validate, test"
   ]
  },
  {
   "cell_type": "code",
   "execution_count": null,
   "id": "0b813a63",
   "metadata": {},
   "outputs": [],
   "source": [
    "# assign split portions to variables for print\n",
    "train, validate, test = split_iris(df)"
   ]
  },
  {
   "cell_type": "code",
   "execution_count": null,
   "id": "2c518159",
   "metadata": {},
   "outputs": [],
   "source": [
    "# print to validate the split\n",
    "print(f'train -> {train.shape}')\n",
    "print(f'validate -> {validate.shape}')\n",
    "print(f'test -> {test.shape}')"
   ]
  },
  {
   "cell_type": "code",
   "execution_count": null,
   "id": "e7594b85",
   "metadata": {},
   "outputs": [],
   "source": [
    "df = prepare.prep_telco()\n",
    "df.head()"
   ]
  },
  {
   "cell_type": "code",
   "execution_count": null,
   "id": "8027781a",
   "metadata": {},
   "outputs": [],
   "source": [
    "def split_telco(df):\n",
    "    train_validate, test = train_test_split(df, \n",
    "                                             test_size=.2, \n",
    "                                             random_state=123, \n",
    "                                             stratify=df.churn)\n",
    "    train, validate = train_test_split(train_validate,\n",
    "                                      test_size=.3,\n",
    "                                      random_state=123,\n",
    "                                      stratify=train_validate.churn)\n",
    "    return train, validate, test"
   ]
  },
  {
   "cell_type": "code",
   "execution_count": null,
   "id": "fe4fca93",
   "metadata": {},
   "outputs": [],
   "source": [
    "# assign split portions to variables for print\n",
    "train, validate, test = split_telco(df)"
   ]
  },
  {
   "cell_type": "code",
   "execution_count": null,
   "id": "74d2cf21",
   "metadata": {},
   "outputs": [],
   "source": [
    "# print to validate the split\n",
    "print(f'train -> {train.shape}')\n",
    "print(f'validate -> {validate.shape}')\n",
    "print(f'test -> {test.shape}')"
   ]
  },
  {
   "cell_type": "markdown",
   "id": "a67a81f0",
   "metadata": {},
   "source": [
    "# Exploratory Analysis"
   ]
  },
  {
   "cell_type": "markdown",
   "id": "0dd8b0c4",
   "metadata": {},
   "source": [
    "## Exercise I - Explore Iris Data"
   ]
  },
  {
   "cell_type": "markdown",
   "id": "f61833f2",
   "metadata": {},
   "source": [
    "### 1) Acquire, prepare & split your data."
   ]
  },
  {
   "cell_type": "code",
   "execution_count": null,
   "id": "9228489d",
   "metadata": {},
   "outputs": [],
   "source": [
    "import prepare"
   ]
  },
  {
   "cell_type": "code",
   "execution_count": null,
   "id": "89b19778",
   "metadata": {},
   "outputs": [],
   "source": [
    "df = prepare.prep_iris()\n",
    "df.head()"
   ]
  },
  {
   "cell_type": "code",
   "execution_count": null,
   "id": "4b3189ac",
   "metadata": {},
   "outputs": [],
   "source": [
    "train, validate, test = prepare.split_iris(df)"
   ]
  },
  {
   "cell_type": "code",
   "execution_count": null,
   "id": "5dc0dfbe",
   "metadata": {},
   "outputs": [],
   "source": [
    "print(f'train -> {train.shape}')\n",
    "print(f'validate -> {validate.shape}')\n",
    "print(f'test -> {test.shape}')"
   ]
  },
  {
   "cell_type": "code",
   "execution_count": null,
   "id": "c2a23b6f",
   "metadata": {},
   "outputs": [],
   "source": [
    "train.info()"
   ]
  },
  {
   "cell_type": "markdown",
   "id": "15fa9b92",
   "metadata": {},
   "source": [
    "### 2) Univariate Stats"
   ]
  },
  {
   "cell_type": "markdown",
   "id": "818c0f50",
   "metadata": {},
   "source": [
    "- 1) For each measurement type (quantitative variable): create a histogram, boxplot, & compute descriptive statistics (using .describe())."
   ]
  },
  {
   "cell_type": "code",
   "execution_count": null,
   "id": "0892252e",
   "metadata": {
    "scrolled": true
   },
   "outputs": [],
   "source": [
    "train.columns.to_list()"
   ]
  },
  {
   "cell_type": "code",
   "execution_count": null,
   "id": "14d2cb4a",
   "metadata": {},
   "outputs": [],
   "source": [
    "# id columns to keep\n",
    "cols_counts = ['sepal_length',\n",
    " 'sepal_width',\n",
    " 'petal_length',\n",
    " 'petal_width',]"
   ]
  },
  {
   "cell_type": "code",
   "execution_count": null,
   "id": "2e6151ea",
   "metadata": {},
   "outputs": [],
   "source": [
    "# create subset of train df\n",
    "train_cols = train[cols_counts]\n",
    "train_cols.head()"
   ]
  },
  {
   "cell_type": "code",
   "execution_count": null,
   "id": "c2d76c35",
   "metadata": {},
   "outputs": [],
   "source": [
    "# create histograms for each column id'd\n",
    "for col in train_cols:\n",
    "    plt.hist(train_cols[col])\n",
    "    plt.title(col)\n",
    "    plt.show()"
   ]
  },
  {
   "cell_type": "code",
   "execution_count": null,
   "id": "8d1965a5",
   "metadata": {},
   "outputs": [],
   "source": [
    "# create boxplot for each column id'd\n",
    "for col in train_cols:\n",
    "    plt.boxplot(train_cols[col])\n",
    "    plt.title(col)\n",
    "    plt.show()"
   ]
  },
  {
   "cell_type": "code",
   "execution_count": null,
   "id": "8c8d151b",
   "metadata": {},
   "outputs": [],
   "source": [
    "# compute descriptive statistics for columns id'\n",
    "train_cols.describe()"
   ]
  },
  {
   "cell_type": "markdown",
   "id": "b239b70c",
   "metadata": {},
   "source": [
    "- 2) For each species (categorical variable): create a frequency table and a bar plot of those frequencies"
   ]
  },
  {
   "cell_type": "code",
   "execution_count": null,
   "id": "4f743c3c",
   "metadata": {},
   "outputs": [],
   "source": [
    "train_setosa = train[train.species == 'setosa']\n",
    "train_setosa = train_setosa[['sepal_width', 'sepal_length', 'petal_width', 'petal_length']]\n",
    "train_setosa.value_counts()"
   ]
  },
  {
   "cell_type": "code",
   "execution_count": null,
   "id": "acf6b69c",
   "metadata": {},
   "outputs": [],
   "source": [
    "sns.barplot(data=train_setosa)\n",
    "plt.title('Setosa Sepal Measurements Larger than Petal Measurment')"
   ]
  },
  {
   "cell_type": "code",
   "execution_count": null,
   "id": "424b4a94",
   "metadata": {},
   "outputs": [],
   "source": [
    "train.species.value_counts()"
   ]
  },
  {
   "cell_type": "code",
   "execution_count": null,
   "id": "1ebe270f",
   "metadata": {},
   "outputs": [],
   "source": [
    "train_virginica = train[train.species == 'virginica']\n",
    "train_virginica = train_virginica[['sepal_width', 'sepal_length', 'petal_width', 'petal_length']]\n",
    "train_virginica.head()"
   ]
  },
  {
   "cell_type": "code",
   "execution_count": null,
   "id": "7dbf39ff",
   "metadata": {},
   "outputs": [],
   "source": [
    "sns.barplot(data=train_virginica)\n",
    "plt.title('Virginica Lengths Larger than Widths')"
   ]
  },
  {
   "cell_type": "code",
   "execution_count": null,
   "id": "583875bb",
   "metadata": {},
   "outputs": [],
   "source": [
    "train_versicolor = train[train.species == 'versicolor']\n",
    "train_versicolor = train_versicolor[['sepal_width', 'sepal_length', 'petal_width', 'petal_length']]\n",
    "train_versicolor.head()"
   ]
  },
  {
   "cell_type": "code",
   "execution_count": null,
   "id": "4bdd4677",
   "metadata": {},
   "outputs": [],
   "source": [
    "sns.barplot(data=train_versicolor)\n",
    "plt.title('Versicolor Lengths are Larger than Widths')"
   ]
  },
  {
   "cell_type": "markdown",
   "id": "144ef767",
   "metadata": {},
   "source": [
    "- 3) Document takeaways & any actions.\n",
    "* sepal_width has one outlier\n",
    "* Setosa Sepal Measurements Larger than Petal Measurment\n",
    "* Virginica Lengths Larger than Widths\n",
    "* Versicolor Lengths are Larger than Widths"
   ]
  },
  {
   "cell_type": "markdown",
   "id": "65571467",
   "metadata": {},
   "source": [
    "### 3) Bivariate Stats"
   ]
  },
  {
   "cell_type": "markdown",
   "id": "773f588a",
   "metadata": {},
   "source": [
    "- 1) Visualize each measurement type (y-axis) with the species variable (x-axis) using barplots, adding a horizontal line showing the overall mean of the metric (y-axis)."
   ]
  },
  {
   "cell_type": "code",
   "execution_count": null,
   "id": "2bd4db16",
   "metadata": {},
   "outputs": [],
   "source": [
    "cols_used = ['species',\n",
    " 'sepal_length',\n",
    " 'sepal_width',\n",
    " 'petal_length',\n",
    " 'petal_width']"
   ]
  },
  {
   "cell_type": "code",
   "execution_count": null,
   "id": "e99b0caa",
   "metadata": {},
   "outputs": [],
   "source": [
    "train_cols = train[cols_used]\n",
    "train_cols.head()"
   ]
  },
  {
   "cell_type": "code",
   "execution_count": null,
   "id": "727d15f6",
   "metadata": {},
   "outputs": [],
   "source": [
    "sns.barplot(x='species', y='sepal_length', data=train_cols)\n",
    "sepal_length_mean = train_cols.sepal_length.mean()\n",
    "plt.axhline(sepal_length_mean, label='Sepal Length Mean')\n",
    "plt.legend()\n",
    "plt.show()"
   ]
  },
  {
   "cell_type": "code",
   "execution_count": null,
   "id": "1a758359",
   "metadata": {},
   "outputs": [],
   "source": [
    "sns.barplot(x='species', y='sepal_width', data=train_cols)\n",
    "sepal_width_mean = train_cols.sepal_width.mean()\n",
    "plt.axhline(sepal_width_mean, label='Sepal Width Mean')\n",
    "plt.legend()\n",
    "plt.show()"
   ]
  },
  {
   "cell_type": "code",
   "execution_count": null,
   "id": "5a499070",
   "metadata": {},
   "outputs": [],
   "source": [
    "sns.barplot(x='species', y='petal_length', data=train_cols)\n",
    "petal_length_mean = train_cols.petal_length.mean()\n",
    "plt.axhline(petal_length_mean, label='Petal Length Mean')\n",
    "plt.legend()\n",
    "plt.show()"
   ]
  },
  {
   "cell_type": "code",
   "execution_count": null,
   "id": "a37e0fe7",
   "metadata": {},
   "outputs": [],
   "source": [
    "sns.barplot(x='species', y='petal_width', data=train_cols)\n",
    "petal_width_mean = train_cols.petal_width.mean()\n",
    "plt.axhline(petal_width_mean, label='Petal Width Mean')\n",
    "plt.legend()\n",
    "plt.show()"
   ]
  },
  {
   "cell_type": "markdown",
   "id": "e12cd87b",
   "metadata": {},
   "source": [
    "- 2) For each measurement type, compute the descriptive statistics for each species."
   ]
  },
  {
   "cell_type": "code",
   "execution_count": null,
   "id": "921c1881",
   "metadata": {},
   "outputs": [],
   "source": [
    "train_setosa.describe()"
   ]
  },
  {
   "cell_type": "code",
   "execution_count": null,
   "id": "fe209073",
   "metadata": {},
   "outputs": [],
   "source": [
    "train_virginica.describe()"
   ]
  },
  {
   "cell_type": "code",
   "execution_count": null,
   "id": "092ee07d",
   "metadata": {},
   "outputs": [],
   "source": [
    "train_versicolor.describe()"
   ]
  },
  {
   "cell_type": "markdown",
   "id": "a07725b5",
   "metadata": {},
   "source": [
    "- 3) For virginica & versicolor: Compare the mean petal_width using the Mann-Whitney test (scipy.stats.mannwhitneyu) to see if there is a significant difference between the two groups. Do the same for the other measurement types."
   ]
  },
  {
   "cell_type": "code",
   "execution_count": null,
   "id": "87030e93",
   "metadata": {},
   "outputs": [],
   "source": [
    "t, p = stats.mannwhitneyu(train_virginica.sepal_width, train_versicolor.sepal_width)\n",
    "t, p # there is significant difference betweeen Virginica & Versicolor Sepal Widths"
   ]
  },
  {
   "cell_type": "code",
   "execution_count": null,
   "id": "eccabf7a",
   "metadata": {},
   "outputs": [],
   "source": [
    "t, p = stats.mannwhitneyu(train_virginica.sepal_length, train_versicolor.sepal_length)\n",
    "t, p # There are significant differences between Virginica & Versicolor Sepal Lengths"
   ]
  },
  {
   "cell_type": "code",
   "execution_count": null,
   "id": "37b92cff",
   "metadata": {},
   "outputs": [],
   "source": [
    "t, p = stats.mannwhitneyu(train_virginica.petal_width, train_versicolor.petal_width)\n",
    "t, p # There are significant differences between Virginica & Versicolor Petal Widths"
   ]
  },
  {
   "cell_type": "code",
   "execution_count": null,
   "id": "31b13860",
   "metadata": {},
   "outputs": [],
   "source": [
    "t, p = stats.mannwhitneyu(train_virginica.petal_length, train_versicolor.petal_length)\n",
    "t, p # There are significant differences between Virginica & Versicolor Petal Lengths"
   ]
  },
  {
   "cell_type": "markdown",
   "id": "033e49c6",
   "metadata": {},
   "source": [
    "- 4) Document takeaways & any actions."
   ]
  },
  {
   "cell_type": "markdown",
   "id": "be4a3459",
   "metadata": {},
   "source": [
    "* ?????"
   ]
  },
  {
   "cell_type": "markdown",
   "id": "89d1f291",
   "metadata": {},
   "source": [
    "### 4) Multivariate Stats"
   ]
  },
  {
   "cell_type": "markdown",
   "id": "95be6df6",
   "metadata": {},
   "source": [
    "- 1) Visualize the interaction of each measurement type with the others using a pairplot (or scatter matrix or something similar) and add color to represent species."
   ]
  },
  {
   "cell_type": "code",
   "execution_count": null,
   "id": "ea9a0adc",
   "metadata": {},
   "outputs": [],
   "source": [
    "sns.pairplot(data=train_cols, hue='species')"
   ]
  },
  {
   "cell_type": "markdown",
   "id": "0080466e",
   "metadata": {},
   "source": [
    "- 2) Visualize two numeric variables by means of the species. Hint: sns.relplot with hue or col"
   ]
  },
  {
   "cell_type": "code",
   "execution_count": null,
   "id": "b52027d1",
   "metadata": {},
   "outputs": [],
   "source": [
    "sns.relplot(data=train, x='sepal_length', y='sepal_width', hue='species')"
   ]
  },
  {
   "cell_type": "markdown",
   "id": "13535784",
   "metadata": {},
   "source": [
    "- 3) Create a swarmplot using a melted dataframe of all your numeric variables. The x-axis should be the variable name, the y-axis the measure. Add another dimension using color to represent species. Document takeaways from this visualization"
   ]
  },
  {
   "cell_type": "code",
   "execution_count": null,
   "id": "1d8fe631",
   "metadata": {},
   "outputs": [],
   "source": [
    "train_melt = train_cols.melt(id_vars='species')\n",
    "train_melt"
   ]
  },
  {
   "cell_type": "code",
   "execution_count": null,
   "id": "77cfbbec",
   "metadata": {},
   "outputs": [],
   "source": [
    "sns.swarmplot(data=train_melt, x='variable', y='value', hue='species')"
   ]
  },
  {
   "cell_type": "markdown",
   "id": "4882c48f",
   "metadata": {},
   "source": [
    "### Document Take Aways\n",
    "- Setosa Petal Length is significantly samller than others\n",
    "- Sepal Wideth is mixed between all species"
   ]
  },
  {
   "cell_type": "markdown",
   "id": "10c77eaa",
   "metadata": {},
   "source": [
    "- 4) Ask a specific question of the data, such as: is the sepal area signficantly different in virginica compared to setosa? Answer the question through both a plot and using a mann-whitney or t-test. If you use a t-test, be sure assumptions are met (independence, normality, equal variance)."
   ]
  },
  {
   "cell_type": "code",
   "execution_count": null,
   "id": "4534c089",
   "metadata": {},
   "outputs": [],
   "source": [
    "train_areas = train_cols.copy()"
   ]
  },
  {
   "cell_type": "code",
   "execution_count": null,
   "id": "1c8aa07b",
   "metadata": {},
   "outputs": [],
   "source": [
    "train_areas['sepal_areas'] = (train_areas.sepal_length) * (train_areas.sepal_width)\n",
    "train_areas.head()"
   ]
  },
  {
   "cell_type": "code",
   "execution_count": null,
   "id": "8600a3b9",
   "metadata": {},
   "outputs": [],
   "source": [
    "train_areas['petal_areas'] = (train_areas.petal_length) * (train_areas.petal_width)\n",
    "train_areas.head()"
   ]
  },
  {
   "cell_type": "code",
   "execution_count": null,
   "id": "698e5e9e",
   "metadata": {},
   "outputs": [],
   "source": [
    "train_areas = train_areas[['species',\n",
    " 'sepal_areas',\n",
    " 'petal_areas']]\n",
    "train_areas.head()"
   ]
  },
  {
   "cell_type": "code",
   "execution_count": null,
   "id": "974f248b",
   "metadata": {},
   "outputs": [],
   "source": [
    "# remove species: versicolor\n",
    "setosa_virginica_areas = train_areas[(train_areas.species=='setosa') | (train_areas.species=='virginica')]\n",
    "setosa_virginica_areas.head()"
   ]
  },
  {
   "cell_type": "code",
   "execution_count": null,
   "id": "171f9711",
   "metadata": {},
   "outputs": [],
   "source": [
    "# create plot\n",
    "sns.barplot(x='species', y='sepal_areas', data=setosa_virginica_areas)\n",
    "plt.title('No Significant Difference Between Setosa / Virginica Sepal Areas')"
   ]
  },
  {
   "cell_type": "markdown",
   "id": "97007acd",
   "metadata": {},
   "source": [
    "### Sepal Area is not significantly different between Setosa and Virginica"
   ]
  },
  {
   "cell_type": "code",
   "execution_count": null,
   "id": "a450cceb",
   "metadata": {},
   "outputs": [],
   "source": [
    "sns.scatterplot(data=setosa_virginica_areas, x='species', y='sepal_areas')\n",
    "plt.title('No Significant Difference')"
   ]
  },
  {
   "cell_type": "markdown",
   "id": "c36de7d6",
   "metadata": {},
   "source": [
    "### Use T-Test or MannWhitney for Hypothesis Test"
   ]
  },
  {
   "cell_type": "code",
   "execution_count": null,
   "id": "be2bc7db",
   "metadata": {},
   "outputs": [],
   "source": [
    "setosa_sepal_areas = setosa_virginica_areas[setosa_virginica_areas.species=='setosa'].sepal_areas\n",
    "virginica_sepal_areas = setosa_virginica_areas[setosa_virginica_areas.species=='virginica'].sepal_areas"
   ]
  },
  {
   "cell_type": "code",
   "execution_count": null,
   "id": "d86e2d83",
   "metadata": {},
   "outputs": [],
   "source": [
    "t, p = stats.mannwhitneyu(setosa_sepal_areas,virginica_sepal_areas )\n",
    "t, p # No significant differnce between Setosa & Virginica Sepal Areas"
   ]
  },
  {
   "cell_type": "markdown",
   "id": "f585ee88",
   "metadata": {},
   "source": [
    "- 5) Document takeaways and any actions.\n",
    "* No Sigficant difference between Setosa and Virginica Sepal Areas"
   ]
  },
  {
   "cell_type": "markdown",
   "id": "a0be0a35",
   "metadata": {},
   "source": [
    "# Exercise II - Explore Titanic Data"
   ]
  },
  {
   "cell_type": "code",
   "execution_count": null,
   "id": "aa752da1",
   "metadata": {},
   "outputs": [],
   "source": [
    "# Aquire Data\n",
    "df = prepare.prep_titanic()\n",
    "df.head()"
   ]
  },
  {
   "cell_type": "code",
   "execution_count": null,
   "id": "8b61ca6f",
   "metadata": {},
   "outputs": [],
   "source": [
    "df.sibsp.value_counts()"
   ]
  },
  {
   "cell_type": "code",
   "execution_count": null,
   "id": "1b98c424",
   "metadata": {},
   "outputs": [],
   "source": [
    "# Split Data\n",
    "train, validate, test = prepare.split_titanic(df)\n",
    "train.shape, validate.shape, test.shape"
   ]
  },
  {
   "cell_type": "code",
   "execution_count": null,
   "id": "da038cf1",
   "metadata": {},
   "outputs": [],
   "source": [
    "# print Split Amounts\n",
    "print(f'train -> {train.shape}')\n",
    "print(f'validate -> {validate.shape}')\n",
    "print(f'test -> {test.shape}')"
   ]
  },
  {
   "cell_type": "markdown",
   "id": "366aa675",
   "metadata": {},
   "source": [
    "### Determine drivers of the target variable"
   ]
  },
  {
   "cell_type": "code",
   "execution_count": null,
   "id": "d74f94bf",
   "metadata": {},
   "outputs": [],
   "source": [
    "train.survived.hist()\n",
    "plt.title('More Did Not Survive')\n",
    "plt.show()"
   ]
  },
  {
   "cell_type": "code",
   "execution_count": null,
   "id": "b41d1c0b",
   "metadata": {},
   "outputs": [],
   "source": [
    "train.pclass.hist()\n",
    "plt.title('More 3rd Class')\n",
    "plt.show()"
   ]
  },
  {
   "cell_type": "code",
   "execution_count": null,
   "id": "c1737e33",
   "metadata": {},
   "outputs": [],
   "source": [
    "train.sex_male.hist()\n",
    "plt.title('More Males')"
   ]
  },
  {
   "cell_type": "code",
   "execution_count": null,
   "id": "4d3138f6",
   "metadata": {},
   "outputs": [],
   "source": [
    "train.embark_town.hist()\n",
    "plt.title('More from Southampton')\n",
    "plt.show()"
   ]
  },
  {
   "cell_type": "code",
   "execution_count": null,
   "id": "8850473a",
   "metadata": {},
   "outputs": [],
   "source": [
    "train.sibsp.hist()\n",
    "plt.title('Most had No Siblings or Spouses')"
   ]
  },
  {
   "cell_type": "code",
   "execution_count": null,
   "id": "4e572f1c",
   "metadata": {},
   "outputs": [],
   "source": [
    "train.parch.hist()\n",
    "plt.title('Most had no parent/child relationships')\n",
    "plt.show()"
   ]
  },
  {
   "cell_type": "code",
   "execution_count": null,
   "id": "13b85e1d",
   "metadata": {},
   "outputs": [],
   "source": [
    "train.alone.hist()\n",
    "plt.title('Most Where Alone')\n",
    "plt.show()"
   ]
  },
  {
   "cell_type": "markdown",
   "id": "98e2bf9f",
   "metadata": {},
   "source": [
    "### Determine if certain columns should be dropped"
   ]
  },
  {
   "cell_type": "code",
   "execution_count": null,
   "id": "5f8ad1d7",
   "metadata": {},
   "outputs": [],
   "source": [
    "# I could drop embark_town and sex"
   ]
  },
  {
   "cell_type": "markdown",
   "id": "da8e10aa",
   "metadata": {},
   "source": [
    "### Determine if it would be valuable to bin some numeric columns"
   ]
  },
  {
   "cell_type": "code",
   "execution_count": null,
   "id": "2d0b4070",
   "metadata": {},
   "outputs": [],
   "source": [
    "# would bin ages and fares columns but they were removed during prep"
   ]
  },
  {
   "cell_type": "markdown",
   "id": "42da167f",
   "metadata": {},
   "source": [
    "### Determine if it would be valuable to combine multiple columns into one."
   ]
  },
  {
   "cell_type": "code",
   "execution_count": null,
   "id": "27b26ac7",
   "metadata": {},
   "outputs": [],
   "source": [
    "# no need to combine comlumns"
   ]
  },
  {
   "cell_type": "markdown",
   "id": "296d256e",
   "metadata": {},
   "source": [
    "### Does it make sense to combine any features?"
   ]
  },
  {
   "cell_type": "code",
   "execution_count": null,
   "id": "568dc019",
   "metadata": {},
   "outputs": [],
   "source": [
    "# Combine sibsp and parch to get group_size "
   ]
  },
  {
   "cell_type": "code",
   "execution_count": null,
   "id": "13205bbc",
   "metadata": {},
   "outputs": [],
   "source": [
    "train['group_size'] = train.sibsp + train.parch\n",
    "train_gs = train.group_size.value_counts().to_frame()\n",
    "train_gs = train_gs.reset_index()\n",
    "train_gs = train_gs.rename(columns={'index':'group_size', 'group_size':'group_count'})\n",
    "train_gs"
   ]
  },
  {
   "cell_type": "code",
   "execution_count": null,
   "id": "9f0d4d91",
   "metadata": {},
   "outputs": [],
   "source": [
    "train.group_size.describe()"
   ]
  },
  {
   "cell_type": "code",
   "execution_count": null,
   "id": "6ac4cd11",
   "metadata": {},
   "outputs": [],
   "source": [
    "sns.barplot(data=train_gs, x='group_size', y='group_count')"
   ]
  },
  {
   "cell_type": "markdown",
   "id": "0e0d80ac",
   "metadata": {},
   "source": [
    "### Do you find any surprises?"
   ]
  },
  {
   "cell_type": "code",
   "execution_count": null,
   "id": "90434628",
   "metadata": {},
   "outputs": [],
   "source": [
    "train.head()"
   ]
  },
  {
   "cell_type": "code",
   "execution_count": null,
   "id": "bfbe0cca",
   "metadata": {},
   "outputs": [],
   "source": [
    "sns.barplot(data=train, x='sex', y='survived')"
   ]
  },
  {
   "cell_type": "code",
   "execution_count": null,
   "id": "782df82a",
   "metadata": {},
   "outputs": [],
   "source": [
    "sns.barplot(data=train, x='pclass', y='survived', hue='sex')\n",
    "plt.title('More Females Survived Across Pclass')\n",
    "plt.show()"
   ]
  },
  {
   "cell_type": "code",
   "execution_count": null,
   "id": "acc87be6",
   "metadata": {},
   "outputs": [],
   "source": [
    "sns.barplot(data=train, x='pclass', y='survived', hue='alone', )\n",
    "plt.title('More Non-Alone Survived Across Pclass')\n",
    "plt.show()"
   ]
  },
  {
   "cell_type": "code",
   "execution_count": null,
   "id": "6d27bc9e",
   "metadata": {},
   "outputs": [],
   "source": [
    "sns.barplot(data=train, x='group_size', y='survived')\n",
    "plt.title('More Groups 1-3 Survived Across Pclass')\n",
    "plt.show()"
   ]
  },
  {
   "cell_type": "code",
   "execution_count": null,
   "id": "4660ab92",
   "metadata": {},
   "outputs": [],
   "source": [
    "sns.barplot(data=train, x='group_size', y='survived', hue='pclass')\n",
    "plt.title('More Groups 1-3 Survived Across Pclass')"
   ]
  },
  {
   "cell_type": "markdown",
   "id": "d7aeb3cf",
   "metadata": {},
   "source": [
    "### Document any and all findings and takeaways in your notebook using markdown.\n",
    "- More Died than Survived\n",
    "- There were an many 3rd class passengers as there were 1st and 2nd combined\n",
    "- There were twice as many Males than Females\n",
    "- 3 times as many passengers embarked fomr Southampton\n",
    "- Twice as many passengers were alone than not\n",
    "- More Females survived across all pclass\n",
    "- "
   ]
  },
  {
   "cell_type": "markdown",
   "id": "0aa99e9e",
   "metadata": {},
   "source": [
    "# <font color='red'> Exercise III - Explore Telco Data"
   ]
  },
  {
   "cell_type": "markdown",
   "id": "3eb25ac1",
   "metadata": {},
   "source": [
    "## 1) Explore your telco data to discover drivers of churn"
   ]
  },
  {
   "cell_type": "code",
   "execution_count": 5,
   "id": "fccba2a7",
   "metadata": {},
   "outputs": [
    {
     "data": {
      "text/html": [
       "<div>\n",
       "<style scoped>\n",
       "    .dataframe tbody tr th:only-of-type {\n",
       "        vertical-align: middle;\n",
       "    }\n",
       "\n",
       "    .dataframe tbody tr th {\n",
       "        vertical-align: top;\n",
       "    }\n",
       "\n",
       "    .dataframe thead th {\n",
       "        text-align: right;\n",
       "    }\n",
       "</style>\n",
       "<table border=\"1\" class=\"dataframe\">\n",
       "  <thead>\n",
       "    <tr style=\"text-align: right;\">\n",
       "      <th></th>\n",
       "      <th>customer_id</th>\n",
       "      <th>gender</th>\n",
       "      <th>senior_citizen</th>\n",
       "      <th>partner</th>\n",
       "      <th>dependents</th>\n",
       "      <th>tenure</th>\n",
       "      <th>phone_service</th>\n",
       "      <th>multiple_lines</th>\n",
       "      <th>online_security</th>\n",
       "      <th>online_backup</th>\n",
       "      <th>...</th>\n",
       "      <th>streaming_movies_Yes</th>\n",
       "      <th>paperless_billing_Yes</th>\n",
       "      <th>churn_Yes</th>\n",
       "      <th>contract_type_One year</th>\n",
       "      <th>contract_type_Two year</th>\n",
       "      <th>internet_service_type_Fiber optic</th>\n",
       "      <th>internet_service_type_None</th>\n",
       "      <th>payment_type_Credit card (automatic)</th>\n",
       "      <th>payment_type_Electronic check</th>\n",
       "      <th>payment_type_Mailed check</th>\n",
       "    </tr>\n",
       "  </thead>\n",
       "  <tbody>\n",
       "    <tr>\n",
       "      <th>0</th>\n",
       "      <td>0016-QLJIS</td>\n",
       "      <td>Female</td>\n",
       "      <td>0</td>\n",
       "      <td>Yes</td>\n",
       "      <td>Yes</td>\n",
       "      <td>65</td>\n",
       "      <td>Yes</td>\n",
       "      <td>Yes</td>\n",
       "      <td>Yes</td>\n",
       "      <td>Yes</td>\n",
       "      <td>...</td>\n",
       "      <td>1</td>\n",
       "      <td>1</td>\n",
       "      <td>0</td>\n",
       "      <td>0</td>\n",
       "      <td>1</td>\n",
       "      <td>0</td>\n",
       "      <td>0</td>\n",
       "      <td>0</td>\n",
       "      <td>0</td>\n",
       "      <td>1</td>\n",
       "    </tr>\n",
       "    <tr>\n",
       "      <th>1</th>\n",
       "      <td>0017-DINOC</td>\n",
       "      <td>Male</td>\n",
       "      <td>0</td>\n",
       "      <td>No</td>\n",
       "      <td>No</td>\n",
       "      <td>54</td>\n",
       "      <td>No</td>\n",
       "      <td>No phone service</td>\n",
       "      <td>Yes</td>\n",
       "      <td>No</td>\n",
       "      <td>...</td>\n",
       "      <td>0</td>\n",
       "      <td>0</td>\n",
       "      <td>0</td>\n",
       "      <td>0</td>\n",
       "      <td>1</td>\n",
       "      <td>0</td>\n",
       "      <td>0</td>\n",
       "      <td>1</td>\n",
       "      <td>0</td>\n",
       "      <td>0</td>\n",
       "    </tr>\n",
       "    <tr>\n",
       "      <th>2</th>\n",
       "      <td>0019-GFNTW</td>\n",
       "      <td>Female</td>\n",
       "      <td>0</td>\n",
       "      <td>No</td>\n",
       "      <td>No</td>\n",
       "      <td>56</td>\n",
       "      <td>No</td>\n",
       "      <td>No phone service</td>\n",
       "      <td>Yes</td>\n",
       "      <td>Yes</td>\n",
       "      <td>...</td>\n",
       "      <td>0</td>\n",
       "      <td>0</td>\n",
       "      <td>0</td>\n",
       "      <td>0</td>\n",
       "      <td>1</td>\n",
       "      <td>0</td>\n",
       "      <td>0</td>\n",
       "      <td>0</td>\n",
       "      <td>0</td>\n",
       "      <td>0</td>\n",
       "    </tr>\n",
       "    <tr>\n",
       "      <th>3</th>\n",
       "      <td>0056-EPFBG</td>\n",
       "      <td>Male</td>\n",
       "      <td>0</td>\n",
       "      <td>Yes</td>\n",
       "      <td>Yes</td>\n",
       "      <td>20</td>\n",
       "      <td>No</td>\n",
       "      <td>No phone service</td>\n",
       "      <td>Yes</td>\n",
       "      <td>No</td>\n",
       "      <td>...</td>\n",
       "      <td>0</td>\n",
       "      <td>1</td>\n",
       "      <td>0</td>\n",
       "      <td>0</td>\n",
       "      <td>1</td>\n",
       "      <td>0</td>\n",
       "      <td>0</td>\n",
       "      <td>1</td>\n",
       "      <td>0</td>\n",
       "      <td>0</td>\n",
       "    </tr>\n",
       "    <tr>\n",
       "      <th>4</th>\n",
       "      <td>0078-XZMHT</td>\n",
       "      <td>Male</td>\n",
       "      <td>0</td>\n",
       "      <td>Yes</td>\n",
       "      <td>No</td>\n",
       "      <td>72</td>\n",
       "      <td>Yes</td>\n",
       "      <td>Yes</td>\n",
       "      <td>No</td>\n",
       "      <td>Yes</td>\n",
       "      <td>...</td>\n",
       "      <td>1</td>\n",
       "      <td>1</td>\n",
       "      <td>0</td>\n",
       "      <td>0</td>\n",
       "      <td>1</td>\n",
       "      <td>0</td>\n",
       "      <td>0</td>\n",
       "      <td>0</td>\n",
       "      <td>0</td>\n",
       "      <td>0</td>\n",
       "    </tr>\n",
       "  </tbody>\n",
       "</table>\n",
       "<p>5 rows × 49 columns</p>\n",
       "</div>"
      ],
      "text/plain": [
       "  customer_id  gender  senior_citizen partner dependents  tenure  \\\n",
       "0  0016-QLJIS  Female               0     Yes        Yes      65   \n",
       "1  0017-DINOC    Male               0      No         No      54   \n",
       "2  0019-GFNTW  Female               0      No         No      56   \n",
       "3  0056-EPFBG    Male               0     Yes        Yes      20   \n",
       "4  0078-XZMHT    Male               0     Yes         No      72   \n",
       "\n",
       "  phone_service    multiple_lines online_security online_backup  ...  \\\n",
       "0           Yes               Yes             Yes           Yes  ...   \n",
       "1            No  No phone service             Yes            No  ...   \n",
       "2            No  No phone service             Yes           Yes  ...   \n",
       "3            No  No phone service             Yes            No  ...   \n",
       "4           Yes               Yes              No           Yes  ...   \n",
       "\n",
       "  streaming_movies_Yes paperless_billing_Yes churn_Yes contract_type_One year  \\\n",
       "0                    1                     1         0                      0   \n",
       "1                    0                     0         0                      0   \n",
       "2                    0                     0         0                      0   \n",
       "3                    0                     1         0                      0   \n",
       "4                    1                     1         0                      0   \n",
       "\n",
       "  contract_type_Two year  internet_service_type_Fiber optic  \\\n",
       "0                      1                                  0   \n",
       "1                      1                                  0   \n",
       "2                      1                                  0   \n",
       "3                      1                                  0   \n",
       "4                      1                                  0   \n",
       "\n",
       "   internet_service_type_None payment_type_Credit card (automatic)  \\\n",
       "0                           0                                    0   \n",
       "1                           0                                    1   \n",
       "2                           0                                    0   \n",
       "3                           0                                    1   \n",
       "4                           0                                    0   \n",
       "\n",
       "  payment_type_Electronic check payment_type_Mailed check  \n",
       "0                             0                         1  \n",
       "1                             0                         0  \n",
       "2                             0                         0  \n",
       "3                             0                         0  \n",
       "4                             0                         0  \n",
       "\n",
       "[5 rows x 49 columns]"
      ]
     },
     "execution_count": 5,
     "metadata": {},
     "output_type": "execute_result"
    }
   ],
   "source": [
    "# get prep'd data\n",
    "df = prepare.prep_telco()\n",
    "df.head()"
   ]
  },
  {
   "cell_type": "code",
   "execution_count": 7,
   "id": "6345409d",
   "metadata": {},
   "outputs": [
    {
     "data": {
      "text/plain": [
       "((3943, 49), (1691, 49), (1409, 49))"
      ]
     },
     "execution_count": 7,
     "metadata": {},
     "output_type": "execute_result"
    }
   ],
   "source": [
    "# split data using split_telco function that stratifies churn\n",
    "train, validate, test = prepare.split_telco(df)\n",
    "train.shape, validate.shape, test.shape"
   ]
  },
  {
   "cell_type": "code",
   "execution_count": 8,
   "id": "4025aaee",
   "metadata": {},
   "outputs": [],
   "source": [
    "# created copy of train\n",
    "train_telco = train.copy()"
   ]
  },
  {
   "cell_type": "code",
   "execution_count": 23,
   "id": "724c7e92",
   "metadata": {},
   "outputs": [
    {
     "data": {
      "text/plain": [
       "['customer_id',\n",
       " 'gender',\n",
       " 'senior_citizen',\n",
       " 'partner',\n",
       " 'dependents',\n",
       " 'tenure',\n",
       " 'phone_service',\n",
       " 'multiple_lines',\n",
       " 'online_security',\n",
       " 'online_backup',\n",
       " 'device_protection',\n",
       " 'tech_support',\n",
       " 'streaming_tv',\n",
       " 'streaming_movies',\n",
       " 'paperless_billing',\n",
       " 'monthly_charges',\n",
       " 'total_charges',\n",
       " 'churn',\n",
       " 'contract_type',\n",
       " 'internet_service_type',\n",
       " 'payment_type']"
      ]
     },
     "execution_count": 23,
     "metadata": {},
     "output_type": "execute_result"
    }
   ],
   "source": [
    "# Univariat analysis using histograms\n",
    "# id columns to keep\n",
    "cols_data = ['gender',\n",
    " 'senior_citizen',\n",
    " 'partner',\n",
    " 'dependents',\n",
    " 'tenure',\n",
    " 'phone_service',\n",
    " 'multiple_lines',\n",
    " 'online_security',\n",
    " 'online_backup',\n",
    " 'device_protection',\n",
    " 'tech_support',\n",
    " 'streaming_tv',\n",
    " 'streaming_movies',\n",
    " 'paperless_billing',\n",
    " 'monthly_charges',\n",
    " 'total_charges',\n",
    " 'churn',\n",
    " 'contract_type',\n",
    " 'internet_service_type',\n",
    " 'payment_type']\n",
    "cols_data\n",
    "\n"
   ]
  },
  {
   "cell_type": "code",
   "execution_count": 24,
   "id": "09b233d9",
   "metadata": {},
   "outputs": [
    {
     "data": {
      "text/html": [
       "<div>\n",
       "<style scoped>\n",
       "    .dataframe tbody tr th:only-of-type {\n",
       "        vertical-align: middle;\n",
       "    }\n",
       "\n",
       "    .dataframe tbody tr th {\n",
       "        vertical-align: top;\n",
       "    }\n",
       "\n",
       "    .dataframe thead th {\n",
       "        text-align: right;\n",
       "    }\n",
       "</style>\n",
       "<table border=\"1\" class=\"dataframe\">\n",
       "  <thead>\n",
       "    <tr style=\"text-align: right;\">\n",
       "      <th></th>\n",
       "      <th>customer_id</th>\n",
       "      <th>gender</th>\n",
       "      <th>senior_citizen</th>\n",
       "      <th>senior_citizen</th>\n",
       "      <th>partner</th>\n",
       "      <th>dependents</th>\n",
       "      <th>tenure</th>\n",
       "      <th>phone_service</th>\n",
       "      <th>multiple_lines</th>\n",
       "      <th>online_security</th>\n",
       "      <th>...</th>\n",
       "      <th>tech_support</th>\n",
       "      <th>streaming_tv</th>\n",
       "      <th>streaming_movies</th>\n",
       "      <th>paperless_billing</th>\n",
       "      <th>monthly_charges</th>\n",
       "      <th>total_charges</th>\n",
       "      <th>churn</th>\n",
       "      <th>contract_type</th>\n",
       "      <th>internet_service_type</th>\n",
       "      <th>payment_type</th>\n",
       "    </tr>\n",
       "  </thead>\n",
       "  <tbody>\n",
       "    <tr>\n",
       "      <th>5642</th>\n",
       "      <td>1982-FEBTD</td>\n",
       "      <td>Female</td>\n",
       "      <td>0</td>\n",
       "      <td>0</td>\n",
       "      <td>Yes</td>\n",
       "      <td>Yes</td>\n",
       "      <td>23</td>\n",
       "      <td>Yes</td>\n",
       "      <td>Yes</td>\n",
       "      <td>No internet service</td>\n",
       "      <td>...</td>\n",
       "      <td>No internet service</td>\n",
       "      <td>No internet service</td>\n",
       "      <td>No internet service</td>\n",
       "      <td>Yes</td>\n",
       "      <td>25.60</td>\n",
       "      <td>514.75</td>\n",
       "      <td>No</td>\n",
       "      <td>Two year</td>\n",
       "      <td>None</td>\n",
       "      <td>Credit card (automatic)</td>\n",
       "    </tr>\n",
       "    <tr>\n",
       "      <th>3338</th>\n",
       "      <td>8982-NHAVY</td>\n",
       "      <td>Male</td>\n",
       "      <td>0</td>\n",
       "      <td>0</td>\n",
       "      <td>No</td>\n",
       "      <td>No</td>\n",
       "      <td>27</td>\n",
       "      <td>Yes</td>\n",
       "      <td>Yes</td>\n",
       "      <td>No</td>\n",
       "      <td>...</td>\n",
       "      <td>No</td>\n",
       "      <td>Yes</td>\n",
       "      <td>Yes</td>\n",
       "      <td>Yes</td>\n",
       "      <td>100.50</td>\n",
       "      <td>2673.45</td>\n",
       "      <td>No</td>\n",
       "      <td>One year</td>\n",
       "      <td>Fiber optic</td>\n",
       "      <td>Bank transfer (automatic)</td>\n",
       "    </tr>\n",
       "    <tr>\n",
       "      <th>4273</th>\n",
       "      <td>4115-NZRKS</td>\n",
       "      <td>Female</td>\n",
       "      <td>1</td>\n",
       "      <td>1</td>\n",
       "      <td>No</td>\n",
       "      <td>No</td>\n",
       "      <td>7</td>\n",
       "      <td>Yes</td>\n",
       "      <td>No</td>\n",
       "      <td>No</td>\n",
       "      <td>...</td>\n",
       "      <td>No</td>\n",
       "      <td>Yes</td>\n",
       "      <td>Yes</td>\n",
       "      <td>Yes</td>\n",
       "      <td>89.15</td>\n",
       "      <td>574.35</td>\n",
       "      <td>No</td>\n",
       "      <td>Month-to-month</td>\n",
       "      <td>Fiber optic</td>\n",
       "      <td>Electronic check</td>\n",
       "    </tr>\n",
       "    <tr>\n",
       "      <th>2382</th>\n",
       "      <td>9633-DENPU</td>\n",
       "      <td>Female</td>\n",
       "      <td>0</td>\n",
       "      <td>0</td>\n",
       "      <td>Yes</td>\n",
       "      <td>No</td>\n",
       "      <td>47</td>\n",
       "      <td>Yes</td>\n",
       "      <td>No</td>\n",
       "      <td>No</td>\n",
       "      <td>...</td>\n",
       "      <td>No</td>\n",
       "      <td>Yes</td>\n",
       "      <td>No</td>\n",
       "      <td>Yes</td>\n",
       "      <td>58.60</td>\n",
       "      <td>2723.40</td>\n",
       "      <td>No</td>\n",
       "      <td>Month-to-month</td>\n",
       "      <td>DSL</td>\n",
       "      <td>Bank transfer (automatic)</td>\n",
       "    </tr>\n",
       "    <tr>\n",
       "      <th>2655</th>\n",
       "      <td>5693-PIPCS</td>\n",
       "      <td>Male</td>\n",
       "      <td>0</td>\n",
       "      <td>0</td>\n",
       "      <td>No</td>\n",
       "      <td>No</td>\n",
       "      <td>41</td>\n",
       "      <td>Yes</td>\n",
       "      <td>No</td>\n",
       "      <td>No</td>\n",
       "      <td>...</td>\n",
       "      <td>Yes</td>\n",
       "      <td>Yes</td>\n",
       "      <td>Yes</td>\n",
       "      <td>Yes</td>\n",
       "      <td>99.65</td>\n",
       "      <td>4220.35</td>\n",
       "      <td>No</td>\n",
       "      <td>Two year</td>\n",
       "      <td>Fiber optic</td>\n",
       "      <td>Credit card (automatic)</td>\n",
       "    </tr>\n",
       "  </tbody>\n",
       "</table>\n",
       "<p>5 rows × 22 columns</p>\n",
       "</div>"
      ],
      "text/plain": [
       "     customer_id  gender  senior_citizen  senior_citizen partner dependents  \\\n",
       "5642  1982-FEBTD  Female               0               0     Yes        Yes   \n",
       "3338  8982-NHAVY    Male               0               0      No         No   \n",
       "4273  4115-NZRKS  Female               1               1      No         No   \n",
       "2382  9633-DENPU  Female               0               0     Yes         No   \n",
       "2655  5693-PIPCS    Male               0               0      No         No   \n",
       "\n",
       "      tenure phone_service multiple_lines      online_security  ...  \\\n",
       "5642      23           Yes            Yes  No internet service  ...   \n",
       "3338      27           Yes            Yes                   No  ...   \n",
       "4273       7           Yes             No                   No  ...   \n",
       "2382      47           Yes             No                   No  ...   \n",
       "2655      41           Yes             No                   No  ...   \n",
       "\n",
       "             tech_support         streaming_tv     streaming_movies  \\\n",
       "5642  No internet service  No internet service  No internet service   \n",
       "3338                   No                  Yes                  Yes   \n",
       "4273                   No                  Yes                  Yes   \n",
       "2382                   No                  Yes                   No   \n",
       "2655                  Yes                  Yes                  Yes   \n",
       "\n",
       "     paperless_billing monthly_charges total_charges  churn   contract_type  \\\n",
       "5642               Yes           25.60        514.75     No        Two year   \n",
       "3338               Yes          100.50       2673.45     No        One year   \n",
       "4273               Yes           89.15        574.35     No  Month-to-month   \n",
       "2382               Yes           58.60       2723.40     No  Month-to-month   \n",
       "2655               Yes           99.65       4220.35     No        Two year   \n",
       "\n",
       "     internet_service_type               payment_type  \n",
       "5642                  None    Credit card (automatic)  \n",
       "3338           Fiber optic  Bank transfer (automatic)  \n",
       "4273           Fiber optic           Electronic check  \n",
       "2382                   DSL  Bank transfer (automatic)  \n",
       "2655           Fiber optic    Credit card (automatic)  \n",
       "\n",
       "[5 rows x 22 columns]"
      ]
     },
     "execution_count": 24,
     "metadata": {},
     "output_type": "execute_result"
    }
   ],
   "source": [
    "train_telco_cols = train_telco[cols_data]\n",
    "train_telco_cols.head()"
   ]
  },
  {
   "cell_type": "code",
   "execution_count": 26,
   "id": "2a3cfa6c",
   "metadata": {},
   "outputs": [
    {
     "data": {
      "image/png": "[encoded data removed]",
      "text/plain": [
       "<Figure size 432x288 with 1 Axes>"
      ]
     },
     "metadata": {
      "needs_background": "light"
     },
     "output_type": "display_data"
    },
    {
     "data": {
      "image/png": "[encoded data removed]",
      "text/plain": [
       "<Figure size 432x288 with 1 Axes>"
      ]
     },
     "metadata": {
      "needs_background": "light"
     },
     "output_type": "display_data"
    },
    {
     "data": {
      "image/png": "[encoded data removed]",
      "text/plain": [
       "<Figure size 432x288 with 1 Axes>"
      ]
     },
     "metadata": {
      "needs_background": "light"
     },
     "output_type": "display_data"
    },
    {
     "data": {
      "image/png": "[encoded data removed]",
      "text/plain": [
       "<Figure size 432x288 with 1 Axes>"
      ]
     },
     "metadata": {
      "needs_background": "light"
     },
     "output_type": "display_data"
    },
    {
     "data": {
      "image/png": "[encoded data removed]",
      "text/plain": [
       "<Figure size 432x288 with 1 Axes>"
      ]
     },
     "metadata": {
      "needs_background": "light"
     },
     "output_type": "display_data"
    },
    {
     "data": {
      "image/png": "[encoded data removed]",
      "text/plain": [
       "<Figure size 432x288 with 1 Axes>"
      ]
     },
     "metadata": {
      "needs_background": "light"
     },
     "output_type": "display_data"
    },
    {
     "data": {
      "image/png": "[encoded data removed]",
      "text/plain": [
       "<Figure size 432x288 with 1 Axes>"
      ]
     },
     "metadata": {
      "needs_background": "light"
     },
     "output_type": "display_data"
    },
    {
     "data": {
      "image/png": "[encoded data removed]",
      "text/plain": [
       "<Figure size 432x288 with 1 Axes>"
      ]
     },
     "metadata": {
      "needs_background": "light"
     },
     "output_type": "display_data"
    },
    {
     "data": {
      "image/png": "[encoded data removed]",
      "text/plain": [
       "<Figure size 432x288 with 1 Axes>"
      ]
     },
     "metadata": {
      "needs_background": "light"
     },
     "output_type": "display_data"
    },
    {
     "data": {
      "image/png": "[encoded data removed]",
      "text/plain": [
       "<Figure size 432x288 with 1 Axes>"
      ]
     },
     "metadata": {
      "needs_background": "light"
     },
     "output_type": "display_data"
    },
    {
     "data": {
      "image/png": "[encoded data removed]",
      "text/plain": [
       "<Figure size 432x288 with 1 Axes>"
      ]
     },
     "metadata": {
      "needs_background": "light"
     },
     "output_type": "display_data"
    },
    {
     "data": {
      "image/png": "[encoded data removed]",
      "text/plain": [
       "<Figure size 432x288 with 1 Axes>"
      ]
     },
     "metadata": {
      "needs_background": "light"
     },
     "output_type": "display_data"
    },
    {
     "data": {
      "image/png": "[encoded data removed]",
      "text/plain": [
       "<Figure size 432x288 with 1 Axes>"
      ]
     },
     "metadata": {
      "needs_background": "light"
     },
     "output_type": "display_data"
    },
    {
     "data": {
      "image/png": "[encoded data removed]",
      "text/plain": [
       "<Figure size 432x288 with 1 Axes>"
      ]
     },
     "metadata": {
      "needs_background": "light"
     },
     "output_type": "display_data"
    },
    {
     "data": {
      "image/png": "[encoded data removed]",
      "text/plain": [
       "<Figure size 432x288 with 1 Axes>"
      ]
     },
     "metadata": {
      "needs_background": "light"
     },
     "output_type": "display_data"
    },
    {
     "data": {
      "image/png": "[encoded data removed]",
      "text/plain": [
       "<Figure size 432x288 with 1 Axes>"
      ]
     },
     "metadata": {
      "needs_background": "light"
     },
     "output_type": "display_data"
    },
    {
     "data": {
      "image/png": "[encoded data removed]",
      "text/plain": [
       "<Figure size 432x288 with 1 Axes>"
      ]
     },
     "metadata": {
      "needs_background": "light"
     },
     "output_type": "display_data"
    },
    {
     "data": {
      "image/png": "[encoded data removed]",
      "text/plain": [
       "<Figure size 432x288 with 1 Axes>"
      ]
     },
     "metadata": {
      "needs_background": "light"
     },
     "output_type": "display_data"
    },
    {
     "data": {
      "image/png": "[encoded data removed]",
      "text/plain": [
       "<Figure size 432x288 with 1 Axes>"
      ]
     },
     "metadata": {
      "needs_background": "light"
     },
     "output_type": "display_data"
    },
    {
     "data": {
      "image/png": "[encoded data removed]",
      "text/plain": [
       "<Figure size 432x288 with 1 Axes>"
      ]
     },
     "metadata": {
      "needs_background": "light"
     },
     "output_type": "display_data"
    },
    {
     "data": {
      "image/png": "[encoded data removed]",
      "text/plain": [
       "<Figure size 432x288 with 1 Axes>"
      ]
     },
     "metadata": {
      "needs_background": "light"
     },
     "output_type": "display_data"
    },
    {
     "data": {
      "image/png": "[encoded data removed]",
      "text/plain": [
       "<Figure size 432x288 with 1 Axes>"
      ]
     },
     "metadata": {
      "needs_background": "light"
     },
     "output_type": "display_data"
    }
   ],
   "source": [
    "for col in train_telco_cols:\n",
    "    plt.hist(train_telco_cols[col])\n",
    "    plt.title(col)\n",
    "    plt.show()"
   ]
  },
  {
   "cell_type": "code",
   "execution_count": 22,
   "id": "f8273842",
   "metadata": {},
   "outputs": [
    {
     "data": {
      "text/plain": [
       "<seaborn.axisgrid.FacetGrid at 0x7fb500ce7490>"
      ]
     },
     "execution_count": 22,
     "metadata": {},
     "output_type": "execute_result"
    },
    {
     "data": {
      "image/png": "[encoded data removed]",
      "text/plain": [
       "<Figure size 412x360 with 1 Axes>"
      ]
     },
     "metadata": {
      "needs_background": "light"
     },
     "output_type": "display_data"
    }
   ],
   "source": [
    "# show rel plot\n",
    "sns.relplot(data=train_telco,\n",
    "           y='gender', \n",
    "           x='monthly_charges',\n",
    "           kind='scatter',\n",
    "           hue='churn')"
   ]
  },
  {
   "cell_type": "code",
   "execution_count": 11,
   "id": "29de4e15",
   "metadata": {},
   "outputs": [
    {
     "ename": "ValueError",
     "evalue": "The truth value of a Series is ambiguous. Use a.empty, a.bool(), a.item(), a.any() or a.all().",
     "output_type": "error",
     "traceback": [
      "\u001b[0;31m---------------------------------------------------------------------------\u001b[0m",
      "\u001b[0;31mValueError\u001b[0m                                Traceback (most recent call last)",
      "\u001b[0;32m<ipython-input-11-c0b6800aa042>\u001b[0m in \u001b[0;36m<module>\u001b[0;34m\u001b[0m\n\u001b[1;32m      1\u001b[0m \u001b[0;31m# show pair plot\u001b[0m\u001b[0;34m\u001b[0m\u001b[0;34m\u001b[0m\u001b[0;34m\u001b[0m\u001b[0m\n\u001b[0;32m----> 2\u001b[0;31m \u001b[0msns\u001b[0m\u001b[0;34m.\u001b[0m\u001b[0mpairplot\u001b[0m\u001b[0;34m(\u001b[0m\u001b[0mtrain_telco\u001b[0m\u001b[0;34m,\u001b[0m \u001b[0mhue\u001b[0m\u001b[0;34m=\u001b[0m\u001b[0;34m'churn'\u001b[0m\u001b[0;34m)\u001b[0m\u001b[0;34m\u001b[0m\u001b[0;34m\u001b[0m\u001b[0m\n\u001b[0m",
      "\u001b[0;32m/usr/local/anaconda3/lib/python3.8/site-packages/seaborn/_decorators.py\u001b[0m in \u001b[0;36minner_f\u001b[0;34m(*args, **kwargs)\u001b[0m\n\u001b[1;32m     44\u001b[0m             )\n\u001b[1;32m     45\u001b[0m         \u001b[0mkwargs\u001b[0m\u001b[0;34m.\u001b[0m\u001b[0mupdate\u001b[0m\u001b[0;34m(\u001b[0m\u001b[0;34m{\u001b[0m\u001b[0mk\u001b[0m\u001b[0;34m:\u001b[0m \u001b[0marg\u001b[0m \u001b[0;32mfor\u001b[0m \u001b[0mk\u001b[0m\u001b[0;34m,\u001b[0m \u001b[0marg\u001b[0m \u001b[0;32min\u001b[0m \u001b[0mzip\u001b[0m\u001b[0;34m(\u001b[0m\u001b[0msig\u001b[0m\u001b[0;34m.\u001b[0m\u001b[0mparameters\u001b[0m\u001b[0;34m,\u001b[0m \u001b[0margs\u001b[0m\u001b[0;34m)\u001b[0m\u001b[0;34m}\u001b[0m\u001b[0;34m)\u001b[0m\u001b[0;34m\u001b[0m\u001b[0;34m\u001b[0m\u001b[0m\n\u001b[0;32m---> 46\u001b[0;31m         \u001b[0;32mreturn\u001b[0m \u001b[0mf\u001b[0m\u001b[0;34m(\u001b[0m\u001b[0;34m**\u001b[0m\u001b[0mkwargs\u001b[0m\u001b[0;34m)\u001b[0m\u001b[0;34m\u001b[0m\u001b[0;34m\u001b[0m\u001b[0m\n\u001b[0m\u001b[1;32m     47\u001b[0m     \u001b[0;32mreturn\u001b[0m \u001b[0minner_f\u001b[0m\u001b[0;34m\u001b[0m\u001b[0;34m\u001b[0m\u001b[0m\n\u001b[1;32m     48\u001b[0m \u001b[0;34m\u001b[0m\u001b[0m\n",
      "\u001b[0;32m/usr/local/anaconda3/lib/python3.8/site-packages/seaborn/axisgrid.py\u001b[0m in \u001b[0;36mpairplot\u001b[0;34m(data, hue, hue_order, palette, vars, x_vars, y_vars, kind, diag_kind, markers, height, aspect, corner, dropna, plot_kws, diag_kws, grid_kws, size)\u001b[0m\n\u001b[1;32m   1987\u001b[0m     \u001b[0;31m# Set up the PairGrid\u001b[0m\u001b[0;34m\u001b[0m\u001b[0;34m\u001b[0m\u001b[0;34m\u001b[0m\u001b[0m\n\u001b[1;32m   1988\u001b[0m     \u001b[0mgrid_kws\u001b[0m\u001b[0;34m.\u001b[0m\u001b[0msetdefault\u001b[0m\u001b[0;34m(\u001b[0m\u001b[0;34m\"diag_sharey\"\u001b[0m\u001b[0;34m,\u001b[0m \u001b[0mdiag_kind\u001b[0m \u001b[0;34m==\u001b[0m \u001b[0;34m\"hist\"\u001b[0m\u001b[0;34m)\u001b[0m\u001b[0;34m\u001b[0m\u001b[0;34m\u001b[0m\u001b[0m\n\u001b[0;32m-> 1989\u001b[0;31m     grid = PairGrid(data, vars=vars, x_vars=x_vars, y_vars=y_vars, hue=hue,\n\u001b[0m\u001b[1;32m   1990\u001b[0m                     \u001b[0mhue_order\u001b[0m\u001b[0;34m=\u001b[0m\u001b[0mhue_order\u001b[0m\u001b[0;34m,\u001b[0m \u001b[0mpalette\u001b[0m\u001b[0;34m=\u001b[0m\u001b[0mpalette\u001b[0m\u001b[0;34m,\u001b[0m \u001b[0mcorner\u001b[0m\u001b[0;34m=\u001b[0m\u001b[0mcorner\u001b[0m\u001b[0;34m,\u001b[0m\u001b[0;34m\u001b[0m\u001b[0;34m\u001b[0m\u001b[0m\n\u001b[1;32m   1991\u001b[0m                     height=height, aspect=aspect, dropna=dropna, **grid_kws)\n",
      "\u001b[0;32m/usr/local/anaconda3/lib/python3.8/site-packages/seaborn/_decorators.py\u001b[0m in \u001b[0;36minner_f\u001b[0;34m(*args, **kwargs)\u001b[0m\n\u001b[1;32m     44\u001b[0m             )\n\u001b[1;32m     45\u001b[0m         \u001b[0mkwargs\u001b[0m\u001b[0;34m.\u001b[0m\u001b[0mupdate\u001b[0m\u001b[0;34m(\u001b[0m\u001b[0;34m{\u001b[0m\u001b[0mk\u001b[0m\u001b[0;34m:\u001b[0m \u001b[0marg\u001b[0m \u001b[0;32mfor\u001b[0m \u001b[0mk\u001b[0m\u001b[0;34m,\u001b[0m \u001b[0marg\u001b[0m \u001b[0;32min\u001b[0m \u001b[0mzip\u001b[0m\u001b[0;34m(\u001b[0m\u001b[0msig\u001b[0m\u001b[0;34m.\u001b[0m\u001b[0mparameters\u001b[0m\u001b[0;34m,\u001b[0m \u001b[0margs\u001b[0m\u001b[0;34m)\u001b[0m\u001b[0;34m}\u001b[0m\u001b[0;34m)\u001b[0m\u001b[0;34m\u001b[0m\u001b[0;34m\u001b[0m\u001b[0m\n\u001b[0;32m---> 46\u001b[0;31m         \u001b[0;32mreturn\u001b[0m \u001b[0mf\u001b[0m\u001b[0;34m(\u001b[0m\u001b[0;34m**\u001b[0m\u001b[0mkwargs\u001b[0m\u001b[0;34m)\u001b[0m\u001b[0;34m\u001b[0m\u001b[0;34m\u001b[0m\u001b[0m\n\u001b[0m\u001b[1;32m     47\u001b[0m     \u001b[0;32mreturn\u001b[0m \u001b[0minner_f\u001b[0m\u001b[0;34m\u001b[0m\u001b[0;34m\u001b[0m\u001b[0m\n\u001b[1;32m     48\u001b[0m \u001b[0;34m\u001b[0m\u001b[0m\n",
      "\u001b[0;32m/usr/local/anaconda3/lib/python3.8/site-packages/seaborn/axisgrid.py\u001b[0m in \u001b[0;36m__init__\u001b[0;34m(self, data, hue, hue_order, palette, hue_kws, vars, x_vars, y_vars, corner, diag_sharey, height, aspect, layout_pad, despine, dropna, size)\u001b[0m\n\u001b[1;32m   1153\u001b[0m \u001b[0;34m\u001b[0m\u001b[0m\n\u001b[1;32m   1154\u001b[0m         \u001b[0;31m# Sort out the variables that define the grid\u001b[0m\u001b[0;34m\u001b[0m\u001b[0;34m\u001b[0m\u001b[0;34m\u001b[0m\u001b[0m\n\u001b[0;32m-> 1155\u001b[0;31m         \u001b[0mnumeric_cols\u001b[0m \u001b[0;34m=\u001b[0m \u001b[0mself\u001b[0m\u001b[0;34m.\u001b[0m\u001b[0m_find_numeric_cols\u001b[0m\u001b[0;34m(\u001b[0m\u001b[0mdata\u001b[0m\u001b[0;34m)\u001b[0m\u001b[0;34m\u001b[0m\u001b[0;34m\u001b[0m\u001b[0m\n\u001b[0m\u001b[1;32m   1156\u001b[0m         \u001b[0;32mif\u001b[0m \u001b[0mhue\u001b[0m \u001b[0;32min\u001b[0m \u001b[0mnumeric_cols\u001b[0m\u001b[0;34m:\u001b[0m\u001b[0;34m\u001b[0m\u001b[0;34m\u001b[0m\u001b[0m\n\u001b[1;32m   1157\u001b[0m             \u001b[0mnumeric_cols\u001b[0m\u001b[0;34m.\u001b[0m\u001b[0mremove\u001b[0m\u001b[0;34m(\u001b[0m\u001b[0mhue\u001b[0m\u001b[0;34m)\u001b[0m\u001b[0;34m\u001b[0m\u001b[0;34m\u001b[0m\u001b[0m\n",
      "\u001b[0;32m/usr/local/anaconda3/lib/python3.8/site-packages/seaborn/axisgrid.py\u001b[0m in \u001b[0;36m_find_numeric_cols\u001b[0;34m(self, data)\u001b[0m\n\u001b[1;32m   1566\u001b[0m         \u001b[0mnumeric_cols\u001b[0m \u001b[0;34m=\u001b[0m \u001b[0;34m[\u001b[0m\u001b[0;34m]\u001b[0m\u001b[0;34m\u001b[0m\u001b[0;34m\u001b[0m\u001b[0m\n\u001b[1;32m   1567\u001b[0m         \u001b[0;32mfor\u001b[0m \u001b[0mcol\u001b[0m \u001b[0;32min\u001b[0m \u001b[0mdata\u001b[0m\u001b[0;34m:\u001b[0m\u001b[0;34m\u001b[0m\u001b[0;34m\u001b[0m\u001b[0m\n\u001b[0;32m-> 1568\u001b[0;31m             \u001b[0;32mif\u001b[0m \u001b[0mvariable_type\u001b[0m\u001b[0;34m(\u001b[0m\u001b[0mdata\u001b[0m\u001b[0;34m[\u001b[0m\u001b[0mcol\u001b[0m\u001b[0;34m]\u001b[0m\u001b[0;34m)\u001b[0m \u001b[0;34m==\u001b[0m \u001b[0;34m\"numeric\"\u001b[0m\u001b[0;34m:\u001b[0m\u001b[0;34m\u001b[0m\u001b[0;34m\u001b[0m\u001b[0m\n\u001b[0m\u001b[1;32m   1569\u001b[0m                 \u001b[0mnumeric_cols\u001b[0m\u001b[0;34m.\u001b[0m\u001b[0mappend\u001b[0m\u001b[0;34m(\u001b[0m\u001b[0mcol\u001b[0m\u001b[0;34m)\u001b[0m\u001b[0;34m\u001b[0m\u001b[0;34m\u001b[0m\u001b[0m\n\u001b[1;32m   1570\u001b[0m         \u001b[0;32mreturn\u001b[0m \u001b[0mnumeric_cols\u001b[0m\u001b[0;34m\u001b[0m\u001b[0;34m\u001b[0m\u001b[0m\n",
      "\u001b[0;32m/usr/local/anaconda3/lib/python3.8/site-packages/seaborn/_core.py\u001b[0m in \u001b[0;36mvariable_type\u001b[0;34m(vector, boolean_type)\u001b[0m\n\u001b[1;32m   1220\u001b[0m \u001b[0;34m\u001b[0m\u001b[0m\n\u001b[1;32m   1221\u001b[0m     \u001b[0;31m# Special-case all-na data, which is always \"numeric\"\u001b[0m\u001b[0;34m\u001b[0m\u001b[0;34m\u001b[0m\u001b[0;34m\u001b[0m\u001b[0m\n\u001b[0;32m-> 1222\u001b[0;31m     \u001b[0;32mif\u001b[0m \u001b[0mpd\u001b[0m\u001b[0;34m.\u001b[0m\u001b[0misna\u001b[0m\u001b[0;34m(\u001b[0m\u001b[0mvector\u001b[0m\u001b[0;34m)\u001b[0m\u001b[0;34m.\u001b[0m\u001b[0mall\u001b[0m\u001b[0;34m(\u001b[0m\u001b[0;34m)\u001b[0m\u001b[0;34m:\u001b[0m\u001b[0;34m\u001b[0m\u001b[0;34m\u001b[0m\u001b[0m\n\u001b[0m\u001b[1;32m   1223\u001b[0m         \u001b[0;32mreturn\u001b[0m \u001b[0;34m\"numeric\"\u001b[0m\u001b[0;34m\u001b[0m\u001b[0;34m\u001b[0m\u001b[0m\n\u001b[1;32m   1224\u001b[0m \u001b[0;34m\u001b[0m\u001b[0m\n",
      "\u001b[0;32m/usr/local/anaconda3/lib/python3.8/site-packages/pandas/core/generic.py\u001b[0m in \u001b[0;36m__nonzero__\u001b[0;34m(self)\u001b[0m\n\u001b[1;32m   1440\u001b[0m     \u001b[0;34m@\u001b[0m\u001b[0mfinal\u001b[0m\u001b[0;34m\u001b[0m\u001b[0;34m\u001b[0m\u001b[0m\n\u001b[1;32m   1441\u001b[0m     \u001b[0;32mdef\u001b[0m \u001b[0m__nonzero__\u001b[0m\u001b[0;34m(\u001b[0m\u001b[0mself\u001b[0m\u001b[0;34m)\u001b[0m\u001b[0;34m:\u001b[0m\u001b[0;34m\u001b[0m\u001b[0;34m\u001b[0m\u001b[0m\n\u001b[0;32m-> 1442\u001b[0;31m         raise ValueError(\n\u001b[0m\u001b[1;32m   1443\u001b[0m             \u001b[0;34mf\"The truth value of a {type(self).__name__} is ambiguous. \"\u001b[0m\u001b[0;34m\u001b[0m\u001b[0;34m\u001b[0m\u001b[0m\n\u001b[1;32m   1444\u001b[0m             \u001b[0;34m\"Use a.empty, a.bool(), a.item(), a.any() or a.all().\"\u001b[0m\u001b[0;34m\u001b[0m\u001b[0;34m\u001b[0m\u001b[0m\n",
      "\u001b[0;31mValueError\u001b[0m: The truth value of a Series is ambiguous. Use a.empty, a.bool(), a.item(), a.any() or a.all()."
     ]
    }
   ],
   "source": [
    "# show pair plot\n",
    "sns.pairplot(train_telco, hue='churn')"
   ]
  },
  {
   "cell_type": "code",
   "execution_count": null,
   "id": "9afd62ac",
   "metadata": {},
   "outputs": [],
   "source": []
  },
  {
   "cell_type": "markdown",
   "id": "fe33c957",
   "metadata": {},
   "source": [
    "## 2) Determine if certain columns should be dropped"
   ]
  },
  {
   "cell_type": "markdown",
   "id": "fce7221c",
   "metadata": {},
   "source": [
    "## 3) Determine if it would be valuable to bin some numeric columns"
   ]
  },
  {
   "cell_type": "markdown",
   "id": "8085c651",
   "metadata": {},
   "source": [
    "## 4) Determine if it would be valuable to combine multiple columns into one."
   ]
  },
  {
   "cell_type": "markdown",
   "id": "c302702e",
   "metadata": {},
   "source": [
    "## 5) What are your drivers of churn?"
   ]
  },
  {
   "cell_type": "markdown",
   "id": "494dc27a",
   "metadata": {},
   "source": [
    "## 6) Does it make sense to combine any features?"
   ]
  },
  {
   "cell_type": "markdown",
   "id": "5ebbe8c8",
   "metadata": {},
   "source": [
    "## 7) Do you find any surprises?"
   ]
  },
  {
   "cell_type": "markdown",
   "id": "9f68fa10",
   "metadata": {},
   "source": [
    "## 8) Document any and all findings and takeaways in your notebook using markdown."
   ]
  }
 ],
 "metadata": {
  "kernelspec": {
   "display_name": "Python 3",
   "language": "python",
   "name": "python3"
  },
  "language_info": {
   "codemirror_mode": {
    "name": "ipython",
    "version": 3
   },
   "file_extension": ".py",
   "mimetype": "text/x-python",
   "name": "python",
   "nbconvert_exporter": "python",
   "pygments_lexer": "ipython3",
   "version": "3.8.8"
  }
 },
 "nbformat": 4,
 "nbformat_minor": 5
}
