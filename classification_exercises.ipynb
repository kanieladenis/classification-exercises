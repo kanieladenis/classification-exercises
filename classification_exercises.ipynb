{
 "cells": [
  {
   "cell_type": "code",
   "execution_count": 1,
   "id": "0231708c",
   "metadata": {},
   "outputs": [],
   "source": [
    "import pandas as pd\n",
    "import numpy as np\n",
    "import scipy.stats as stats\n",
    "import seaborn as sns\n",
    "import matplotlib.pyplot as plt\n",
    "from pydataset import data\n",
    "from sklearn.model_selection import train_test_split\n",
    "import prepare\n",
    "\n",
    "np.random.seed(123)"
   ]
  },
  {
   "cell_type": "code",
   "execution_count": null,
   "id": "84046495",
   "metadata": {},
   "outputs": [],
   "source": [
    "df_iris = data('iris')\n",
    "df_iris.head()"
   ]
  },
  {
   "cell_type": "markdown",
   "id": "e486283a",
   "metadata": {},
   "source": [
    "# 4) Iris Data"
   ]
  },
  {
   "cell_type": "markdown",
   "id": "cdef48b2",
   "metadata": {},
   "source": [
    "## print the first 3 rows"
   ]
  },
  {
   "cell_type": "code",
   "execution_count": null,
   "id": "8434a023",
   "metadata": {},
   "outputs": [],
   "source": [
    "df_iris.head(3)"
   ]
  },
  {
   "cell_type": "markdown",
   "id": "31eda265",
   "metadata": {},
   "source": [
    "## print the number of rows and columns (shape)"
   ]
  },
  {
   "cell_type": "code",
   "execution_count": null,
   "id": "0325fc3c",
   "metadata": {},
   "outputs": [],
   "source": [
    "df_iris.shape"
   ]
  },
  {
   "cell_type": "markdown",
   "id": "477e072c",
   "metadata": {},
   "source": [
    "## print the column names"
   ]
  },
  {
   "cell_type": "code",
   "execution_count": null,
   "id": "51e4641c",
   "metadata": {},
   "outputs": [],
   "source": [
    "df_iris.columns"
   ]
  },
  {
   "cell_type": "markdown",
   "id": "f96d1e5c",
   "metadata": {},
   "source": [
    "## print the data type of each column"
   ]
  },
  {
   "cell_type": "code",
   "execution_count": null,
   "id": "7ca06899",
   "metadata": {},
   "outputs": [],
   "source": [
    "df_iris.dtypes"
   ]
  },
  {
   "cell_type": "markdown",
   "id": "0b361549",
   "metadata": {},
   "source": [
    "## print the summary statistics for each of the numeric variables. Would you recommend rescaling the data based on these statistics"
   ]
  },
  {
   "cell_type": "code",
   "execution_count": null,
   "id": "0b6628f6",
   "metadata": {},
   "outputs": [],
   "source": [
    "df_iris.describe() # No Recommendation to rescale"
   ]
  },
  {
   "cell_type": "markdown",
   "id": "3f4bab49",
   "metadata": {},
   "source": [
    "# 5) Table1_CustDetails table from the Excel_Exercises.xlsx file into a dataframe named df_excel."
   ]
  },
  {
   "cell_type": "code",
   "execution_count": null,
   "id": "0ff621a6",
   "metadata": {},
   "outputs": [],
   "source": [
    "df_excel = pd.read_excel('telco_churn.xlsx')\n",
    "df_excel"
   ]
  },
  {
   "cell_type": "markdown",
   "id": "187ade0c",
   "metadata": {},
   "source": [
    "## assign the first 100 rows to a new dataframe, df_excel_sample"
   ]
  },
  {
   "cell_type": "code",
   "execution_count": null,
   "id": "d03e4703",
   "metadata": {},
   "outputs": [],
   "source": [
    "df_excel_sample = df_excel.head(100)\n",
    "df_excel_sample.shape"
   ]
  },
  {
   "cell_type": "markdown",
   "id": "007c44e3",
   "metadata": {},
   "source": [
    "## print the number of rows of your original dataframe"
   ]
  },
  {
   "cell_type": "code",
   "execution_count": null,
   "id": "63465ecc",
   "metadata": {},
   "outputs": [],
   "source": [
    "df_excel.shape[0]"
   ]
  },
  {
   "cell_type": "markdown",
   "id": "7e086b1f",
   "metadata": {},
   "source": [
    "## print the first 5 column names"
   ]
  },
  {
   "cell_type": "code",
   "execution_count": null,
   "id": "fa93f45a",
   "metadata": {},
   "outputs": [],
   "source": [
    "df_excel.columns[0:5]"
   ]
  },
  {
   "cell_type": "markdown",
   "id": "72256635",
   "metadata": {},
   "source": [
    "## print the column names that have a data type of object"
   ]
  },
  {
   "cell_type": "code",
   "execution_count": null,
   "id": "2e3dc625",
   "metadata": {},
   "outputs": [],
   "source": [
    "df_excel.select_dtypes(include='object').columns\n"
   ]
  },
  {
   "cell_type": "markdown",
   "id": "878a8f50",
   "metadata": {},
   "source": [
    "## compute the range for each of the numeric variables."
   ]
  },
  {
   "cell_type": "code",
   "execution_count": null,
   "id": "ad2bc600",
   "metadata": {},
   "outputs": [],
   "source": [
    "df_excel.monthly_charges.max() - df_excel.monthly_charges.min()"
   ]
  },
  {
   "cell_type": "code",
   "execution_count": null,
   "id": "533b21a3",
   "metadata": {},
   "outputs": [],
   "source": [
    "df_excel.total_charges.max() - df_excel.total_charges.min()"
   ]
  },
  {
   "cell_type": "markdown",
   "id": "e43dcd07",
   "metadata": {},
   "source": [
    "# 6) Read the data from this google sheet into a dataframe, df_google"
   ]
  },
  {
   "cell_type": "code",
   "execution_count": null,
   "id": "57a595c5",
   "metadata": {},
   "outputs": [],
   "source": [
    "sheet_url = 'https://docs.google.com/spreadsheets/d/1Uhtml8KY19LILuZsrDtlsHHDC9wuDGUSe8LTEwvdI5g/edit#gid=341089357'"
   ]
  },
  {
   "cell_type": "code",
   "execution_count": null,
   "id": "926c6bf7",
   "metadata": {},
   "outputs": [],
   "source": [
    "csv_export_url = sheet_url.replace('/edit#gid=', '/export?format=csv&gid=')\n",
    "csv_export_url"
   ]
  },
  {
   "cell_type": "code",
   "execution_count": null,
   "id": "7e6a4d49",
   "metadata": {},
   "outputs": [],
   "source": [
    "df_googlesheet = pd.read_csv(csv_export_url)"
   ]
  },
  {
   "cell_type": "code",
   "execution_count": null,
   "id": "a55489a1",
   "metadata": {},
   "outputs": [],
   "source": [
    "df_googlesheet.head()"
   ]
  },
  {
   "cell_type": "markdown",
   "id": "7d68611e",
   "metadata": {},
   "source": [
    "## print the first 3 rows"
   ]
  },
  {
   "cell_type": "code",
   "execution_count": null,
   "id": "70432e2e",
   "metadata": {},
   "outputs": [],
   "source": [
    "df_googlesheet.head(3)"
   ]
  },
  {
   "cell_type": "markdown",
   "id": "757aec24",
   "metadata": {},
   "source": [
    "## print the number of rows and columns"
   ]
  },
  {
   "cell_type": "code",
   "execution_count": null,
   "id": "053a62d0",
   "metadata": {},
   "outputs": [],
   "source": [
    "df_googlesheet.shape"
   ]
  },
  {
   "cell_type": "markdown",
   "id": "dd70f944",
   "metadata": {},
   "source": [
    "## print the column names"
   ]
  },
  {
   "cell_type": "code",
   "execution_count": null,
   "id": "a631f40b",
   "metadata": {},
   "outputs": [],
   "source": [
    "df_googlesheet.columns"
   ]
  },
  {
   "cell_type": "markdown",
   "id": "5bfa2730",
   "metadata": {},
   "source": [
    "## print the data type of each column"
   ]
  },
  {
   "cell_type": "code",
   "execution_count": null,
   "id": "a204a78f",
   "metadata": {},
   "outputs": [],
   "source": [
    "df_googlesheet.dtypes"
   ]
  },
  {
   "cell_type": "markdown",
   "id": "82be5a42",
   "metadata": {},
   "source": [
    "## print the summary statistics for each of the numeric variables"
   ]
  },
  {
   "cell_type": "code",
   "execution_count": null,
   "id": "b51586c0",
   "metadata": {},
   "outputs": [],
   "source": [
    "df_googlesheet.describe()"
   ]
  },
  {
   "cell_type": "markdown",
   "id": "75d41b2e",
   "metadata": {},
   "source": [
    "## print the unique values for each of your categorical variables"
   ]
  },
  {
   "cell_type": "code",
   "execution_count": null,
   "id": "ff85b178",
   "metadata": {},
   "outputs": [],
   "source": [
    "for col in df_googlesheet.columns:\n",
    "    if df_googlesheet[col].dtypes == 'object':\n",
    "        print(f'{col} has {df_googlesheet[col].nunique()} unique values')"
   ]
  },
  {
   "cell_type": "code",
   "execution_count": null,
   "id": "dfd45107",
   "metadata": {},
   "outputs": [],
   "source": [
    "df_googlesheet.Sex.value_counts()"
   ]
  },
  {
   "cell_type": "code",
   "execution_count": null,
   "id": "9f9c2601",
   "metadata": {},
   "outputs": [],
   "source": [
    "df_googlesheet.Pclass.value_counts()"
   ]
  },
  {
   "cell_type": "code",
   "execution_count": null,
   "id": "da1057a7",
   "metadata": {},
   "outputs": [],
   "source": [
    "df_googlesheet.Survived.value_counts()"
   ]
  },
  {
   "cell_type": "markdown",
   "id": "ca368253",
   "metadata": {},
   "source": [
    "# Data Aquisition Functions -> acquire.py"
   ]
  },
  {
   "cell_type": "markdown",
   "id": "ffca76c5",
   "metadata": {},
   "source": [
    "## 1) Make a function named get_titanic_data that returns the titanic data from the codeup data science database as a pandas data frame. Obtain your data from the Codeup Data Science Database."
   ]
  },
  {
   "cell_type": "code",
   "execution_count": null,
   "id": "d862cf70",
   "metadata": {},
   "outputs": [],
   "source": [
    "def get_connection(db_name):\n",
    "    from env import host, user, password\n",
    "    return f'mysql+pymysql://{user}:{password}@{host}/{db_name}'"
   ]
  },
  {
   "cell_type": "code",
   "execution_count": null,
   "id": "c314ac7a",
   "metadata": {},
   "outputs": [],
   "source": [
    "df_titanic = pd.read_sql('SELECT * FROM passengers', get_connection('titanic_db'))\n",
    "df_titanic.head()"
   ]
  },
  {
   "cell_type": "code",
   "execution_count": null,
   "id": "ce72c9d5",
   "metadata": {},
   "outputs": [],
   "source": [
    "def get_titanic_data():\n",
    "    return pd.read_sql('SELECT * FROM passengers', get_connection('titanic_db'))"
   ]
  },
  {
   "cell_type": "markdown",
   "id": "83084811",
   "metadata": {},
   "source": [
    "## 2) Make a function named get_iris_data that returns the data from the iris_db on the codeup data science database as a pandas data frame. The returned data frame should include the actual name of the species in addition to the species_ids. Obtain your data from the Codeup Data Science Database."
   ]
  },
  {
   "cell_type": "code",
   "execution_count": null,
   "id": "28d2f154",
   "metadata": {
    "scrolled": true
   },
   "outputs": [],
   "source": [
    "df_iris = pd.read_sql('SELECT * FROM species JOIN measurements USING (species_id)', get_connection('iris_db'))\n",
    "df_iris.head()"
   ]
  },
  {
   "cell_type": "code",
   "execution_count": null,
   "id": "b972fa22",
   "metadata": {},
   "outputs": [],
   "source": [
    "def get_iris_data():\n",
    "    return pd.read_sql('SELECT * FROM species JOIN measurements USING (species_id)', get_connection('iris_db'))"
   ]
  },
  {
   "cell_type": "markdown",
   "id": "e384dc51",
   "metadata": {},
   "source": [
    "## 3) Make a function named get_telco_data"
   ]
  },
  {
   "cell_type": "code",
   "execution_count": null,
   "id": "6cf3b848",
   "metadata": {},
   "outputs": [],
   "source": [
    "df_telco = pd.read_sql('''SELECT * FROM customers c\n",
    "                       JOIN contract_types ct ON ct.contract_type_id=c.contract_type_id\n",
    "                       JOIN internet_service_types ist ON ist.internet_service_type_id=c.internet_service_type_id\n",
    "                       JOIN payment_types pt ON pt.payment_type_id=c.payment_type_id\n",
    "                       '''\n",
    "                       , get_connection('telco_churn'))\n",
    "df_telco.head()"
   ]
  },
  {
   "cell_type": "code",
   "execution_count": null,
   "id": "f61dba36",
   "metadata": {},
   "outputs": [],
   "source": [
    "def get_telco_data():\n",
    "    sql = '''SELECT * FROM customers c\n",
    "                       JOIN contract_types ct ON ct.contract_type_id=c.contract_type_id\n",
    "                       JOIN internet_service_types ist ON ist.internet_service_type_id=c.internet_service_type_id\n",
    "                       JOIN payment_types pt ON pt.payment_type_id=c.payment_type_id\n",
    "                       '''\n",
    "    url = get_connection('telco_churn')\n",
    "    return pd.read_sql(sql, url)"
   ]
  },
  {
   "cell_type": "markdown",
   "id": "a0eaa61c",
   "metadata": {},
   "source": [
    "# 4) Add caching to Functions. "
   ]
  },
  {
   "cell_type": "code",
   "execution_count": null,
   "id": "a296fe38",
   "metadata": {},
   "outputs": [],
   "source": [
    "def get_titanic_data():\n",
    "    import os\n",
    "    file_name = 'titanic.csv'\n",
    "    if os.path.isfile(file_name): # checks if file exist\n",
    "        df = pd.read_csv(file_name) # assigns df to read on return\n",
    "    else:\n",
    "        sql = '''\n",
    "        'SELECT * FROM passengers'\n",
    "        '''\n",
    "        url = get_connection('titanic_db')\n",
    "        df = pd.read_sql(sql, url) #creates df\n",
    "        df.to_csv(file_name) # converts df to csv file\n",
    "    return df"
   ]
  },
  {
   "cell_type": "code",
   "execution_count": null,
   "id": "56f81030",
   "metadata": {},
   "outputs": [],
   "source": [
    "get_titanic_data().head()"
   ]
  },
  {
   "cell_type": "code",
   "execution_count": null,
   "id": "2531d8e8",
   "metadata": {},
   "outputs": [],
   "source": [
    "def get_iris_data():\n",
    "    import os\n",
    "    file_name = 'iris.csv'\n",
    "    if os.path.isfile(file_name):\n",
    "        df = pd.read_csv(file_name)\n",
    "    else:\n",
    "        sql = '''\n",
    "        SELECT * FROM species \n",
    "        JOIN measurements USING (species_id)\n",
    "        '''\n",
    "        url = get_connection('iris_db')\n",
    "        df = pd.read_sql(sql,url)\n",
    "        df.to_csv(file_name)\n",
    "    return df"
   ]
  },
  {
   "cell_type": "code",
   "execution_count": null,
   "id": "84a52540",
   "metadata": {},
   "outputs": [],
   "source": [
    "get_iris_data().head()"
   ]
  },
  {
   "cell_type": "code",
   "execution_count": null,
   "id": "3f89d49f",
   "metadata": {},
   "outputs": [],
   "source": [
    "def get_telco_data():\n",
    "    import os\n",
    "    file_name = 'telco.csv'\n",
    "    if os.path.isfile(file_name):\n",
    "        df = pd.read_csv(file_name)\n",
    "    else:\n",
    "        sql = '''\n",
    "        SELECT * FROM customers c\n",
    "        JOIN contract_types ct ON ct.contract_type_id=c.contract_type_id\n",
    "        JOIN internet_service_types ist ON ist.internet_service_type_id=c.internet_service_type_id\n",
    "        JOIN payment_types pt ON pt.payment_type_id=c.payment_type_id\n",
    "        '''\n",
    "        url = get_connection('telco_churn')\n",
    "        df = pd.read_sql(sql, url)\n",
    "        df.to_csv(file_name)\n",
    "    return df"
   ]
  },
  {
   "cell_type": "code",
   "execution_count": null,
   "id": "91bc7e17",
   "metadata": {},
   "outputs": [],
   "source": [
    "get_telco_data().head()"
   ]
  },
  {
   "cell_type": "markdown",
   "id": "0de4ba8c",
   "metadata": {},
   "source": [
    "# Data Prep Exercises"
   ]
  },
  {
   "cell_type": "code",
   "execution_count": null,
   "id": "6582610b",
   "metadata": {},
   "outputs": [],
   "source": [
    "import pandas as pd\n",
    "import numpy as np\n",
    "import matplotlib.pyplot as plt\n",
    "\n",
    "# import splitting and imputing functions\n",
    "from sklearn.model_selection import train_test_split\n",
    "from sklearn.impute import SimpleImputer\n",
    "\n",
    "# turn off pink boxes for demo\n",
    "import warnings\n",
    "warnings.filterwarnings(\"ignore\")\n",
    "\n",
    "# import our own acquire moduleimport acquire"
   ]
  },
  {
   "cell_type": "markdown",
   "id": "55a86740",
   "metadata": {},
   "source": [
    "## Iris Data:"
   ]
  },
  {
   "cell_type": "markdown",
   "id": "e9b83289",
   "metadata": {},
   "source": [
    "### 1) Use the function defined in acquire.py to load the iris data."
   ]
  },
  {
   "cell_type": "code",
   "execution_count": null,
   "id": "5b2f2058",
   "metadata": {},
   "outputs": [],
   "source": [
    "import acquire\n",
    "df = acquire.get_iris_data()\n",
    "df.head()"
   ]
  },
  {
   "cell_type": "markdown",
   "id": "25cc7d55",
   "metadata": {},
   "source": [
    "### 2) Drop the species_id and measurement_id columns."
   ]
  },
  {
   "cell_type": "code",
   "execution_count": null,
   "id": "605f8156",
   "metadata": {},
   "outputs": [],
   "source": [
    "df = df.drop(columns=['species_id','measurement_id'])\n",
    "df"
   ]
  },
  {
   "cell_type": "markdown",
   "id": "67c9aef8",
   "metadata": {},
   "source": [
    "### 3) Rename the species_name column to just species."
   ]
  },
  {
   "cell_type": "code",
   "execution_count": null,
   "id": "e36fbb66",
   "metadata": {},
   "outputs": [],
   "source": [
    "df = df.rename(columns={'species_name':'species'})\n",
    "df.head()"
   ]
  },
  {
   "cell_type": "markdown",
   "id": "37ef438b",
   "metadata": {},
   "source": [
    "### 4) Create dummy variables of the species name and concatenate onto the iris dataframe"
   ]
  },
  {
   "cell_type": "code",
   "execution_count": null,
   "id": "31ba7adf",
   "metadata": {},
   "outputs": [],
   "source": [
    "df_species = pd.get_dummies(df.species, prefix='is')\n",
    "df = pd.concat([df, df_species], axis=1)\n",
    "df"
   ]
  },
  {
   "cell_type": "markdown",
   "id": "ded97ab2",
   "metadata": {},
   "source": [
    "### 5) Create a function named prep_iris that accepts the untransformed iris data, and returns the data with the transformations above applied."
   ]
  },
  {
   "cell_type": "code",
   "execution_count": null,
   "id": "fa7b7b04",
   "metadata": {},
   "outputs": [],
   "source": [
    "def prep_iris():\n",
    "    df = acquire.get_iris_data()\n",
    "    df = df.drop(columns=['species_id','measurement_id'])\n",
    "    df = df.rename(columns={'species_name':'species'})\n",
    "    df_species = pd.get_dummies(df.species, prefix='is')\n",
    "    df = pd.concat([df, df_species], axis=1)\n",
    "    return df"
   ]
  },
  {
   "cell_type": "markdown",
   "id": "d6d77a05",
   "metadata": {},
   "source": [
    "# Titanic Data"
   ]
  },
  {
   "cell_type": "markdown",
   "id": "82c6b41e",
   "metadata": {},
   "source": [
    "## 1) Use the function defined in acquire.py to load the Titanic data."
   ]
  },
  {
   "cell_type": "code",
   "execution_count": null,
   "id": "a35f1e6b",
   "metadata": {},
   "outputs": [],
   "source": [
    "import acquire\n",
    "df = acquire.get_titanic_data()\n",
    "df.head()"
   ]
  },
  {
   "cell_type": "markdown",
   "id": "07c134ef",
   "metadata": {},
   "source": [
    "## 2) Drop any unnecessary, unhelpful, or duplicated columns."
   ]
  },
  {
   "cell_type": "code",
   "execution_count": null,
   "id": "a4f35472",
   "metadata": {},
   "outputs": [],
   "source": [
    "drop_col = ['embarked','fare', 'class', 'deck', 'age']\n",
    "df = df.drop(columns = drop_col)\n",
    "df.head()"
   ]
  },
  {
   "cell_type": "markdown",
   "id": "42c2a7ec",
   "metadata": {},
   "source": [
    "## 3) Encode the categorical columns. Create dummy variables of the categorical columns and concatenate them onto the dataframe"
   ]
  },
  {
   "cell_type": "code",
   "execution_count": null,
   "id": "c12e7370",
   "metadata": {},
   "outputs": [],
   "source": [
    "df.info()"
   ]
  },
  {
   "cell_type": "code",
   "execution_count": null,
   "id": "0258cf4f",
   "metadata": {},
   "outputs": [],
   "source": [
    "obj_cols = df.columns[[df[col].dtypes == 'O' for col in df.columns]]\n",
    "for col in obj_cols:\n",
    "    print(df[col].value_counts())\n",
    "    print(df[col].value_counts(normalize=True, dropna=False))\n",
    "    print('-------------------------------')"
   ]
  },
  {
   "cell_type": "code",
   "execution_count": null,
   "id": "a2a25bd1",
   "metadata": {},
   "outputs": [],
   "source": [
    "df['embark_town'] = df.embark_town.fillna(value='Southampton')\n",
    "df.info()"
   ]
  },
  {
   "cell_type": "code",
   "execution_count": null,
   "id": "3e1e3415",
   "metadata": {},
   "outputs": [],
   "source": [
    "dummies_df = pd.get_dummies(df, columns = ['sex', 'embark_town'], drop_first=[True,True])\n",
    "dummies_df.info()"
   ]
  },
  {
   "cell_type": "code",
   "execution_count": null,
   "id": "a7e14425",
   "metadata": {},
   "outputs": [],
   "source": [
    "dummies_df.head()"
   ]
  },
  {
   "cell_type": "code",
   "execution_count": null,
   "id": "50bfec3c",
   "metadata": {},
   "outputs": [],
   "source": [
    "df = pd.concat([df,dummies_df], axis=1)\n",
    "df.head()"
   ]
  },
  {
   "cell_type": "markdown",
   "id": "98f3bb5d",
   "metadata": {},
   "source": [
    "## 4) Create a function named prep_titanic that accepts the raw titanic data, and returns the data with the transformations above applied."
   ]
  },
  {
   "cell_type": "code",
   "execution_count": null,
   "id": "4ea4e726",
   "metadata": {},
   "outputs": [],
   "source": [
    "def prep_titanic():\n",
    "    df = acquire.get_titanic_data()\n",
    "    drop_col = ['embarked','fare', 'class', 'deck', 'age']\n",
    "    df = df.drop(columns = drop_col)\n",
    "    df['embark_town'] = df.embark_town.fillna(value='Southampton')\n",
    "    dummies_df = pd.get_dummies(df, columns = ['sex', 'embark_town'], drop_first=[True,True])\n",
    "    df = pd.concat([df,dummies_df], axis=1)\n",
    "    return df\n",
    "    "
   ]
  },
  {
   "cell_type": "markdown",
   "id": "ed883a66",
   "metadata": {},
   "source": [
    "# Telco Data"
   ]
  },
  {
   "cell_type": "markdown",
   "id": "913021ee",
   "metadata": {},
   "source": [
    "## 1) Use the function defined in acquire.py to load the Telco data."
   ]
  },
  {
   "cell_type": "code",
   "execution_count": null,
   "id": "2380a9d6",
   "metadata": {},
   "outputs": [],
   "source": [
    "import acquire\n",
    "df = acquire.get_telco_data()\n",
    "df.head()"
   ]
  },
  {
   "cell_type": "markdown",
   "id": "a22e4800",
   "metadata": {},
   "source": [
    "## 2) Drop any unnecessary, unhelpful, or duplicated columns. This could mean dropping foreign key columns but keeping the corresponding string values, for example."
   ]
  },
  {
   "cell_type": "code",
   "execution_count": null,
   "id": "9daf4e21",
   "metadata": {},
   "outputs": [],
   "source": [
    "df.info()"
   ]
  },
  {
   "cell_type": "code",
   "execution_count": null,
   "id": "6021fbcd",
   "metadata": {},
   "outputs": [],
   "source": [
    "df.shape"
   ]
  },
  {
   "cell_type": "code",
   "execution_count": null,
   "id": "32b21cff",
   "metadata": {},
   "outputs": [],
   "source": [
    "df.duplicated().any()"
   ]
  },
  {
   "cell_type": "code",
   "execution_count": null,
   "id": "31a9cddd",
   "metadata": {},
   "outputs": [],
   "source": [
    "# check if columns are duplicated\n",
    "df.duplicated(subset=['internet_service_type_id','internet_service_type_id.1']).any()"
   ]
  },
  {
   "cell_type": "code",
   "execution_count": null,
   "id": "9ac0d4d9",
   "metadata": {},
   "outputs": [],
   "source": [
    "# check if columns are duplicated\n",
    "df.duplicated(subset=['contract_type_id','contract_type_id.1']).any()"
   ]
  },
  {
   "cell_type": "code",
   "execution_count": null,
   "id": "0b6265cd",
   "metadata": {},
   "outputs": [],
   "source": [
    "# check if columns are duplicated\n",
    "df.duplicated(subset=['payment_type_id','payment_type_id.1']).any()"
   ]
  },
  {
   "cell_type": "code",
   "execution_count": null,
   "id": "8f2df1a2",
   "metadata": {},
   "outputs": [],
   "source": [
    "drop_cols = ['internet_service_type_id',\n",
    "             'internet_service_type_id.1',\n",
    "             'contract_type_id',\n",
    "             'contract_type_id.1',\n",
    "             'payment_type_id',\n",
    "             'payment_type_id.1']"
   ]
  },
  {
   "cell_type": "code",
   "execution_count": null,
   "id": "e05c6911",
   "metadata": {},
   "outputs": [],
   "source": [
    "df = df.drop(columns=drop_cols)\n",
    "df.shape"
   ]
  },
  {
   "cell_type": "code",
   "execution_count": null,
   "id": "3631cdc8",
   "metadata": {},
   "outputs": [],
   "source": [
    "df.info()"
   ]
  },
  {
   "cell_type": "code",
   "execution_count": null,
   "id": "8c162302",
   "metadata": {},
   "outputs": [],
   "source": [
    "# shows 11 blank values\n",
    "df.total_charges.value_counts()"
   ]
  },
  {
   "cell_type": "code",
   "execution_count": null,
   "id": "c2a8cab7",
   "metadata": {},
   "outputs": [],
   "source": [
    "# show no na values\n",
    "df[df.total_charges.isna()]"
   ]
  },
  {
   "cell_type": "code",
   "execution_count": null,
   "id": "420238c2",
   "metadata": {},
   "outputs": [],
   "source": [
    "# shows no null values\n",
    "df[df.total_charges.isnull()]"
   ]
  },
  {
   "cell_type": "code",
   "execution_count": null,
   "id": "96bc803c",
   "metadata": {},
   "outputs": [],
   "source": [
    "# show total_charges with blank values\n",
    "df[df.total_charges == ' '].head()"
   ]
  },
  {
   "cell_type": "code",
   "execution_count": null,
   "id": "821f2eff",
   "metadata": {},
   "outputs": [],
   "source": [
    "# replace blank spaces with zeros\n",
    "df['total_charges'] = df.total_charges.replace(' ', '0')"
   ]
  },
  {
   "cell_type": "code",
   "execution_count": null,
   "id": "bb11c72b",
   "metadata": {},
   "outputs": [],
   "source": [
    "# confirmed no more blank values\n",
    "df[df.total_charges == ' ']"
   ]
  },
  {
   "cell_type": "code",
   "execution_count": null,
   "id": "6624c17e",
   "metadata": {},
   "outputs": [],
   "source": [
    "# convert total charges from object to float\n",
    "df.total_charges = df.total_charges.astype(float)"
   ]
  },
  {
   "cell_type": "code",
   "execution_count": null,
   "id": "6a66ad2c",
   "metadata": {},
   "outputs": [],
   "source": [
    "# confirmed change to float\n",
    "df.info()"
   ]
  },
  {
   "cell_type": "code",
   "execution_count": null,
   "id": "14ce1331",
   "metadata": {},
   "outputs": [],
   "source": [
    "obj_cols = df.columns[[df[col].dtypes == 'O' for col in df.columns]]\n",
    "obj_cols"
   ]
  },
  {
   "cell_type": "code",
   "execution_count": null,
   "id": "d3a49b06",
   "metadata": {},
   "outputs": [],
   "source": [
    "for col in obj_cols:\n",
    "    print(df[col].value_counts())\n",
    "    print(df[col].value_counts(normalize=True, dropna=False))\n",
    "    print('-------------------------------------')"
   ]
  },
  {
   "cell_type": "markdown",
   "id": "81ca781c",
   "metadata": {},
   "source": [
    "## 3) Encode the categorical columns. Create dummy variables of the categorical columns and concatenate them onto the dataframe."
   ]
  },
  {
   "cell_type": "code",
   "execution_count": null,
   "id": "e66051db",
   "metadata": {},
   "outputs": [],
   "source": [
    "df.columns.to_list()"
   ]
  },
  {
   "cell_type": "code",
   "execution_count": null,
   "id": "185cc0dd",
   "metadata": {},
   "outputs": [],
   "source": [
    "# identified columns to encode and assigned to variable\n",
    "dummies_cols = [\n",
    " 'gender',\n",
    " 'senior_citizen',\n",
    " 'partner',\n",
    " 'dependents',\n",
    " 'phone_service',\n",
    " 'multiple_lines',\n",
    " 'online_security',\n",
    " 'online_backup',\n",
    " 'device_protection',\n",
    " 'tech_support',\n",
    " 'streaming_tv',\n",
    " 'streaming_movies',\n",
    " 'paperless_billing',\n",
    " 'churn',\n",
    " 'contract_type',\n",
    " 'internet_service_type',\n",
    " 'payment_type']"
   ]
  },
  {
   "cell_type": "code",
   "execution_count": null,
   "id": "196142bb",
   "metadata": {},
   "outputs": [],
   "source": [
    "# performed get_dummmies function to create dummy variables\n",
    "dummies_df = pd.get_dummies(df[dummies_cols], drop_first=True)\n",
    "dummies_df.columns.to_list()"
   ]
  },
  {
   "cell_type": "code",
   "execution_count": null,
   "id": "1b982087",
   "metadata": {},
   "outputs": [],
   "source": [
    "# concat fd with new dummy variable columns\n",
    "df = pd.concat([df, dummies_df], axis=1)\n",
    "df.columns.to_list()"
   ]
  },
  {
   "cell_type": "markdown",
   "id": "9a122fb8",
   "metadata": {},
   "source": [
    "## 4) Create a function named prep_telco that accepts the raw telco data, and returns the data with the transformations above applied."
   ]
  },
  {
   "cell_type": "code",
   "execution_count": null,
   "id": "41e00136",
   "metadata": {},
   "outputs": [],
   "source": [
    "def prep_telco():\n",
    "    df = acquire.get_telco_data()\n",
    "    # id cols to drop\n",
    "    drop_cols = ['internet_service_type_id',\n",
    "             'internet_service_type_id.1',\n",
    "             'contract_type_id',\n",
    "             'contract_type_id.1',\n",
    "             'payment_type_id',\n",
    "             'payment_type_id.1']\n",
    "    # drop columns\n",
    "    df = df.drop(columns=drop_cols)\n",
    "    # replace blank spaces with zeros\n",
    "    df['total_charges'] = df.total_charges.replace(' ', '0')\n",
    "    # convert total charges from object to float\n",
    "    df.total_charges = df.total_charges.astype(float)\n",
    "    # id columns for dummy variables\n",
    "    dummies_cols = [\n",
    " 'gender',\n",
    " 'senior_citizen',\n",
    " 'partner',\n",
    " 'dependents',\n",
    " 'phone_service',\n",
    " 'multiple_lines',\n",
    " 'online_security',\n",
    " 'online_backup',\n",
    " 'device_protection',\n",
    " 'tech_support',\n",
    " 'streaming_tv',\n",
    " 'streaming_movies',\n",
    " 'paperless_billing',\n",
    " 'churn',\n",
    " 'contract_type',\n",
    " 'internet_service_type',\n",
    " 'payment_type']\n",
    "    # creaet dummy variables and assign to variable\n",
    "    dummies_df = pd.get_dummies(df[dummies_cols], drop_first=True)\n",
    "    # concat df with dummy variable columns\n",
    "    df = pd.concat([df, dummies_df], axis=1)\n",
    "    return df\n",
    "    "
   ]
  },
  {
   "cell_type": "code",
   "execution_count": null,
   "id": "34f726ee",
   "metadata": {},
   "outputs": [],
   "source": [
    "prep_telco()"
   ]
  },
  {
   "cell_type": "code",
   "execution_count": null,
   "id": "38de6aee",
   "metadata": {},
   "outputs": [],
   "source": [
    "### created prepare.py file"
   ]
  },
  {
   "cell_type": "markdown",
   "id": "b944ee95",
   "metadata": {},
   "source": [
    "# Split Data"
   ]
  },
  {
   "cell_type": "code",
   "execution_count": null,
   "id": "52a8a881",
   "metadata": {},
   "outputs": [],
   "source": [
    "from sklearn.model_selection import train_test_split"
   ]
  },
  {
   "cell_type": "code",
   "execution_count": null,
   "id": "be3f8eae",
   "metadata": {},
   "outputs": [],
   "source": [
    "df = prepare.prep_titanic()\n",
    "df.head()"
   ]
  },
  {
   "cell_type": "code",
   "execution_count": null,
   "id": "da53204f",
   "metadata": {},
   "outputs": [],
   "source": [
    "def split_titanic(df):\n",
    "    train_validate, test = train_test_split(df, \n",
    "                                             test_size=.2, \n",
    "                                             random_state=123, \n",
    "                                             stratify=df.survived)\n",
    "    train, validate = train_test_split(train_validate,\n",
    "                                      test_size=.3,\n",
    "                                      random_state=123,\n",
    "                                      stratify=train_validate.survived)\n",
    "    return train, validate, test"
   ]
  },
  {
   "cell_type": "code",
   "execution_count": null,
   "id": "6696fed2",
   "metadata": {},
   "outputs": [],
   "source": [
    "# assign split portions to variables for print\n",
    "train, validate, test = split_titanic(df)"
   ]
  },
  {
   "cell_type": "code",
   "execution_count": null,
   "id": "615b139d",
   "metadata": {},
   "outputs": [],
   "source": [
    "# print to validate the split\n",
    "print(f'train -> {train.shape}')\n",
    "print(f'validate -> {validate.shape}')\n",
    "print(f'test -> {test.shape}')\n"
   ]
  },
  {
   "cell_type": "code",
   "execution_count": null,
   "id": "00111464",
   "metadata": {},
   "outputs": [],
   "source": [
    "df = prepare.prep_iris()\n",
    "df"
   ]
  },
  {
   "cell_type": "code",
   "execution_count": null,
   "id": "d21f3770",
   "metadata": {},
   "outputs": [],
   "source": [
    "def split_iris(df):\n",
    "    train_validate, test = train_test_split(df, \n",
    "                                             test_size=.2, \n",
    "                                             random_state=123, \n",
    "                                             stratify=df.species)\n",
    "    train, validate = train_test_split(train_validate,\n",
    "                                      test_size=.3,\n",
    "                                      random_state=123,\n",
    "                                      stratify=train_validate.species)\n",
    "    return train, validate, test"
   ]
  },
  {
   "cell_type": "code",
   "execution_count": null,
   "id": "0b813a63",
   "metadata": {},
   "outputs": [],
   "source": [
    "# assign split portions to variables for print\n",
    "train, validate, test = split_iris(df)"
   ]
  },
  {
   "cell_type": "code",
   "execution_count": null,
   "id": "2c518159",
   "metadata": {},
   "outputs": [],
   "source": [
    "# print to validate the split\n",
    "print(f'train -> {train.shape}')\n",
    "print(f'validate -> {validate.shape}')\n",
    "print(f'test -> {test.shape}')"
   ]
  },
  {
   "cell_type": "code",
   "execution_count": null,
   "id": "e7594b85",
   "metadata": {},
   "outputs": [],
   "source": [
    "df = prepare.prep_telco()\n",
    "df.head()"
   ]
  },
  {
   "cell_type": "code",
   "execution_count": null,
   "id": "8027781a",
   "metadata": {},
   "outputs": [],
   "source": [
    "def split_telco(df):\n",
    "    train_validate, test = train_test_split(df, \n",
    "                                             test_size=.2, \n",
    "                                             random_state=123, \n",
    "                                             stratify=df.churn)\n",
    "    train, validate = train_test_split(train_validate,\n",
    "                                      test_size=.3,\n",
    "                                      random_state=123,\n",
    "                                      stratify=train_validate.churn)\n",
    "    return train, validate, test"
   ]
  },
  {
   "cell_type": "code",
   "execution_count": null,
   "id": "fe4fca93",
   "metadata": {},
   "outputs": [],
   "source": [
    "# assign split portions to variables for print\n",
    "train, validate, test = split_telco(df)"
   ]
  },
  {
   "cell_type": "code",
   "execution_count": null,
   "id": "74d2cf21",
   "metadata": {},
   "outputs": [],
   "source": [
    "# print to validate the split\n",
    "print(f'train -> {train.shape}')\n",
    "print(f'validate -> {validate.shape}')\n",
    "print(f'test -> {test.shape}')"
   ]
  },
  {
   "cell_type": "markdown",
   "id": "a67a81f0",
   "metadata": {},
   "source": [
    "# Exploratory Analysis"
   ]
  },
  {
   "cell_type": "markdown",
   "id": "0dd8b0c4",
   "metadata": {},
   "source": [
    "## Exercise I - Explore Iris Data"
   ]
  },
  {
   "cell_type": "markdown",
   "id": "f61833f2",
   "metadata": {},
   "source": [
    "### 1) Acquire, prepare & split your data."
   ]
  },
  {
   "cell_type": "code",
   "execution_count": null,
   "id": "9228489d",
   "metadata": {},
   "outputs": [],
   "source": [
    "import prepare"
   ]
  },
  {
   "cell_type": "code",
   "execution_count": null,
   "id": "89b19778",
   "metadata": {},
   "outputs": [],
   "source": [
    "df = prepare.prep_iris()\n",
    "df.head()"
   ]
  },
  {
   "cell_type": "code",
   "execution_count": null,
   "id": "4b3189ac",
   "metadata": {},
   "outputs": [],
   "source": [
    "train, validate, test = prepare.split_iris(df)"
   ]
  },
  {
   "cell_type": "code",
   "execution_count": null,
   "id": "5dc0dfbe",
   "metadata": {},
   "outputs": [],
   "source": [
    "print(f'train -> {train.shape}')\n",
    "print(f'validate -> {validate.shape}')\n",
    "print(f'test -> {test.shape}')"
   ]
  },
  {
   "cell_type": "code",
   "execution_count": null,
   "id": "c2a23b6f",
   "metadata": {},
   "outputs": [],
   "source": [
    "train.info()"
   ]
  },
  {
   "cell_type": "markdown",
   "id": "15fa9b92",
   "metadata": {},
   "source": [
    "### 2) Univariate Stats"
   ]
  },
  {
   "cell_type": "markdown",
   "id": "818c0f50",
   "metadata": {},
   "source": [
    "- 1) For each measurement type (quantitative variable): create a histogram, boxplot, & compute descriptive statistics (using .describe())."
   ]
  },
  {
   "cell_type": "code",
   "execution_count": null,
   "id": "0892252e",
   "metadata": {
    "scrolled": true
   },
   "outputs": [],
   "source": [
    "train.columns.to_list()"
   ]
  },
  {
   "cell_type": "code",
   "execution_count": null,
   "id": "14d2cb4a",
   "metadata": {},
   "outputs": [],
   "source": [
    "# id columns to keep\n",
    "cols_counts = ['sepal_length',\n",
    " 'sepal_width',\n",
    " 'petal_length',\n",
    " 'petal_width',]"
   ]
  },
  {
   "cell_type": "code",
   "execution_count": null,
   "id": "2e6151ea",
   "metadata": {},
   "outputs": [],
   "source": [
    "# create subset of train df\n",
    "train_cols = train[cols_counts]\n",
    "train_cols.head()"
   ]
  },
  {
   "cell_type": "code",
   "execution_count": null,
   "id": "c2d76c35",
   "metadata": {},
   "outputs": [],
   "source": [
    "# create histograms for each column id'd\n",
    "for col in train_cols:\n",
    "    plt.hist(train_cols[col])\n",
    "    plt.title(col)\n",
    "    plt.show()"
   ]
  },
  {
   "cell_type": "code",
   "execution_count": null,
   "id": "8d1965a5",
   "metadata": {},
   "outputs": [],
   "source": [
    "# create boxplot for each column id'd\n",
    "for col in train_cols:\n",
    "    plt.boxplot(train_cols[col])\n",
    "    plt.title(col)\n",
    "    plt.show()"
   ]
  },
  {
   "cell_type": "code",
   "execution_count": null,
   "id": "8c8d151b",
   "metadata": {},
   "outputs": [],
   "source": [
    "# compute descriptive statistics for columns id'\n",
    "train_cols.describe()"
   ]
  },
  {
   "cell_type": "markdown",
   "id": "b239b70c",
   "metadata": {},
   "source": [
    "- 2) For each species (categorical variable): create a frequency table and a bar plot of those frequencies"
   ]
  },
  {
   "cell_type": "code",
   "execution_count": null,
   "id": "4f743c3c",
   "metadata": {},
   "outputs": [],
   "source": [
    "train_setosa = train[train.species == 'setosa']\n",
    "train_setosa = train_setosa[['sepal_width', 'sepal_length', 'petal_width', 'petal_length']]\n",
    "train_setosa.value_counts()"
   ]
  },
  {
   "cell_type": "code",
   "execution_count": null,
   "id": "acf6b69c",
   "metadata": {},
   "outputs": [],
   "source": [
    "sns.barplot(data=train_setosa)\n",
    "plt.title('Setosa Sepal Measurements Larger than Petal Measurment')"
   ]
  },
  {
   "cell_type": "code",
   "execution_count": null,
   "id": "424b4a94",
   "metadata": {},
   "outputs": [],
   "source": [
    "train.species.value_counts()"
   ]
  },
  {
   "cell_type": "code",
   "execution_count": null,
   "id": "1ebe270f",
   "metadata": {},
   "outputs": [],
   "source": [
    "train_virginica = train[train.species == 'virginica']\n",
    "train_virginica = train_virginica[['sepal_width', 'sepal_length', 'petal_width', 'petal_length']]\n",
    "train_virginica.head()"
   ]
  },
  {
   "cell_type": "code",
   "execution_count": null,
   "id": "7dbf39ff",
   "metadata": {},
   "outputs": [],
   "source": [
    "sns.barplot(data=train_virginica)\n",
    "plt.title('Virginica Lengths Larger than Widths')"
   ]
  },
  {
   "cell_type": "code",
   "execution_count": null,
   "id": "583875bb",
   "metadata": {},
   "outputs": [],
   "source": [
    "train_versicolor = train[train.species == 'versicolor']\n",
    "train_versicolor = train_versicolor[['sepal_width', 'sepal_length', 'petal_width', 'petal_length']]\n",
    "train_versicolor.head()"
   ]
  },
  {
   "cell_type": "code",
   "execution_count": null,
   "id": "4bdd4677",
   "metadata": {},
   "outputs": [],
   "source": [
    "sns.barplot(data=train_versicolor)\n",
    "plt.title('Versicolor Lengths are Larger than Widths')"
   ]
  },
  {
   "cell_type": "markdown",
   "id": "144ef767",
   "metadata": {},
   "source": [
    "- 3) Document takeaways & any actions.\n",
    "* sepal_width has one outlier\n",
    "* Setosa Sepal Measurements Larger than Petal Measurment\n",
    "* Virginica Lengths Larger than Widths\n",
    "* Versicolor Lengths are Larger than Widths"
   ]
  },
  {
   "cell_type": "markdown",
   "id": "65571467",
   "metadata": {},
   "source": [
    "### 3) Bivariate Stats"
   ]
  },
  {
   "cell_type": "markdown",
   "id": "773f588a",
   "metadata": {},
   "source": [
    "- 1) Visualize each measurement type (y-axis) with the species variable (x-axis) using barplots, adding a horizontal line showing the overall mean of the metric (y-axis)."
   ]
  },
  {
   "cell_type": "code",
   "execution_count": null,
   "id": "2bd4db16",
   "metadata": {},
   "outputs": [],
   "source": [
    "cols_used = ['species',\n",
    " 'sepal_length',\n",
    " 'sepal_width',\n",
    " 'petal_length',\n",
    " 'petal_width']"
   ]
  },
  {
   "cell_type": "code",
   "execution_count": null,
   "id": "e99b0caa",
   "metadata": {},
   "outputs": [],
   "source": [
    "train_cols = train[cols_used]\n",
    "train_cols.head()"
   ]
  },
  {
   "cell_type": "code",
   "execution_count": null,
   "id": "727d15f6",
   "metadata": {},
   "outputs": [],
   "source": [
    "sns.barplot(x='species', y='sepal_length', data=train_cols)\n",
    "sepal_length_mean = train_cols.sepal_length.mean()\n",
    "plt.axhline(sepal_length_mean, label='Sepal Length Mean')\n",
    "plt.legend()\n",
    "plt.show()"
   ]
  },
  {
   "cell_type": "code",
   "execution_count": null,
   "id": "1a758359",
   "metadata": {},
   "outputs": [],
   "source": [
    "sns.barplot(x='species', y='sepal_width', data=train_cols)\n",
    "sepal_width_mean = train_cols.sepal_width.mean()\n",
    "plt.axhline(sepal_width_mean, label='Sepal Width Mean')\n",
    "plt.legend()\n",
    "plt.show()"
   ]
  },
  {
   "cell_type": "code",
   "execution_count": null,
   "id": "5a499070",
   "metadata": {},
   "outputs": [],
   "source": [
    "sns.barplot(x='species', y='petal_length', data=train_cols)\n",
    "petal_length_mean = train_cols.petal_length.mean()\n",
    "plt.axhline(petal_length_mean, label='Petal Length Mean')\n",
    "plt.legend()\n",
    "plt.show()"
   ]
  },
  {
   "cell_type": "code",
   "execution_count": null,
   "id": "a37e0fe7",
   "metadata": {},
   "outputs": [],
   "source": [
    "sns.barplot(x='species', y='petal_width', data=train_cols)\n",
    "petal_width_mean = train_cols.petal_width.mean()\n",
    "plt.axhline(petal_width_mean, label='Petal Width Mean')\n",
    "plt.legend()\n",
    "plt.show()"
   ]
  },
  {
   "cell_type": "markdown",
   "id": "e12cd87b",
   "metadata": {},
   "source": [
    "- 2) For each measurement type, compute the descriptive statistics for each species."
   ]
  },
  {
   "cell_type": "code",
   "execution_count": null,
   "id": "921c1881",
   "metadata": {},
   "outputs": [],
   "source": [
    "train_setosa.describe()"
   ]
  },
  {
   "cell_type": "code",
   "execution_count": null,
   "id": "fe209073",
   "metadata": {},
   "outputs": [],
   "source": [
    "train_virginica.describe()"
   ]
  },
  {
   "cell_type": "code",
   "execution_count": null,
   "id": "092ee07d",
   "metadata": {},
   "outputs": [],
   "source": [
    "train_versicolor.describe()"
   ]
  },
  {
   "cell_type": "markdown",
   "id": "a07725b5",
   "metadata": {},
   "source": [
    "- 3) For virginica & versicolor: Compare the mean petal_width using the Mann-Whitney test (scipy.stats.mannwhitneyu) to see if there is a significant difference between the two groups. Do the same for the other measurement types."
   ]
  },
  {
   "cell_type": "code",
   "execution_count": null,
   "id": "87030e93",
   "metadata": {},
   "outputs": [],
   "source": [
    "t, p = stats.mannwhitneyu(train_virginica.sepal_width, train_versicolor.sepal_width)\n",
    "t, p # there is significant difference betweeen Virginica & Versicolor Sepal Widths"
   ]
  },
  {
   "cell_type": "code",
   "execution_count": null,
   "id": "eccabf7a",
   "metadata": {},
   "outputs": [],
   "source": [
    "t, p = stats.mannwhitneyu(train_virginica.sepal_length, train_versicolor.sepal_length)\n",
    "t, p # There are significant differences between Virginica & Versicolor Sepal Lengths"
   ]
  },
  {
   "cell_type": "code",
   "execution_count": null,
   "id": "37b92cff",
   "metadata": {},
   "outputs": [],
   "source": [
    "t, p = stats.mannwhitneyu(train_virginica.petal_width, train_versicolor.petal_width)\n",
    "t, p # There are significant differences between Virginica & Versicolor Petal Widths"
   ]
  },
  {
   "cell_type": "code",
   "execution_count": null,
   "id": "31b13860",
   "metadata": {},
   "outputs": [],
   "source": [
    "t, p = stats.mannwhitneyu(train_virginica.petal_length, train_versicolor.petal_length)\n",
    "t, p # There are significant differences between Virginica & Versicolor Petal Lengths"
   ]
  },
  {
   "cell_type": "markdown",
   "id": "033e49c6",
   "metadata": {},
   "source": [
    "- 4) Document takeaways & any actions."
   ]
  },
  {
   "cell_type": "markdown",
   "id": "be4a3459",
   "metadata": {},
   "source": [
    "* ?????"
   ]
  },
  {
   "cell_type": "markdown",
   "id": "89d1f291",
   "metadata": {},
   "source": [
    "### 4) Multivariate Stats"
   ]
  },
  {
   "cell_type": "markdown",
   "id": "95be6df6",
   "metadata": {},
   "source": [
    "- 1) Visualize the interaction of each measurement type with the others using a pairplot (or scatter matrix or something similar) and add color to represent species."
   ]
  },
  {
   "cell_type": "code",
   "execution_count": null,
   "id": "ea9a0adc",
   "metadata": {},
   "outputs": [],
   "source": [
    "sns.pairplot(data=train_cols, hue='species')"
   ]
  },
  {
   "cell_type": "markdown",
   "id": "0080466e",
   "metadata": {},
   "source": [
    "- 2) Visualize two numeric variables by means of the species. Hint: sns.relplot with hue or col"
   ]
  },
  {
   "cell_type": "code",
   "execution_count": null,
   "id": "b52027d1",
   "metadata": {},
   "outputs": [],
   "source": [
    "sns.relplot(data=train, x='sepal_length', y='sepal_width', hue='species')"
   ]
  },
  {
   "cell_type": "markdown",
   "id": "13535784",
   "metadata": {},
   "source": [
    "- 3) Create a swarmplot using a melted dataframe of all your numeric variables. The x-axis should be the variable name, the y-axis the measure. Add another dimension using color to represent species. Document takeaways from this visualization"
   ]
  },
  {
   "cell_type": "code",
   "execution_count": null,
   "id": "1d8fe631",
   "metadata": {},
   "outputs": [],
   "source": [
    "train_melt = train_cols.melt(id_vars='species')\n",
    "train_melt"
   ]
  },
  {
   "cell_type": "code",
   "execution_count": null,
   "id": "77cfbbec",
   "metadata": {},
   "outputs": [],
   "source": [
    "sns.swarmplot(data=train_melt, x='variable', y='value', hue='species')"
   ]
  },
  {
   "cell_type": "markdown",
   "id": "4882c48f",
   "metadata": {},
   "source": [
    "### Document Take Aways\n",
    "- Setosa Petal Length is significantly samller than others\n",
    "- Sepal Wideth is mixed between all species"
   ]
  },
  {
   "cell_type": "markdown",
   "id": "10c77eaa",
   "metadata": {},
   "source": [
    "- 4) Ask a specific question of the data, such as: is the sepal area signficantly different in virginica compared to setosa? Answer the question through both a plot and using a mann-whitney or t-test. If you use a t-test, be sure assumptions are met (independence, normality, equal variance)."
   ]
  },
  {
   "cell_type": "code",
   "execution_count": null,
   "id": "4534c089",
   "metadata": {},
   "outputs": [],
   "source": [
    "train_areas = train_cols.copy()"
   ]
  },
  {
   "cell_type": "code",
   "execution_count": null,
   "id": "1c8aa07b",
   "metadata": {},
   "outputs": [],
   "source": [
    "train_areas['sepal_areas'] = (train_areas.sepal_length) * (train_areas.sepal_width)\n",
    "train_areas.head()"
   ]
  },
  {
   "cell_type": "code",
   "execution_count": null,
   "id": "8600a3b9",
   "metadata": {},
   "outputs": [],
   "source": [
    "train_areas['petal_areas'] = (train_areas.petal_length) * (train_areas.petal_width)\n",
    "train_areas.head()"
   ]
  },
  {
   "cell_type": "code",
   "execution_count": null,
   "id": "698e5e9e",
   "metadata": {},
   "outputs": [],
   "source": [
    "train_areas = train_areas[['species',\n",
    " 'sepal_areas',\n",
    " 'petal_areas']]\n",
    "train_areas.head()"
   ]
  },
  {
   "cell_type": "code",
   "execution_count": null,
   "id": "974f248b",
   "metadata": {},
   "outputs": [],
   "source": [
    "# remove species: versicolor\n",
    "setosa_virginica_areas = train_areas[(train_areas.species=='setosa') | (train_areas.species=='virginica')]\n",
    "setosa_virginica_areas.head()"
   ]
  },
  {
   "cell_type": "code",
   "execution_count": null,
   "id": "171f9711",
   "metadata": {},
   "outputs": [],
   "source": [
    "# create plot\n",
    "sns.barplot(x='species', y='sepal_areas', data=setosa_virginica_areas)\n",
    "plt.title('No Significant Difference Between Setosa / Virginica Sepal Areas')"
   ]
  },
  {
   "cell_type": "markdown",
   "id": "97007acd",
   "metadata": {},
   "source": [
    "### Sepal Area is not significantly different between Setosa and Virginica"
   ]
  },
  {
   "cell_type": "code",
   "execution_count": null,
   "id": "a450cceb",
   "metadata": {},
   "outputs": [],
   "source": [
    "sns.scatterplot(data=setosa_virginica_areas, x='species', y='sepal_areas')\n",
    "plt.title('No Significant Difference')"
   ]
  },
  {
   "cell_type": "markdown",
   "id": "c36de7d6",
   "metadata": {},
   "source": [
    "### Use T-Test or MannWhitney for Hypothesis Test"
   ]
  },
  {
   "cell_type": "code",
   "execution_count": null,
   "id": "be2bc7db",
   "metadata": {},
   "outputs": [],
   "source": [
    "setosa_sepal_areas = setosa_virginica_areas[setosa_virginica_areas.species=='setosa'].sepal_areas\n",
    "virginica_sepal_areas = setosa_virginica_areas[setosa_virginica_areas.species=='virginica'].sepal_areas"
   ]
  },
  {
   "cell_type": "code",
   "execution_count": null,
   "id": "d86e2d83",
   "metadata": {},
   "outputs": [],
   "source": [
    "t, p = stats.mannwhitneyu(setosa_sepal_areas,virginica_sepal_areas )\n",
    "t, p # No significant differnce between Setosa & Virginica Sepal Areas"
   ]
  },
  {
   "cell_type": "markdown",
   "id": "f585ee88",
   "metadata": {},
   "source": [
    "- 5) Document takeaways and any actions.\n",
    "* No Sigficant difference between Setosa and Virginica Sepal Areas"
   ]
  },
  {
   "cell_type": "markdown",
   "id": "a0be0a35",
   "metadata": {},
   "source": [
    "# Exercise II - Explore Titanic Data"
   ]
  },
  {
   "cell_type": "code",
   "execution_count": 2,
   "id": "aa752da1",
   "metadata": {},
   "outputs": [
    {
     "data": {
      "text/html": [
       "<div>\n",
       "<style scoped>\n",
       "    .dataframe tbody tr th:only-of-type {\n",
       "        vertical-align: middle;\n",
       "    }\n",
       "\n",
       "    .dataframe tbody tr th {\n",
       "        vertical-align: top;\n",
       "    }\n",
       "\n",
       "    .dataframe thead th {\n",
       "        text-align: right;\n",
       "    }\n",
       "</style>\n",
       "<table border=\"1\" class=\"dataframe\">\n",
       "  <thead>\n",
       "    <tr style=\"text-align: right;\">\n",
       "      <th></th>\n",
       "      <th>passenger_id</th>\n",
       "      <th>survived</th>\n",
       "      <th>pclass</th>\n",
       "      <th>sex</th>\n",
       "      <th>sibsp</th>\n",
       "      <th>parch</th>\n",
       "      <th>embark_town</th>\n",
       "      <th>alone</th>\n",
       "      <th>sex_male</th>\n",
       "      <th>embark_town_Queenstown</th>\n",
       "      <th>embark_town_Southampton</th>\n",
       "    </tr>\n",
       "  </thead>\n",
       "  <tbody>\n",
       "    <tr>\n",
       "      <th>0</th>\n",
       "      <td>0</td>\n",
       "      <td>0</td>\n",
       "      <td>3</td>\n",
       "      <td>male</td>\n",
       "      <td>1</td>\n",
       "      <td>0</td>\n",
       "      <td>Southampton</td>\n",
       "      <td>0</td>\n",
       "      <td>1</td>\n",
       "      <td>0</td>\n",
       "      <td>1</td>\n",
       "    </tr>\n",
       "    <tr>\n",
       "      <th>1</th>\n",
       "      <td>1</td>\n",
       "      <td>1</td>\n",
       "      <td>1</td>\n",
       "      <td>female</td>\n",
       "      <td>1</td>\n",
       "      <td>0</td>\n",
       "      <td>Cherbourg</td>\n",
       "      <td>0</td>\n",
       "      <td>0</td>\n",
       "      <td>0</td>\n",
       "      <td>0</td>\n",
       "    </tr>\n",
       "    <tr>\n",
       "      <th>2</th>\n",
       "      <td>2</td>\n",
       "      <td>1</td>\n",
       "      <td>3</td>\n",
       "      <td>female</td>\n",
       "      <td>0</td>\n",
       "      <td>0</td>\n",
       "      <td>Southampton</td>\n",
       "      <td>1</td>\n",
       "      <td>0</td>\n",
       "      <td>0</td>\n",
       "      <td>1</td>\n",
       "    </tr>\n",
       "    <tr>\n",
       "      <th>3</th>\n",
       "      <td>3</td>\n",
       "      <td>1</td>\n",
       "      <td>1</td>\n",
       "      <td>female</td>\n",
       "      <td>1</td>\n",
       "      <td>0</td>\n",
       "      <td>Southampton</td>\n",
       "      <td>0</td>\n",
       "      <td>0</td>\n",
       "      <td>0</td>\n",
       "      <td>1</td>\n",
       "    </tr>\n",
       "    <tr>\n",
       "      <th>4</th>\n",
       "      <td>4</td>\n",
       "      <td>0</td>\n",
       "      <td>3</td>\n",
       "      <td>male</td>\n",
       "      <td>0</td>\n",
       "      <td>0</td>\n",
       "      <td>Southampton</td>\n",
       "      <td>1</td>\n",
       "      <td>1</td>\n",
       "      <td>0</td>\n",
       "      <td>1</td>\n",
       "    </tr>\n",
       "  </tbody>\n",
       "</table>\n",
       "</div>"
      ],
      "text/plain": [
       "   passenger_id  survived  pclass     sex  sibsp  parch  embark_town  alone  \\\n",
       "0             0         0       3    male      1      0  Southampton      0   \n",
       "1             1         1       1  female      1      0    Cherbourg      0   \n",
       "2             2         1       3  female      0      0  Southampton      1   \n",
       "3             3         1       1  female      1      0  Southampton      0   \n",
       "4             4         0       3    male      0      0  Southampton      1   \n",
       "\n",
       "   sex_male  embark_town_Queenstown  embark_town_Southampton  \n",
       "0         1                       0                        1  \n",
       "1         0                       0                        0  \n",
       "2         0                       0                        1  \n",
       "3         0                       0                        1  \n",
       "4         1                       0                        1  "
      ]
     },
     "execution_count": 2,
     "metadata": {},
     "output_type": "execute_result"
    }
   ],
   "source": [
    "# Aquire Data\n",
    "df = prepare.prep_titanic()\n",
    "df.head()"
   ]
  },
  {
   "cell_type": "code",
   "execution_count": 26,
   "id": "8b61ca6f",
   "metadata": {},
   "outputs": [
    {
     "data": {
      "text/plain": [
       "0    608\n",
       "1    209\n",
       "2     28\n",
       "4     18\n",
       "3     16\n",
       "8      7\n",
       "5      5\n",
       "Name: sibsp, dtype: int64"
      ]
     },
     "execution_count": 26,
     "metadata": {},
     "output_type": "execute_result"
    }
   ],
   "source": [
    "df.sibsp.value_counts()"
   ]
  },
  {
   "cell_type": "code",
   "execution_count": 3,
   "id": "1b98c424",
   "metadata": {},
   "outputs": [
    {
     "data": {
      "text/plain": [
       "((498, 11), (214, 11), (179, 11))"
      ]
     },
     "execution_count": 3,
     "metadata": {},
     "output_type": "execute_result"
    }
   ],
   "source": [
    "# Split Data\n",
    "train, validate, test = prepare.split_titanic(df)\n",
    "train.shape, validate.shape, test.shape"
   ]
  },
  {
   "cell_type": "code",
   "execution_count": 4,
   "id": "da038cf1",
   "metadata": {},
   "outputs": [
    {
     "name": "stdout",
     "output_type": "stream",
     "text": [
      "train -> (498, 11)\n",
      "validate -> (214, 11)\n",
      "test -> (179, 11)\n"
     ]
    }
   ],
   "source": [
    "# print Split Amounts\n",
    "print(f'train -> {train.shape}')\n",
    "print(f'validate -> {validate.shape}')\n",
    "print(f'test -> {test.shape}')"
   ]
  },
  {
   "cell_type": "markdown",
   "id": "366aa675",
   "metadata": {},
   "source": [
    "### Determine drivers of the target variable"
   ]
  },
  {
   "cell_type": "code",
   "execution_count": 18,
   "id": "d74f94bf",
   "metadata": {},
   "outputs": [
    {
     "data": {
      "image/png": "[encoded data removed]",
      "text/plain": [
       "<Figure size 432x288 with 1 Axes>"
      ]
     },
     "metadata": {
      "needs_background": "light"
     },
     "output_type": "display_data"
    }
   ],
   "source": [
    "train.survived.hist()\n",
    "plt.title('More Did Not Survive')\n",
    "plt.show()"
   ]
  },
  {
   "cell_type": "code",
   "execution_count": 19,
   "id": "b41d1c0b",
   "metadata": {},
   "outputs": [
    {
     "data": {
      "image/png": "[encoded data removed]",
      "text/plain": [
       "<Figure size 432x288 with 1 Axes>"
      ]
     },
     "metadata": {
      "needs_background": "light"
     },
     "output_type": "display_data"
    }
   ],
   "source": [
    "train.pclass.hist()\n",
    "plt.title('More 3rd Class')\n",
    "plt.show()"
   ]
  },
  {
   "cell_type": "code",
   "execution_count": 20,
   "id": "c1737e33",
   "metadata": {},
   "outputs": [
    {
     "data": {
      "text/plain": [
       "Text(0.5, 1.0, 'More Males')"
      ]
     },
     "execution_count": 20,
     "metadata": {},
     "output_type": "execute_result"
    },
    {
     "data": {
      "image/png": "[encoded data removed]",
      "text/plain": [
       "<Figure size 432x288 with 1 Axes>"
      ]
     },
     "metadata": {
      "needs_background": "light"
     },
     "output_type": "display_data"
    }
   ],
   "source": [
    "train.sex_male.hist()\n",
    "plt.title('More Males')"
   ]
  },
  {
   "cell_type": "code",
   "execution_count": 21,
   "id": "4d3138f6",
   "metadata": {},
   "outputs": [
    {
     "data": {
      "image/png": "[encoded data removed]",
      "text/plain": [
       "<Figure size 432x288 with 1 Axes>"
      ]
     },
     "metadata": {
      "needs_background": "light"
     },
     "output_type": "display_data"
    }
   ],
   "source": [
    "train.embark_town.hist()\n",
    "plt.title('More from Southampton')\n",
    "plt.show()"
   ]
  },
  {
   "cell_type": "code",
   "execution_count": 22,
   "id": "8850473a",
   "metadata": {},
   "outputs": [
    {
     "data": {
      "text/plain": [
       "Text(0.5, 1.0, 'Most had No Siblings or Spouses')"
      ]
     },
     "execution_count": 22,
     "metadata": {},
     "output_type": "execute_result"
    },
    {
     "data": {
      "image/png": "[encoded data removed]",
      "text/plain": [
       "<Figure size 432x288 with 1 Axes>"
      ]
     },
     "metadata": {
      "needs_background": "light"
     },
     "output_type": "display_data"
    }
   ],
   "source": [
    "train.sibsp.hist()\n",
    "plt.title('Most had No Siblings or Spouses')"
   ]
  },
  {
   "cell_type": "code",
   "execution_count": 23,
   "id": "4e572f1c",
   "metadata": {},
   "outputs": [
    {
     "data": {
      "image/png": "[encoded data removed]",
      "text/plain": [
       "<Figure size 432x288 with 1 Axes>"
      ]
     },
     "metadata": {
      "needs_background": "light"
     },
     "output_type": "display_data"
    }
   ],
   "source": [
    "train.parch.hist()\n",
    "plt.title('Most had no parent/child relationships')\n",
    "plt.show()"
   ]
  },
  {
   "cell_type": "code",
   "execution_count": 24,
   "id": "13b85e1d",
   "metadata": {},
   "outputs": [
    {
     "data": {
      "image/png": "[encoded data removed]",
      "text/plain": [
       "<Figure size 432x288 with 1 Axes>"
      ]
     },
     "metadata": {
      "needs_background": "light"
     },
     "output_type": "display_data"
    }
   ],
   "source": [
    "train.alone.hist()\n",
    "plt.title('Most Where Alone')\n",
    "plt.show()"
   ]
  },
  {
   "cell_type": "markdown",
   "id": "98e2bf9f",
   "metadata": {},
   "source": [
    "### Determine if certain columns should be dropped"
   ]
  },
  {
   "cell_type": "code",
   "execution_count": null,
   "id": "5f8ad1d7",
   "metadata": {},
   "outputs": [],
   "source": [
    "# I could drop embark_town and sex"
   ]
  },
  {
   "cell_type": "markdown",
   "id": "da8e10aa",
   "metadata": {},
   "source": [
    "### Determine if it would be valuable to bin some numeric columns"
   ]
  },
  {
   "cell_type": "code",
   "execution_count": null,
   "id": "2d0b4070",
   "metadata": {},
   "outputs": [],
   "source": [
    "# would bin ages and fares columns but they were removed during prep"
   ]
  },
  {
   "cell_type": "markdown",
   "id": "42da167f",
   "metadata": {},
   "source": [
    "### Determine if it would be valuable to combine multiple columns into one."
   ]
  },
  {
   "cell_type": "code",
   "execution_count": null,
   "id": "27b26ac7",
   "metadata": {},
   "outputs": [],
   "source": [
    "# no need to combine comlumns"
   ]
  },
  {
   "cell_type": "markdown",
   "id": "296d256e",
   "metadata": {},
   "source": [
    "### Does it make sense to combine any features?"
   ]
  },
  {
   "cell_type": "code",
   "execution_count": null,
   "id": "568dc019",
   "metadata": {},
   "outputs": [],
   "source": [
    "# Combine sibsp and parch to get group_size "
   ]
  },
  {
   "cell_type": "code",
   "execution_count": 48,
   "id": "13205bbc",
   "metadata": {},
   "outputs": [
    {
     "data": {
      "text/html": [
       "<div>\n",
       "<style scoped>\n",
       "    .dataframe tbody tr th:only-of-type {\n",
       "        vertical-align: middle;\n",
       "    }\n",
       "\n",
       "    .dataframe tbody tr th {\n",
       "        vertical-align: top;\n",
       "    }\n",
       "\n",
       "    .dataframe thead th {\n",
       "        text-align: right;\n",
       "    }\n",
       "</style>\n",
       "<table border=\"1\" class=\"dataframe\">\n",
       "  <thead>\n",
       "    <tr style=\"text-align: right;\">\n",
       "      <th></th>\n",
       "      <th>group_size</th>\n",
       "      <th>group_count</th>\n",
       "    </tr>\n",
       "  </thead>\n",
       "  <tbody>\n",
       "    <tr>\n",
       "      <th>0</th>\n",
       "      <td>0</td>\n",
       "      <td>315</td>\n",
       "    </tr>\n",
       "    <tr>\n",
       "      <th>1</th>\n",
       "      <td>1</td>\n",
       "      <td>81</td>\n",
       "    </tr>\n",
       "    <tr>\n",
       "      <th>2</th>\n",
       "      <td>2</td>\n",
       "      <td>55</td>\n",
       "    </tr>\n",
       "    <tr>\n",
       "      <th>3</th>\n",
       "      <td>3</td>\n",
       "      <td>13</td>\n",
       "    </tr>\n",
       "    <tr>\n",
       "      <th>4</th>\n",
       "      <td>4</td>\n",
       "      <td>11</td>\n",
       "    </tr>\n",
       "    <tr>\n",
       "      <th>5</th>\n",
       "      <td>5</td>\n",
       "      <td>11</td>\n",
       "    </tr>\n",
       "    <tr>\n",
       "      <th>6</th>\n",
       "      <td>6</td>\n",
       "      <td>5</td>\n",
       "    </tr>\n",
       "    <tr>\n",
       "      <th>7</th>\n",
       "      <td>10</td>\n",
       "      <td>5</td>\n",
       "    </tr>\n",
       "    <tr>\n",
       "      <th>8</th>\n",
       "      <td>7</td>\n",
       "      <td>2</td>\n",
       "    </tr>\n",
       "  </tbody>\n",
       "</table>\n",
       "</div>"
      ],
      "text/plain": [
       "   group_size  group_count\n",
       "0           0          315\n",
       "1           1           81\n",
       "2           2           55\n",
       "3           3           13\n",
       "4           4           11\n",
       "5           5           11\n",
       "6           6            5\n",
       "7          10            5\n",
       "8           7            2"
      ]
     },
     "execution_count": 48,
     "metadata": {},
     "output_type": "execute_result"
    }
   ],
   "source": [
    "train['group_size'] = train.sibsp + train.parch\n",
    "train_gs = train.group_size.value_counts().to_frame()\n",
    "train_gs = train_gs.reset_index()\n",
    "train_gs = train_gs.rename(columns={'index':'group_size', 'group_size':'group_count'})\n",
    "train_gs"
   ]
  },
  {
   "cell_type": "code",
   "execution_count": 39,
   "id": "9f0d4d91",
   "metadata": {},
   "outputs": [
    {
     "data": {
      "text/plain": [
       "count    498.000000\n",
       "mean       0.849398\n",
       "std        1.609644\n",
       "min        0.000000\n",
       "25%        0.000000\n",
       "50%        0.000000\n",
       "75%        1.000000\n",
       "max       10.000000\n",
       "Name: group_size, dtype: float64"
      ]
     },
     "execution_count": 39,
     "metadata": {},
     "output_type": "execute_result"
    }
   ],
   "source": [
    "train.group_size.describe()"
   ]
  },
  {
   "cell_type": "code",
   "execution_count": 53,
   "id": "6ac4cd11",
   "metadata": {},
   "outputs": [
    {
     "data": {
      "text/plain": [
       "<AxesSubplot:xlabel='group_size', ylabel='group_count'>"
      ]
     },
     "execution_count": 53,
     "metadata": {},
     "output_type": "execute_result"
    },
    {
     "data": {
      "image/png": "[encoded data removed]",
      "text/plain": [
       "<Figure size 432x288 with 1 Axes>"
      ]
     },
     "metadata": {
      "needs_background": "light"
     },
     "output_type": "display_data"
    }
   ],
   "source": [
    "sns.barplot(data=train_gs, x='group_size', y='group_count')"
   ]
  },
  {
   "cell_type": "markdown",
   "id": "0e0d80ac",
   "metadata": {},
   "source": [
    "### Do you find any surprises?"
   ]
  },
  {
   "cell_type": "code",
   "execution_count": 33,
   "id": "90434628",
   "metadata": {},
   "outputs": [
    {
     "data": {
      "text/html": [
       "<div>\n",
       "<style scoped>\n",
       "    .dataframe tbody tr th:only-of-type {\n",
       "        vertical-align: middle;\n",
       "    }\n",
       "\n",
       "    .dataframe tbody tr th {\n",
       "        vertical-align: top;\n",
       "    }\n",
       "\n",
       "    .dataframe thead th {\n",
       "        text-align: right;\n",
       "    }\n",
       "</style>\n",
       "<table border=\"1\" class=\"dataframe\">\n",
       "  <thead>\n",
       "    <tr style=\"text-align: right;\">\n",
       "      <th></th>\n",
       "      <th>passenger_id</th>\n",
       "      <th>survived</th>\n",
       "      <th>pclass</th>\n",
       "      <th>sex</th>\n",
       "      <th>sibsp</th>\n",
       "      <th>parch</th>\n",
       "      <th>embark_town</th>\n",
       "      <th>alone</th>\n",
       "      <th>sex_male</th>\n",
       "      <th>embark_town_Queenstown</th>\n",
       "      <th>embark_town_Southampton</th>\n",
       "      <th>group_size</th>\n",
       "    </tr>\n",
       "  </thead>\n",
       "  <tbody>\n",
       "    <tr>\n",
       "      <th>583</th>\n",
       "      <td>583</td>\n",
       "      <td>0</td>\n",
       "      <td>1</td>\n",
       "      <td>male</td>\n",
       "      <td>0</td>\n",
       "      <td>0</td>\n",
       "      <td>Cherbourg</td>\n",
       "      <td>1</td>\n",
       "      <td>1</td>\n",
       "      <td>0</td>\n",
       "      <td>0</td>\n",
       "      <td>0</td>\n",
       "    </tr>\n",
       "    <tr>\n",
       "      <th>165</th>\n",
       "      <td>165</td>\n",
       "      <td>1</td>\n",
       "      <td>3</td>\n",
       "      <td>male</td>\n",
       "      <td>0</td>\n",
       "      <td>2</td>\n",
       "      <td>Southampton</td>\n",
       "      <td>0</td>\n",
       "      <td>1</td>\n",
       "      <td>0</td>\n",
       "      <td>1</td>\n",
       "      <td>2</td>\n",
       "    </tr>\n",
       "    <tr>\n",
       "      <th>50</th>\n",
       "      <td>50</td>\n",
       "      <td>0</td>\n",
       "      <td>3</td>\n",
       "      <td>male</td>\n",
       "      <td>4</td>\n",
       "      <td>1</td>\n",
       "      <td>Southampton</td>\n",
       "      <td>0</td>\n",
       "      <td>1</td>\n",
       "      <td>0</td>\n",
       "      <td>1</td>\n",
       "      <td>5</td>\n",
       "    </tr>\n",
       "    <tr>\n",
       "      <th>259</th>\n",
       "      <td>259</td>\n",
       "      <td>1</td>\n",
       "      <td>2</td>\n",
       "      <td>female</td>\n",
       "      <td>0</td>\n",
       "      <td>1</td>\n",
       "      <td>Southampton</td>\n",
       "      <td>0</td>\n",
       "      <td>0</td>\n",
       "      <td>0</td>\n",
       "      <td>1</td>\n",
       "      <td>1</td>\n",
       "    </tr>\n",
       "    <tr>\n",
       "      <th>306</th>\n",
       "      <td>306</td>\n",
       "      <td>1</td>\n",
       "      <td>1</td>\n",
       "      <td>female</td>\n",
       "      <td>0</td>\n",
       "      <td>0</td>\n",
       "      <td>Cherbourg</td>\n",
       "      <td>1</td>\n",
       "      <td>0</td>\n",
       "      <td>0</td>\n",
       "      <td>0</td>\n",
       "      <td>0</td>\n",
       "    </tr>\n",
       "  </tbody>\n",
       "</table>\n",
       "</div>"
      ],
      "text/plain": [
       "     passenger_id  survived  pclass     sex  sibsp  parch  embark_town  alone  \\\n",
       "583           583         0       1    male      0      0    Cherbourg      1   \n",
       "165           165         1       3    male      0      2  Southampton      0   \n",
       "50             50         0       3    male      4      1  Southampton      0   \n",
       "259           259         1       2  female      0      1  Southampton      0   \n",
       "306           306         1       1  female      0      0    Cherbourg      1   \n",
       "\n",
       "     sex_male  embark_town_Queenstown  embark_town_Southampton  group_size  \n",
       "583         1                       0                        0           0  \n",
       "165         1                       0                        1           2  \n",
       "50          1                       0                        1           5  \n",
       "259         0                       0                        1           1  \n",
       "306         0                       0                        0           0  "
      ]
     },
     "execution_count": 33,
     "metadata": {},
     "output_type": "execute_result"
    }
   ],
   "source": [
    "train.head()"
   ]
  },
  {
   "cell_type": "code",
   "execution_count": 67,
   "id": "bfbe0cca",
   "metadata": {},
   "outputs": [
    {
     "data": {
      "text/plain": [
       "<AxesSubplot:xlabel='sex', ylabel='survived'>"
      ]
     },
     "execution_count": 67,
     "metadata": {},
     "output_type": "execute_result"
    },
    {
     "data": {
      "image/png": "[encoded data removed]",
      "text/plain": [
       "<Figure size 432x288 with 1 Axes>"
      ]
     },
     "metadata": {
      "needs_background": "light"
     },
     "output_type": "display_data"
    }
   ],
   "source": [
    "sns.barplot(data=train, x='sex', y='survived')"
   ]
  },
  {
   "cell_type": "code",
   "execution_count": 71,
   "id": "782df82a",
   "metadata": {},
   "outputs": [
    {
     "data": {
      "image/png": "[encoded data removed]",
      "text/plain": [
       "<Figure size 432x288 with 1 Axes>"
      ]
     },
     "metadata": {
      "needs_background": "light"
     },
     "output_type": "display_data"
    }
   ],
   "source": [
    "sns.barplot(data=train, x='pclass', y='survived', hue='sex')\n",
    "plt.title('More Females Survived Across Pclass')\n",
    "plt.show()"
   ]
  },
  {
   "cell_type": "code",
   "execution_count": 66,
   "id": "acc87be6",
   "metadata": {},
   "outputs": [
    {
     "data": {
      "image/png": "[encoded data removed]",
      "text/plain": [
       "<Figure size 432x288 with 1 Axes>"
      ]
     },
     "metadata": {
      "needs_background": "light"
     },
     "output_type": "display_data"
    }
   ],
   "source": [
    "sns.barplot(data=train, x='pclass', y='survived', hue='alone', )\n",
    "plt.title('More Non-Alone Survived Across Pclass')\n",
    "plt.show()"
   ]
  },
  {
   "cell_type": "code",
   "execution_count": 65,
   "id": "6d27bc9e",
   "metadata": {},
   "outputs": [
    {
     "data": {
      "image/png": "[encoded data removed]",
      "text/plain": [
       "<Figure size 432x288 with 1 Axes>"
      ]
     },
     "metadata": {
      "needs_background": "light"
     },
     "output_type": "display_data"
    }
   ],
   "source": [
    "sns.barplot(data=train, x='group_size', y='survived')\n",
    "plt.title('More Groups 1-3 Survived Across Pclass')\n",
    "plt.show()"
   ]
  },
  {
   "cell_type": "code",
   "execution_count": 58,
   "id": "4660ab92",
   "metadata": {},
   "outputs": [
    {
     "data": {
      "text/plain": [
       "Text(0.5, 1.0, 'More Groups 1-3 Survived Across Pclass')"
      ]
     },
     "execution_count": 58,
     "metadata": {},
     "output_type": "execute_result"
    },
    {
     "data": {
      "image/png": "[encoded data removed]",
      "text/plain": [
       "<Figure size 432x288 with 1 Axes>"
      ]
     },
     "metadata": {
      "needs_background": "light"
     },
     "output_type": "display_data"
    }
   ],
   "source": [
    "sns.barplot(data=train, x='group_size', y='survived', hue='pclass')\n",
    "plt.title('More Groups 1-3 Survived Across Pclass')"
   ]
  },
  {
   "cell_type": "code",
   "execution_count": null,
   "id": "3022d908",
   "metadata": {},
   "outputs": [],
   "source": []
  },
  {
   "cell_type": "markdown",
   "id": "d7aeb3cf",
   "metadata": {},
   "source": [
    "### Document any and all findings and takeaways in your notebook using markdown.\n",
    "- More Died than Survived\n",
    "- There were an many 3rd class passengers as there were 1st and 2nd combined\n",
    "- There were twice as many Males than Females\n",
    "- 3 times as many passengers embarked fomr Southampton\n",
    "- Twice as many passengers were alone than not\n",
    "- More Females survived across all pclass\n",
    "- "
   ]
  }
 ],
 "metadata": {
  "kernelspec": {
   "display_name": "Python 3",
   "language": "python",
   "name": "python3"
  },
  "language_info": {
   "codemirror_mode": {
    "name": "ipython",
    "version": 3
   },
   "file_extension": ".py",
   "mimetype": "text/x-python",
   "name": "python",
   "nbconvert_exporter": "python",
   "pygments_lexer": "ipython3",
   "version": "3.8.8"
  }
 },
 "nbformat": 4,
 "nbformat_minor": 5
}
