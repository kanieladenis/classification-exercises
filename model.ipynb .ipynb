{
 "cells": [
  {
   "cell_type": "markdown",
   "id": "021f5267",
   "metadata": {},
   "source": [
    "# Decision Tree Exercises"
   ]
  },
  {
   "cell_type": "markdown",
   "id": "b3136fc3",
   "metadata": {},
   "source": [
    "#### Using Titanic Data\n",
    "- Remember: your baseline prediction for a classification problem is predicting the most prevelant class in the training dataset (the mode). When you make those predictions, what is your accuracy? This is your baseline accuracy."
   ]
  },
  {
   "cell_type": "code",
   "execution_count": 1,
   "id": "caaae70f",
   "metadata": {},
   "outputs": [],
   "source": [
    "import warnings\n",
    "warnings.filterwarnings(\"ignore\")\n",
    "import pandas as pd\n",
    "import numpy as np\n",
    "\n",
    "\n",
    "import matplotlib.pyplot as plt\n",
    "%matplotlib inline\n",
    "import seaborn as sns\n",
    "\n",
    "from sklearn.model_selection import train_test_split\n",
    "from sklearn.tree import DecisionTreeClassifier\n",
    "from sklearn.ensemble import RandomForestClassifier\n",
    "from sklearn.metrics import classification_report\n",
    "from sklearn.tree import export_graphviz\n",
    "\n",
    "from sklearn.metrics import confusion_matrix\n",
    "import graphviz\n",
    "from graphviz import Graph\n",
    "import prepare"
   ]
  },
  {
   "cell_type": "code",
   "execution_count": 2,
   "id": "28d12667",
   "metadata": {},
   "outputs": [
    {
     "data": {
      "text/html": [
       "<div>\n",
       "<style scoped>\n",
       "    .dataframe tbody tr th:only-of-type {\n",
       "        vertical-align: middle;\n",
       "    }\n",
       "\n",
       "    .dataframe tbody tr th {\n",
       "        vertical-align: top;\n",
       "    }\n",
       "\n",
       "    .dataframe thead th {\n",
       "        text-align: right;\n",
       "    }\n",
       "</style>\n",
       "<table border=\"1\" class=\"dataframe\">\n",
       "  <thead>\n",
       "    <tr style=\"text-align: right;\">\n",
       "      <th></th>\n",
       "      <th>passenger_id</th>\n",
       "      <th>survived</th>\n",
       "      <th>pclass</th>\n",
       "      <th>sex</th>\n",
       "      <th>sibsp</th>\n",
       "      <th>parch</th>\n",
       "      <th>embark_town</th>\n",
       "      <th>alone</th>\n",
       "      <th>sex_male</th>\n",
       "      <th>embark_town_Queenstown</th>\n",
       "      <th>embark_town_Southampton</th>\n",
       "    </tr>\n",
       "  </thead>\n",
       "  <tbody>\n",
       "    <tr>\n",
       "      <th>0</th>\n",
       "      <td>0</td>\n",
       "      <td>0</td>\n",
       "      <td>3</td>\n",
       "      <td>male</td>\n",
       "      <td>1</td>\n",
       "      <td>0</td>\n",
       "      <td>Southampton</td>\n",
       "      <td>0</td>\n",
       "      <td>1</td>\n",
       "      <td>0</td>\n",
       "      <td>1</td>\n",
       "    </tr>\n",
       "    <tr>\n",
       "      <th>1</th>\n",
       "      <td>1</td>\n",
       "      <td>1</td>\n",
       "      <td>1</td>\n",
       "      <td>female</td>\n",
       "      <td>1</td>\n",
       "      <td>0</td>\n",
       "      <td>Cherbourg</td>\n",
       "      <td>0</td>\n",
       "      <td>0</td>\n",
       "      <td>0</td>\n",
       "      <td>0</td>\n",
       "    </tr>\n",
       "    <tr>\n",
       "      <th>2</th>\n",
       "      <td>2</td>\n",
       "      <td>1</td>\n",
       "      <td>3</td>\n",
       "      <td>female</td>\n",
       "      <td>0</td>\n",
       "      <td>0</td>\n",
       "      <td>Southampton</td>\n",
       "      <td>1</td>\n",
       "      <td>0</td>\n",
       "      <td>0</td>\n",
       "      <td>1</td>\n",
       "    </tr>\n",
       "    <tr>\n",
       "      <th>3</th>\n",
       "      <td>3</td>\n",
       "      <td>1</td>\n",
       "      <td>1</td>\n",
       "      <td>female</td>\n",
       "      <td>1</td>\n",
       "      <td>0</td>\n",
       "      <td>Southampton</td>\n",
       "      <td>0</td>\n",
       "      <td>0</td>\n",
       "      <td>0</td>\n",
       "      <td>1</td>\n",
       "    </tr>\n",
       "    <tr>\n",
       "      <th>4</th>\n",
       "      <td>4</td>\n",
       "      <td>0</td>\n",
       "      <td>3</td>\n",
       "      <td>male</td>\n",
       "      <td>0</td>\n",
       "      <td>0</td>\n",
       "      <td>Southampton</td>\n",
       "      <td>1</td>\n",
       "      <td>1</td>\n",
       "      <td>0</td>\n",
       "      <td>1</td>\n",
       "    </tr>\n",
       "  </tbody>\n",
       "</table>\n",
       "</div>"
      ],
      "text/plain": [
       "   passenger_id  survived  pclass     sex  sibsp  parch  embark_town  alone  \\\n",
       "0             0         0       3    male      1      0  Southampton      0   \n",
       "1             1         1       1  female      1      0    Cherbourg      0   \n",
       "2             2         1       3  female      0      0  Southampton      1   \n",
       "3             3         1       1  female      1      0  Southampton      0   \n",
       "4             4         0       3    male      0      0  Southampton      1   \n",
       "\n",
       "   sex_male  embark_town_Queenstown  embark_town_Southampton  \n",
       "0         1                       0                        1  \n",
       "1         0                       0                        0  \n",
       "2         0                       0                        1  \n",
       "3         0                       0                        1  \n",
       "4         1                       0                        1  "
      ]
     },
     "execution_count": 2,
     "metadata": {},
     "output_type": "execute_result"
    }
   ],
   "source": [
    "# Get Titanic Data\n",
    "df = prepare.prep_titanic()\n",
    "df.head()"
   ]
  },
  {
   "cell_type": "code",
   "execution_count": 3,
   "id": "2d255a22",
   "metadata": {},
   "outputs": [
    {
     "data": {
      "text/html": [
       "<div>\n",
       "<style scoped>\n",
       "    .dataframe tbody tr th:only-of-type {\n",
       "        vertical-align: middle;\n",
       "    }\n",
       "\n",
       "    .dataframe tbody tr th {\n",
       "        vertical-align: top;\n",
       "    }\n",
       "\n",
       "    .dataframe thead th {\n",
       "        text-align: right;\n",
       "    }\n",
       "</style>\n",
       "<table border=\"1\" class=\"dataframe\">\n",
       "  <thead>\n",
       "    <tr style=\"text-align: right;\">\n",
       "      <th></th>\n",
       "      <th>survived</th>\n",
       "      <th>pclass</th>\n",
       "      <th>sibsp</th>\n",
       "      <th>parch</th>\n",
       "      <th>alone</th>\n",
       "      <th>sex_male</th>\n",
       "      <th>embark_town_Queenstown</th>\n",
       "      <th>embark_town_Southampton</th>\n",
       "    </tr>\n",
       "  </thead>\n",
       "  <tbody>\n",
       "    <tr>\n",
       "      <th>0</th>\n",
       "      <td>0</td>\n",
       "      <td>3</td>\n",
       "      <td>1</td>\n",
       "      <td>0</td>\n",
       "      <td>0</td>\n",
       "      <td>1</td>\n",
       "      <td>0</td>\n",
       "      <td>1</td>\n",
       "    </tr>\n",
       "    <tr>\n",
       "      <th>1</th>\n",
       "      <td>1</td>\n",
       "      <td>1</td>\n",
       "      <td>1</td>\n",
       "      <td>0</td>\n",
       "      <td>0</td>\n",
       "      <td>0</td>\n",
       "      <td>0</td>\n",
       "      <td>0</td>\n",
       "    </tr>\n",
       "    <tr>\n",
       "      <th>2</th>\n",
       "      <td>1</td>\n",
       "      <td>3</td>\n",
       "      <td>0</td>\n",
       "      <td>0</td>\n",
       "      <td>1</td>\n",
       "      <td>0</td>\n",
       "      <td>0</td>\n",
       "      <td>1</td>\n",
       "    </tr>\n",
       "    <tr>\n",
       "      <th>3</th>\n",
       "      <td>1</td>\n",
       "      <td>1</td>\n",
       "      <td>1</td>\n",
       "      <td>0</td>\n",
       "      <td>0</td>\n",
       "      <td>0</td>\n",
       "      <td>0</td>\n",
       "      <td>1</td>\n",
       "    </tr>\n",
       "    <tr>\n",
       "      <th>4</th>\n",
       "      <td>0</td>\n",
       "      <td>3</td>\n",
       "      <td>0</td>\n",
       "      <td>0</td>\n",
       "      <td>1</td>\n",
       "      <td>1</td>\n",
       "      <td>0</td>\n",
       "      <td>1</td>\n",
       "    </tr>\n",
       "  </tbody>\n",
       "</table>\n",
       "</div>"
      ],
      "text/plain": [
       "   survived  pclass  sibsp  parch  alone  sex_male  embark_town_Queenstown  \\\n",
       "0         0       3      1      0      0         1                       0   \n",
       "1         1       1      1      0      0         0                       0   \n",
       "2         1       3      0      0      1         0                       0   \n",
       "3         1       1      1      0      0         0                       0   \n",
       "4         0       3      0      0      1         1                       0   \n",
       "\n",
       "   embark_town_Southampton  \n",
       "0                        1  \n",
       "1                        0  \n",
       "2                        1  \n",
       "3                        1  \n",
       "4                        1  "
      ]
     },
     "execution_count": 3,
     "metadata": {},
     "output_type": "execute_result"
    }
   ],
   "source": [
    "drop_cols = ['sex','embark_town', 'passenger_id']\n",
    "df = df.drop(columns=drop_cols)\n",
    "df.head()"
   ]
  },
  {
   "cell_type": "code",
   "execution_count": 4,
   "id": "6f353afc",
   "metadata": {},
   "outputs": [
    {
     "data": {
      "text/plain": [
       "((498, 8), (214, 8), (179, 8))"
      ]
     },
     "execution_count": 4,
     "metadata": {},
     "output_type": "execute_result"
    }
   ],
   "source": [
    "#Split Data\n",
    "train, validate, test = prepare.split_titanic(df)\n",
    "train.shape, validate.shape, test.shape"
   ]
  },
  {
   "cell_type": "markdown",
   "id": "6c5ea807",
   "metadata": {},
   "source": [
    "## <font color = 'red'> 1a) What is your baseline prediction?"
   ]
  },
  {
   "cell_type": "code",
   "execution_count": 5,
   "id": "53a53615",
   "metadata": {},
   "outputs": [
    {
     "data": {
      "text/plain": [
       "0    307\n",
       "1    191\n",
       "Name: survived, dtype: int64"
      ]
     },
     "execution_count": 5,
     "metadata": {},
     "output_type": "execute_result"
    }
   ],
   "source": [
    "# Find most often used case in survived\n",
    "train.survived.value_counts() #most frequent is not_survived"
   ]
  },
  {
   "cell_type": "code",
   "execution_count": 6,
   "id": "458dbbf8",
   "metadata": {},
   "outputs": [],
   "source": [
    "### Baseline Prediction to 0 or Not_Survived"
   ]
  },
  {
   "cell_type": "markdown",
   "id": "6be5c953",
   "metadata": {},
   "source": [
    "## <font color = 'red'> 1a) What is your baseline accuracy?"
   ]
  },
  {
   "cell_type": "markdown",
   "id": "39454f9a",
   "metadata": {},
   "source": [
    "### ??? Removed column for baseline because it threw off the validation"
   ]
  },
  {
   "cell_type": "markdown",
   "id": "f035a165",
   "metadata": {},
   "source": [
    "### Baseline accuracy is 61.6%"
   ]
  },
  {
   "cell_type": "markdown",
   "id": "7ddb885e",
   "metadata": {},
   "source": [
    "## <font color = 'red'>2) Fit the decision tree classifier to your training sample and transform (i.e. make predictions on the training sample)"
   ]
  },
  {
   "cell_type": "code",
   "execution_count": 7,
   "id": "fb784758",
   "metadata": {},
   "outputs": [],
   "source": [
    "# Create X & y version of train, where y is a series with just the target variable and X are all the features. \n",
    "\n",
    "X_train = train.drop(columns='survived')\n",
    "y_train = train.survived\n",
    "\n",
    "X_validate = validate.drop(columns='survived')\n",
    "y_validate = validate.survived\n",
    "\n",
    "X_test = test.drop(columns='survived')\n",
    "y_test = test.survived"
   ]
  },
  {
   "cell_type": "code",
   "execution_count": 8,
   "id": "501dc36b",
   "metadata": {},
   "outputs": [
    {
     "data": {
      "text/plain": [
       "(498, 7)"
      ]
     },
     "execution_count": 8,
     "metadata": {},
     "output_type": "execute_result"
    }
   ],
   "source": [
    "X_train.shape"
   ]
  },
  {
   "cell_type": "code",
   "execution_count": 9,
   "id": "62adcc56",
   "metadata": {},
   "outputs": [
    {
     "data": {
      "text/plain": [
       "(214, 7)"
      ]
     },
     "execution_count": 9,
     "metadata": {},
     "output_type": "execute_result"
    }
   ],
   "source": [
    "X_validate.shape"
   ]
  },
  {
   "cell_type": "code",
   "execution_count": 10,
   "id": "c3b9a10b",
   "metadata": {},
   "outputs": [
    {
     "data": {
      "text/plain": [
       "DecisionTreeClassifier(max_depth=3, random_state=123)"
      ]
     },
     "execution_count": 10,
     "metadata": {},
     "output_type": "execute_result"
    }
   ],
   "source": [
    "# Create the Decision Tree Object\n",
    "clf = DecisionTreeClassifier(max_depth=3, random_state=123)\n",
    "clf"
   ]
  },
  {
   "cell_type": "code",
   "execution_count": 11,
   "id": "cf3814e6",
   "metadata": {},
   "outputs": [
    {
     "data": {
      "text/plain": [
       "DecisionTreeClassifier(max_depth=3, random_state=123)"
      ]
     },
     "execution_count": 11,
     "metadata": {},
     "output_type": "execute_result"
    }
   ],
   "source": [
    "# Fit the Model\n",
    "clf = clf.fit(X_train, y_train)\n",
    "clf"
   ]
  },
  {
   "cell_type": "code",
   "execution_count": 12,
   "id": "7f8df4f9",
   "metadata": {},
   "outputs": [
    {
     "data": {
      "text/plain": [
       "'titanic_decision_tree.pdf'"
      ]
     },
     "execution_count": 12,
     "metadata": {},
     "output_type": "execute_result"
    }
   ],
   "source": [
    "dot_data = export_graphviz(clf, feature_names= X_train.columns, rounded=True, filled=True, out_file=None)\n",
    "graph = graphviz.Source(dot_data) \n",
    "\n",
    "graph.render('titanic_decision_tree', view=True)"
   ]
  },
  {
   "cell_type": "code",
   "execution_count": 13,
   "id": "45c6b46f",
   "metadata": {},
   "outputs": [
    {
     "data": {
      "text/plain": [
       "array([0, 0, 0, 1, 1])"
      ]
     },
     "execution_count": 13,
     "metadata": {},
     "output_type": "execute_result"
    }
   ],
   "source": [
    "# make prediction on train obeservations\n",
    "\n",
    "y_pred = clf.predict(X_train)\n",
    "y_pred[0:5]"
   ]
  },
  {
   "cell_type": "code",
   "execution_count": 14,
   "id": "cb541a8e",
   "metadata": {},
   "outputs": [
    {
     "data": {
      "text/plain": [
       "array([[0.62686567, 0.37313433],\n",
       "       [0.74285714, 0.25714286],\n",
       "       [0.74285714, 0.25714286],\n",
       "       [0.03703704, 0.96296296],\n",
       "       [0.03703704, 0.96296296]])"
      ]
     },
     "execution_count": 14,
     "metadata": {},
     "output_type": "execute_result"
    }
   ],
   "source": [
    "# provide probabiblity on train observations\n",
    "y_pred_proba = clf.predict_proba(X_train)\n",
    "y_pred_proba[0:5]"
   ]
  },
  {
   "cell_type": "markdown",
   "id": "d8c382cb",
   "metadata": {},
   "source": [
    "## <font color = 'red' >3) Evaluate your in-sample results using the model score, confusion matrix, and classification report."
   ]
  },
  {
   "cell_type": "code",
   "execution_count": 15,
   "id": "72bf7e6f",
   "metadata": {},
   "outputs": [
    {
     "data": {
      "text/plain": [
       "0.8192771084337349"
      ]
     },
     "execution_count": 15,
     "metadata": {},
     "output_type": "execute_result"
    }
   ],
   "source": [
    "# Computer Accuracy Score\n",
    "clf.score(X_train, y_train)"
   ]
  },
  {
   "cell_type": "code",
   "execution_count": 16,
   "id": "7ba2241e",
   "metadata": {},
   "outputs": [
    {
     "data": {
      "text/plain": [
       "array([[294,  13],\n",
       "       [ 77, 114]])"
      ]
     },
     "execution_count": 16,
     "metadata": {},
     "output_type": "execute_result"
    }
   ],
   "source": [
    "# Create Confusion Matrix\n",
    "confusion_matrix(y_train, y_pred)"
   ]
  },
  {
   "cell_type": "code",
   "execution_count": 17,
   "id": "47d8c359",
   "metadata": {},
   "outputs": [
    {
     "data": {
      "text/plain": [
       "0    307\n",
       "1    191\n",
       "Name: survived, dtype: int64"
      ]
     },
     "execution_count": 17,
     "metadata": {},
     "output_type": "execute_result"
    }
   ],
   "source": [
    "y_train.value_counts()"
   ]
  },
  {
   "cell_type": "code",
   "execution_count": 18,
   "id": "ff90b4c2",
   "metadata": {},
   "outputs": [
    {
     "name": "stdout",
     "output_type": "stream",
     "text": [
      "Actual on the left, predicted on the top\n"
     ]
    },
    {
     "data": {
      "text/html": [
       "<div>\n",
       "<style scoped>\n",
       "    .dataframe tbody tr th:only-of-type {\n",
       "        vertical-align: middle;\n",
       "    }\n",
       "\n",
       "    .dataframe tbody tr th {\n",
       "        vertical-align: top;\n",
       "    }\n",
       "\n",
       "    .dataframe thead th {\n",
       "        text-align: right;\n",
       "    }\n",
       "</style>\n",
       "<table border=\"1\" class=\"dataframe\">\n",
       "  <thead>\n",
       "    <tr style=\"text-align: right;\">\n",
       "      <th></th>\n",
       "      <th>0</th>\n",
       "      <th>1</th>\n",
       "    </tr>\n",
       "  </thead>\n",
       "  <tbody>\n",
       "    <tr>\n",
       "      <th>0</th>\n",
       "      <td>294</td>\n",
       "      <td>13</td>\n",
       "    </tr>\n",
       "    <tr>\n",
       "      <th>1</th>\n",
       "      <td>77</td>\n",
       "      <td>114</td>\n",
       "    </tr>\n",
       "  </tbody>\n",
       "</table>\n",
       "</div>"
      ],
      "text/plain": [
       "     0    1\n",
       "0  294   13\n",
       "1   77  114"
      ]
     },
     "execution_count": 18,
     "metadata": {},
     "output_type": "execute_result"
    }
   ],
   "source": [
    "labels = sorted(y_train.unique())\n",
    "print('Actual on the left, predicted on the top')\n",
    "pd.DataFrame(confusion_matrix(y_train, y_pred), index=labels, columns=labels)"
   ]
  },
  {
   "cell_type": "code",
   "execution_count": 19,
   "id": "cd3b9402",
   "metadata": {
    "scrolled": true
   },
   "outputs": [
    {
     "name": "stdout",
     "output_type": "stream",
     "text": [
      "              precision    recall  f1-score   support\n",
      "\n",
      "           0       0.79      0.96      0.87       307\n",
      "           1       0.90      0.60      0.72       191\n",
      "\n",
      "    accuracy                           0.82       498\n",
      "   macro avg       0.85      0.78      0.79       498\n",
      "weighted avg       0.83      0.82      0.81       498\n",
      "\n"
     ]
    }
   ],
   "source": [
    "# Create Classification Report\n",
    "print(classification_report(y_train, y_pred))"
   ]
  },
  {
   "cell_type": "markdown",
   "id": "942bf140",
   "metadata": {},
   "source": [
    "## <font color = 'red'>4) Compute: Accuracy, true positive rate, false positive rate, true negative rate, false negative rate, precision, recall, f1-score, and support"
   ]
  },
  {
   "cell_type": "code",
   "execution_count": 20,
   "id": "c618c9b4",
   "metadata": {},
   "outputs": [
    {
     "name": "stdout",
     "output_type": "stream",
     "text": [
      "Accuracy: 0.8192771084337349\n",
      "True Positive Rate: 0.9576547231270358\n",
      "True Negative Rate: 0.5968586387434555\n",
      "False Positive Rate: 0.4031413612565445\n",
      "False Negative Rate: 0.04234527687296417\n",
      "Precision: 0.7924528301886793\n",
      "recall: 0.9576547231270358\n",
      "support_pos: 307\n",
      "support_neg: 191\n"
     ]
    }
   ],
   "source": [
    "# Find true positive rate, false positive rate, true negative rate, false negative rate\n",
    "# Compute TPR,TNR,FPR,FNR\n",
    "TP = 294\n",
    "TN = 114\n",
    "FP = 77\n",
    "FN = 13\n",
    "ALL = TP + TN + FP + FN\n",
    "\n",
    "accuracy = (TP + TN) / ALL\n",
    "TPR = TP / (TP + FN) \n",
    "TNR = TN / (TN + FP) \n",
    "FNR = FN / (FN + TP)  \n",
    "FPR = FP / (FP + TN) \n",
    "precision = TP / (TP + FP)\n",
    "recall = TP / (TP + FN)\n",
    "f1_score = 2* (precision*recall) / (precision+recall)\n",
    "support_pos = TP + FN\n",
    "support_neg = TN + FP\n",
    "\n",
    "\n",
    "print(f'Accuracy: {accuracy}')\n",
    "print(f'True Positive Rate: {TPR}')\n",
    "print(f'True Negative Rate: {TNR}')\n",
    "print(f'False Positive Rate: {FPR}')\n",
    "print(f'False Negative Rate: {FNR}')\n",
    "print(f'Precision: {precision}')\n",
    "print(f'recall: {recall}')\n",
    "print(f'support_pos: {support_pos}')\n",
    "print(f'support_neg: {support_neg}')\n"
   ]
  },
  {
   "cell_type": "markdown",
   "id": "c5ebd73c",
   "metadata": {},
   "source": [
    "## <font color = 'red'>5) Run through steps 2-4 using a different max_depth value."
   ]
  },
  {
   "cell_type": "markdown",
   "id": "31dd8a62",
   "metadata": {},
   "source": [
    "### <font color = 'red'> Using Max_Depth 4"
   ]
  },
  {
   "cell_type": "code",
   "execution_count": 21,
   "id": "41cf3ca4",
   "metadata": {},
   "outputs": [],
   "source": [
    "# Create the Decision Tree Object increasing max_depth to 4\n",
    "clf = DecisionTreeClassifier(max_depth=4, random_state=123)\n",
    "# Fit the Model\n",
    "clf = clf.fit(X_train, y_train)"
   ]
  },
  {
   "cell_type": "code",
   "execution_count": 22,
   "id": "1f317e5f",
   "metadata": {},
   "outputs": [],
   "source": [
    "# make prediction on train obeservations\n",
    "y_pred = clf.predict(X_train)"
   ]
  },
  {
   "cell_type": "code",
   "execution_count": 23,
   "id": "1ae7175c",
   "metadata": {},
   "outputs": [
    {
     "data": {
      "text/plain": [
       "array([[0.66666667, 0.33333333],\n",
       "       [0.86956522, 0.13043478],\n",
       "       [0.86956522, 0.13043478],\n",
       "       [0.        , 1.        ],\n",
       "       [0.05      , 0.95      ]])"
      ]
     },
     "execution_count": 23,
     "metadata": {},
     "output_type": "execute_result"
    }
   ],
   "source": [
    "# find probability of train observations\n",
    "y_pred_proba = clf.predict_proba(X_train)\n",
    "y_pred_proba[0:5]"
   ]
  },
  {
   "cell_type": "code",
   "execution_count": 24,
   "id": "d33058fe",
   "metadata": {},
   "outputs": [
    {
     "data": {
      "text/plain": [
       "0.821285140562249"
      ]
     },
     "execution_count": 24,
     "metadata": {},
     "output_type": "execute_result"
    }
   ],
   "source": [
    "# Compute Accuracy\n",
    "clf.score(X_train, y_train)"
   ]
  },
  {
   "cell_type": "code",
   "execution_count": 25,
   "id": "f1520596",
   "metadata": {},
   "outputs": [
    {
     "data": {
      "text/plain": [
       "array([[288,  19],\n",
       "       [ 70, 121]])"
      ]
     },
     "execution_count": 25,
     "metadata": {},
     "output_type": "execute_result"
    }
   ],
   "source": [
    "# Create Confusion Matrix\n",
    "confusion_matrix(y_train, y_pred)"
   ]
  },
  {
   "cell_type": "code",
   "execution_count": 26,
   "id": "8217bd1c",
   "metadata": {},
   "outputs": [
    {
     "data": {
      "text/plain": [
       "0    307\n",
       "1    191\n",
       "Name: survived, dtype: int64"
      ]
     },
     "execution_count": 26,
     "metadata": {},
     "output_type": "execute_result"
    }
   ],
   "source": [
    "y_train.value_counts()"
   ]
  },
  {
   "cell_type": "code",
   "execution_count": 27,
   "id": "838be5eb",
   "metadata": {},
   "outputs": [
    {
     "name": "stdout",
     "output_type": "stream",
     "text": [
      "Actual on the left, predicted on the top\n"
     ]
    },
    {
     "data": {
      "text/html": [
       "<div>\n",
       "<style scoped>\n",
       "    .dataframe tbody tr th:only-of-type {\n",
       "        vertical-align: middle;\n",
       "    }\n",
       "\n",
       "    .dataframe tbody tr th {\n",
       "        vertical-align: top;\n",
       "    }\n",
       "\n",
       "    .dataframe thead th {\n",
       "        text-align: right;\n",
       "    }\n",
       "</style>\n",
       "<table border=\"1\" class=\"dataframe\">\n",
       "  <thead>\n",
       "    <tr style=\"text-align: right;\">\n",
       "      <th></th>\n",
       "      <th>0</th>\n",
       "      <th>1</th>\n",
       "    </tr>\n",
       "  </thead>\n",
       "  <tbody>\n",
       "    <tr>\n",
       "      <th>0</th>\n",
       "      <td>288</td>\n",
       "      <td>19</td>\n",
       "    </tr>\n",
       "    <tr>\n",
       "      <th>1</th>\n",
       "      <td>70</td>\n",
       "      <td>121</td>\n",
       "    </tr>\n",
       "  </tbody>\n",
       "</table>\n",
       "</div>"
      ],
      "text/plain": [
       "     0    1\n",
       "0  288   19\n",
       "1   70  121"
      ]
     },
     "execution_count": 27,
     "metadata": {},
     "output_type": "execute_result"
    }
   ],
   "source": [
    "labels = sorted(y_train.unique())\n",
    "print('Actual on the left, predicted on the top')\n",
    "pd.DataFrame(confusion_matrix(y_train, y_pred), index=labels, columns=labels)"
   ]
  },
  {
   "cell_type": "code",
   "execution_count": 28,
   "id": "d45b58ff",
   "metadata": {
    "scrolled": true
   },
   "outputs": [
    {
     "name": "stdout",
     "output_type": "stream",
     "text": [
      "              precision    recall  f1-score   support\n",
      "\n",
      "           0       0.80      0.94      0.87       307\n",
      "           1       0.86      0.63      0.73       191\n",
      "\n",
      "    accuracy                           0.82       498\n",
      "   macro avg       0.83      0.79      0.80       498\n",
      "weighted avg       0.83      0.82      0.81       498\n",
      "\n"
     ]
    }
   ],
   "source": [
    "# Create classification report to find precision, reall, f1-score, support\n",
    "print(classification_report(y_train, y_pred))"
   ]
  },
  {
   "cell_type": "code",
   "execution_count": 29,
   "id": "20507a0e",
   "metadata": {
    "scrolled": true
   },
   "outputs": [
    {
     "name": "stdout",
     "output_type": "stream",
     "text": [
      "True Positive Rate: 0.9706840390879479\n",
      "True Negative Rate: 0.6073298429319371\n",
      "False Positive Rate: 0.39267015706806285\n",
      "False Negative Rate: 0.029315960912052116\n"
     ]
    }
   ],
   "source": [
    "# Find true positive rate, false positive rate, true negative rate, false negative rate\n",
    "# Compute TPR,TNR,FPR,FNR\n",
    "TP = 298\n",
    "TN = 116\n",
    "FP = 75\n",
    "FN = 9\n",
    "\n",
    "TPR = TP / (TP + FN) \n",
    "TNR = TN / (TN + FP) \n",
    "FNR = FN / (FN + TP)  \n",
    "FPR = FP / (FP + TN) \n",
    "\n",
    "\n",
    "print(f'True Positive Rate: {TPR}')\n",
    "print(f'True Negative Rate: {TNR}')\n",
    "print(f'False Positive Rate: {FPR}')\n",
    "print(f'False Negative Rate: {FNR}')"
   ]
  },
  {
   "cell_type": "markdown",
   "id": "830f5fa8",
   "metadata": {},
   "source": [
    "### <font color = 'red'> Using Max_Depth 5"
   ]
  },
  {
   "cell_type": "code",
   "execution_count": 30,
   "id": "4f636048",
   "metadata": {},
   "outputs": [
    {
     "name": "stdout",
     "output_type": "stream",
     "text": [
      "              precision    recall  f1-score   support\n",
      "\n",
      "           0       0.83      0.91      0.87       307\n",
      "           1       0.82      0.71      0.76       191\n",
      "\n",
      "    accuracy                           0.83       498\n",
      "   macro avg       0.83      0.81      0.82       498\n",
      "weighted avg       0.83      0.83      0.83       498\n",
      "\n"
     ]
    }
   ],
   "source": [
    "# Create the Decision Tree Object increasing max_depth to 5\n",
    "clf = DecisionTreeClassifier(max_depth=5, random_state=123)\n",
    "# Fit the Model\n",
    "clf = clf.fit(X_train, y_train)\n",
    "# make prediction on train obeservations\n",
    "y_pred = clf.predict(X_train)\n",
    "print(classification_report(y_train, y_pred))"
   ]
  },
  {
   "cell_type": "code",
   "execution_count": 31,
   "id": "d6bf6055",
   "metadata": {},
   "outputs": [
    {
     "data": {
      "text/plain": [
       "0.8313253012048193"
      ]
     },
     "execution_count": 31,
     "metadata": {},
     "output_type": "execute_result"
    }
   ],
   "source": [
    "# Compute Accuracy\n",
    "clf.score(X_train, y_train)"
   ]
  },
  {
   "cell_type": "code",
   "execution_count": 32,
   "id": "c9fabad3",
   "metadata": {},
   "outputs": [
    {
     "name": "stdout",
     "output_type": "stream",
     "text": [
      "Actual on the left, predicted on the top\n"
     ]
    },
    {
     "data": {
      "text/html": [
       "<div>\n",
       "<style scoped>\n",
       "    .dataframe tbody tr th:only-of-type {\n",
       "        vertical-align: middle;\n",
       "    }\n",
       "\n",
       "    .dataframe tbody tr th {\n",
       "        vertical-align: top;\n",
       "    }\n",
       "\n",
       "    .dataframe thead th {\n",
       "        text-align: right;\n",
       "    }\n",
       "</style>\n",
       "<table border=\"1\" class=\"dataframe\">\n",
       "  <thead>\n",
       "    <tr style=\"text-align: right;\">\n",
       "      <th></th>\n",
       "      <th>0</th>\n",
       "      <th>1</th>\n",
       "    </tr>\n",
       "  </thead>\n",
       "  <tbody>\n",
       "    <tr>\n",
       "      <th>0</th>\n",
       "      <td>278</td>\n",
       "      <td>29</td>\n",
       "    </tr>\n",
       "    <tr>\n",
       "      <th>1</th>\n",
       "      <td>55</td>\n",
       "      <td>136</td>\n",
       "    </tr>\n",
       "  </tbody>\n",
       "</table>\n",
       "</div>"
      ],
      "text/plain": [
       "     0    1\n",
       "0  278   29\n",
       "1   55  136"
      ]
     },
     "execution_count": 32,
     "metadata": {},
     "output_type": "execute_result"
    }
   ],
   "source": [
    "labels = sorted(y_train.unique())\n",
    "print('Actual on the left, predicted on the top')\n",
    "pd.DataFrame(confusion_matrix(y_train, y_pred), index=labels, columns=labels)"
   ]
  },
  {
   "cell_type": "code",
   "execution_count": 33,
   "id": "424dd34e",
   "metadata": {},
   "outputs": [
    {
     "name": "stdout",
     "output_type": "stream",
     "text": [
      "True Positive Rate: 0.9478827361563518\n",
      "True Negative Rate: 0.6858638743455497\n",
      "False Positive Rate: 0.31413612565445026\n",
      "False Negative Rate: 0.05211726384364821\n"
     ]
    }
   ],
   "source": [
    "# Find true positive rate, false positive rate, true negative rate, false negative rate\n",
    "# Compute TPR,TNR,FPR,FNR\n",
    "TP = 291\n",
    "TN = 131\n",
    "FP = 60\n",
    "FN = 16\n",
    "\n",
    "TPR = TP / (TP + FN) \n",
    "TNR = TN / (TN + FP) \n",
    "FNR = FN / (FN + TP)  \n",
    "FPR = FP / (FP + TN) \n",
    "\n",
    "\n",
    "print(f'True Positive Rate: {TPR}')\n",
    "print(f'True Negative Rate: {TNR}')\n",
    "print(f'False Positive Rate: {FPR}')\n",
    "print(f'False Negative Rate: {FNR}')"
   ]
  },
  {
   "cell_type": "markdown",
   "id": "9a3635aa",
   "metadata": {},
   "source": [
    "### <font color = 'red'> Using Max_Depth 6"
   ]
  },
  {
   "cell_type": "code",
   "execution_count": 34,
   "id": "5b394707",
   "metadata": {},
   "outputs": [
    {
     "name": "stdout",
     "output_type": "stream",
     "text": [
      "              precision    recall  f1-score   support\n",
      "\n",
      "           0       0.83      0.96      0.89       307\n",
      "           1       0.91      0.69      0.78       191\n",
      "\n",
      "    accuracy                           0.85       498\n",
      "   macro avg       0.87      0.82      0.84       498\n",
      "weighted avg       0.86      0.85      0.85       498\n",
      "\n"
     ]
    }
   ],
   "source": [
    "# Create the Decision Tree Object increasing max_depth to 6\n",
    "clf = DecisionTreeClassifier(max_depth=6, random_state=123)\n",
    "# Fit the Model\n",
    "clf = clf.fit(X_train, y_train)\n",
    "# make prediction on train obeservations\n",
    "y_pred = clf.predict(X_train)\n",
    "print(classification_report(y_train, y_pred))"
   ]
  },
  {
   "cell_type": "code",
   "execution_count": 35,
   "id": "061481ba",
   "metadata": {},
   "outputs": [
    {
     "data": {
      "text/plain": [
       "0.8534136546184738"
      ]
     },
     "execution_count": 35,
     "metadata": {},
     "output_type": "execute_result"
    }
   ],
   "source": [
    "# Compute Accuracy\n",
    "clf.score(X_train, y_train)"
   ]
  },
  {
   "cell_type": "code",
   "execution_count": 36,
   "id": "dc10d2d3",
   "metadata": {},
   "outputs": [
    {
     "name": "stdout",
     "output_type": "stream",
     "text": [
      "Actual on the left, predicted on the top\n"
     ]
    },
    {
     "data": {
      "text/html": [
       "<div>\n",
       "<style scoped>\n",
       "    .dataframe tbody tr th:only-of-type {\n",
       "        vertical-align: middle;\n",
       "    }\n",
       "\n",
       "    .dataframe tbody tr th {\n",
       "        vertical-align: top;\n",
       "    }\n",
       "\n",
       "    .dataframe thead th {\n",
       "        text-align: right;\n",
       "    }\n",
       "</style>\n",
       "<table border=\"1\" class=\"dataframe\">\n",
       "  <thead>\n",
       "    <tr style=\"text-align: right;\">\n",
       "      <th></th>\n",
       "      <th>0</th>\n",
       "      <th>1</th>\n",
       "    </tr>\n",
       "  </thead>\n",
       "  <tbody>\n",
       "    <tr>\n",
       "      <th>0</th>\n",
       "      <td>294</td>\n",
       "      <td>13</td>\n",
       "    </tr>\n",
       "    <tr>\n",
       "      <th>1</th>\n",
       "      <td>60</td>\n",
       "      <td>131</td>\n",
       "    </tr>\n",
       "  </tbody>\n",
       "</table>\n",
       "</div>"
      ],
      "text/plain": [
       "     0    1\n",
       "0  294   13\n",
       "1   60  131"
      ]
     },
     "execution_count": 36,
     "metadata": {},
     "output_type": "execute_result"
    }
   ],
   "source": [
    "labels = sorted(y_train.unique())\n",
    "print('Actual on the left, predicted on the top')\n",
    "pd.DataFrame(confusion_matrix(y_train, y_pred), index=labels, columns=labels)"
   ]
  },
  {
   "cell_type": "code",
   "execution_count": 37,
   "id": "8fc77542",
   "metadata": {},
   "outputs": [
    {
     "name": "stdout",
     "output_type": "stream",
     "text": [
      "True Positive Rate: 0.9185667752442996\n",
      "True Negative Rate: 0.7905759162303665\n",
      "False Positive Rate: 0.2094240837696335\n",
      "False Negative Rate: 0.08143322475570032\n"
     ]
    }
   ],
   "source": [
    "# Find true positive rate, false positive rate, true negative rate, false negative rate\n",
    "# Compute TPR,TNR,FPR,FNR\n",
    "TP = 282\n",
    "TN = 151\n",
    "FP = 40\n",
    "FN = 25\n",
    "\n",
    "TPR = TP / (TP + FN) \n",
    "TNR = TN / (TN + FP) \n",
    "FNR = FN / (FN + TP)  \n",
    "FPR = FP / (FP + TN) \n",
    "\n",
    "\n",
    "print(f'True Positive Rate: {TPR}')\n",
    "print(f'True Negative Rate: {TNR}')\n",
    "print(f'False Positive Rate: {FPR}')\n",
    "print(f'False Negative Rate: {FNR}')"
   ]
  },
  {
   "cell_type": "code",
   "execution_count": 38,
   "id": "9903ab04",
   "metadata": {},
   "outputs": [
    {
     "name": "stdout",
     "output_type": "stream",
     "text": [
      "Tree with max depth of 2\n",
      "                    0           1  accuracy   macro avg  weighted avg\n",
      "precision    0.820433    0.760000  0.799197    0.790217      0.797255\n",
      "recall       0.863192    0.696335  0.799197    0.779764      0.799197\n",
      "f1-score     0.841270    0.726776  0.799197    0.784023      0.797358\n",
      "support    307.000000  191.000000  0.799197  498.000000    498.000000\n",
      "\n",
      "Tree with max depth of 3\n",
      "                    0           1  accuracy   macro avg  weighted avg\n",
      "precision    0.792453    0.897638  0.819277    0.845045      0.832795\n",
      "recall       0.957655    0.596859  0.819277    0.777257      0.819277\n",
      "f1-score     0.867257    0.716981  0.819277    0.792119      0.809621\n",
      "support    307.000000  191.000000  0.819277  498.000000    498.000000\n",
      "\n",
      "Tree with max depth of 4\n",
      "                    0           1  accuracy   macro avg  weighted avg\n",
      "precision    0.804469    0.864286  0.821285    0.834377      0.827411\n",
      "recall       0.938111    0.633508  0.821285    0.785809      0.821285\n",
      "f1-score     0.866165    0.731118  0.821285    0.798642      0.814370\n",
      "support    307.000000  191.000000  0.821285  498.000000    498.000000\n",
      "\n",
      "Tree with max depth of 5\n",
      "                    0           1  accuracy   macro avg  weighted avg\n",
      "precision    0.834835    0.824242  0.831325    0.829539      0.830772\n",
      "recall       0.905537    0.712042  0.831325    0.808790      0.831325\n",
      "f1-score     0.868750    0.764045  0.831325    0.816397      0.828592\n",
      "support    307.000000  191.000000  0.831325  498.000000    498.000000\n",
      "\n",
      "Tree with max depth of 6\n",
      "                    0           1  accuracy   macro avg  weighted avg\n",
      "precision    0.830508    0.909722  0.853414    0.870115      0.860890\n",
      "recall       0.957655    0.685864  0.853414    0.821759      0.853414\n",
      "f1-score     0.889561    0.782090  0.853414    0.835825      0.848342\n",
      "support    307.000000  191.000000  0.853414  498.000000    498.000000\n",
      "\n",
      "Tree with max depth of 7\n",
      "                    0           1  accuracy   macro avg  weighted avg\n",
      "precision    0.833333    0.916667   0.85743    0.875000      0.865295\n",
      "recall       0.960912    0.691099   0.85743    0.826006      0.857430\n",
      "f1-score     0.892587    0.788060   0.85743    0.840323      0.852497\n",
      "support    307.000000  191.000000   0.85743  498.000000    498.000000\n",
      "\n",
      "Tree with max depth of 8\n",
      "                    0           1  accuracy   macro avg  weighted avg\n",
      "precision    0.835694    0.917241  0.859438    0.876468      0.866970\n",
      "recall       0.960912    0.696335  0.859438    0.828624      0.859438\n",
      "f1-score     0.893939    0.791667  0.859438    0.842803      0.854714\n",
      "support    307.000000  191.000000  0.859438  498.000000    498.000000\n",
      "\n",
      "Tree with max depth of 9\n",
      "                    0           1  accuracy   macro avg  weighted avg\n",
      "precision    0.835694    0.917241  0.859438    0.876468      0.866970\n",
      "recall       0.960912    0.696335  0.859438    0.828624      0.859438\n",
      "f1-score     0.893939    0.791667  0.859438    0.842803      0.854714\n",
      "support    307.000000  191.000000  0.859438  498.000000    498.000000\n",
      "\n",
      "Tree with max depth of 10\n",
      "                    0           1  accuracy   macro avg  weighted avg\n",
      "precision    0.835694    0.917241  0.859438    0.876468      0.866970\n",
      "recall       0.960912    0.696335  0.859438    0.828624      0.859438\n",
      "f1-score     0.893939    0.791667  0.859438    0.842803      0.854714\n",
      "support    307.000000  191.000000  0.859438  498.000000    498.000000\n",
      "\n",
      "Tree with max depth of 11\n",
      "                    0           1  accuracy   macro avg  weighted avg\n",
      "precision    0.835694    0.917241  0.859438    0.876468      0.866970\n",
      "recall       0.960912    0.696335  0.859438    0.828624      0.859438\n",
      "f1-score     0.893939    0.791667  0.859438    0.842803      0.854714\n",
      "support    307.000000  191.000000  0.859438  498.000000    498.000000\n",
      "\n",
      "Tree with max depth of 12\n",
      "                    0           1  accuracy   macro avg  weighted avg\n",
      "precision    0.835694    0.917241  0.859438    0.876468      0.866970\n",
      "recall       0.960912    0.696335  0.859438    0.828624      0.859438\n",
      "f1-score     0.893939    0.791667  0.859438    0.842803      0.854714\n",
      "support    307.000000  191.000000  0.859438  498.000000    498.000000\n",
      "\n",
      "Tree with max depth of 13\n",
      "                    0           1  accuracy   macro avg  weighted avg\n",
      "precision    0.835694    0.917241  0.859438    0.876468      0.866970\n",
      "recall       0.960912    0.696335  0.859438    0.828624      0.859438\n",
      "f1-score     0.893939    0.791667  0.859438    0.842803      0.854714\n",
      "support    307.000000  191.000000  0.859438  498.000000    498.000000\n",
      "\n",
      "Tree with max depth of 14\n",
      "                    0           1  accuracy   macro avg  weighted avg\n",
      "precision    0.835694    0.917241  0.859438    0.876468      0.866970\n",
      "recall       0.960912    0.696335  0.859438    0.828624      0.859438\n",
      "f1-score     0.893939    0.791667  0.859438    0.842803      0.854714\n",
      "support    307.000000  191.000000  0.859438  498.000000    498.000000\n",
      "\n",
      "Tree with max depth of 15\n",
      "                    0           1  accuracy   macro avg  weighted avg\n",
      "precision    0.835694    0.917241  0.859438    0.876468      0.866970\n",
      "recall       0.960912    0.696335  0.859438    0.828624      0.859438\n",
      "f1-score     0.893939    0.791667  0.859438    0.842803      0.854714\n",
      "support    307.000000  191.000000  0.859438  498.000000    498.000000\n",
      "\n",
      "Tree with max depth of 16\n",
      "                    0           1  accuracy   macro avg  weighted avg\n",
      "precision    0.835694    0.917241  0.859438    0.876468      0.866970\n",
      "recall       0.960912    0.696335  0.859438    0.828624      0.859438\n",
      "f1-score     0.893939    0.791667  0.859438    0.842803      0.854714\n",
      "support    307.000000  191.000000  0.859438  498.000000    498.000000\n",
      "\n",
      "Tree with max depth of 17\n",
      "                    0           1  accuracy   macro avg  weighted avg\n",
      "precision    0.835694    0.917241  0.859438    0.876468      0.866970\n",
      "recall       0.960912    0.696335  0.859438    0.828624      0.859438\n",
      "f1-score     0.893939    0.791667  0.859438    0.842803      0.854714\n",
      "support    307.000000  191.000000  0.859438  498.000000    498.000000\n",
      "\n",
      "Tree with max depth of 18\n",
      "                    0           1  accuracy   macro avg  weighted avg\n",
      "precision    0.835694    0.917241  0.859438    0.876468      0.866970\n",
      "recall       0.960912    0.696335  0.859438    0.828624      0.859438\n",
      "f1-score     0.893939    0.791667  0.859438    0.842803      0.854714\n",
      "support    307.000000  191.000000  0.859438  498.000000    498.000000\n",
      "\n",
      "Tree with max depth of 19\n",
      "                    0           1  accuracy   macro avg  weighted avg\n",
      "precision    0.835694    0.917241  0.859438    0.876468      0.866970\n",
      "recall       0.960912    0.696335  0.859438    0.828624      0.859438\n",
      "f1-score     0.893939    0.791667  0.859438    0.842803      0.854714\n",
      "support    307.000000  191.000000  0.859438  498.000000    498.000000\n",
      "\n"
     ]
    }
   ],
   "source": [
    "for i in range(2,20):\n",
    "    # Create the Decision Tree Object increasing max_depth to 6\n",
    "    clf = DecisionTreeClassifier(max_depth=i, random_state=123)\n",
    "    \n",
    "    # Fit the Model\n",
    "    clf = clf.fit(X_train, y_train)\n",
    "    \n",
    "    # make prediction on train obeservations\n",
    "    y_pred = clf.predict(X_train)\n",
    "    \n",
    "    # Produce the classification report on the actual y values and this model's predicted y values\n",
    "    report = classification_report(y_train, y_pred, output_dict=True)\n",
    "    print(f\"Tree with max depth of {i}\")\n",
    "    print(pd.DataFrame(report))\n",
    "    print()"
   ]
  },
  {
   "cell_type": "markdown",
   "id": "66051666",
   "metadata": {},
   "source": [
    "## <font color='red'>6) Which model performs better on your in-sample data?"
   ]
  },
  {
   "cell_type": "code",
   "execution_count": 39,
   "id": "3cfe16be",
   "metadata": {},
   "outputs": [],
   "source": [
    "# Model using Max Depth 6 because it has the best accuracy"
   ]
  },
  {
   "cell_type": "markdown",
   "id": "5b75cdca",
   "metadata": {},
   "source": [
    "## <font color = 'red'>7) Which model performs best on your out-of-sample data, the validate set?"
   ]
  },
  {
   "cell_type": "code",
   "execution_count": 40,
   "id": "ed9295e9",
   "metadata": {
    "scrolled": true
   },
   "outputs": [
    {
     "name": "stdout",
     "output_type": "stream",
     "text": [
      "0.794392523364486\n"
     ]
    }
   ],
   "source": [
    "# Create the Decision Tree Object increasing max_depth to 3\n",
    "clf = DecisionTreeClassifier(max_depth=3, random_state=123)\n",
    "# Fit the Model\n",
    "clf = clf.fit(X_train, y_train)\n",
    "# make prediction on train obeservations\n",
    "y_pred = clf.predict(X_validate)\n",
    "\n",
    "print(clf.score(X_validate, y_validate))\n"
   ]
  },
  {
   "cell_type": "code",
   "execution_count": 41,
   "id": "db06571e",
   "metadata": {},
   "outputs": [
    {
     "data": {
      "text/plain": [
       "(498, 7)"
      ]
     },
     "execution_count": 41,
     "metadata": {},
     "output_type": "execute_result"
    }
   ],
   "source": [
    "X_train.shape"
   ]
  },
  {
   "cell_type": "code",
   "execution_count": 42,
   "id": "21b731d7",
   "metadata": {},
   "outputs": [
    {
     "data": {
      "text/plain": [
       "(214, 7)"
      ]
     },
     "execution_count": 42,
     "metadata": {},
     "output_type": "execute_result"
    }
   ],
   "source": [
    "X_validate.shape"
   ]
  },
  {
   "cell_type": "code",
   "execution_count": 43,
   "id": "f8511f04",
   "metadata": {},
   "outputs": [
    {
     "name": "stdout",
     "output_type": "stream",
     "text": [
      "0.794392523364486\n",
      "              precision    recall  f1-score   support\n",
      "\n",
      "           0       0.77      0.95      0.85       132\n",
      "           1       0.88      0.54      0.67        82\n",
      "\n",
      "    accuracy                           0.79       214\n",
      "   macro avg       0.82      0.75      0.76       214\n",
      "weighted avg       0.81      0.79      0.78       214\n",
      "\n"
     ]
    }
   ],
   "source": [
    "# Create the Decision Tree Object increasing max_depth to 4\n",
    "clf = DecisionTreeClassifier(max_depth=4, random_state=123)\n",
    "# Fit the Model\n",
    "clf = clf.fit(X_train, y_train)\n",
    "\n",
    "print(clf.score(X_validate, y_validate))\n",
    "print(classification_report(y_validate, y_pred))"
   ]
  },
  {
   "cell_type": "code",
   "execution_count": 44,
   "id": "b3dc04d3",
   "metadata": {},
   "outputs": [
    {
     "name": "stdout",
     "output_type": "stream",
     "text": [
      "0.7663551401869159\n",
      "              precision    recall  f1-score   support\n",
      "\n",
      "           0       0.77      0.95      0.85       132\n",
      "           1       0.88      0.54      0.67        82\n",
      "\n",
      "    accuracy                           0.79       214\n",
      "   macro avg       0.82      0.75      0.76       214\n",
      "weighted avg       0.81      0.79      0.78       214\n",
      "\n"
     ]
    }
   ],
   "source": [
    "# Create the Decision Tree Object increasing max_depth to 5\n",
    "clf = DecisionTreeClassifier(max_depth=5, random_state=123)\n",
    "# Fit the Model\n",
    "clf = clf.fit(X_train, y_train)\n",
    "\n",
    "print(clf.score(X_validate, y_validate))\n",
    "print(classification_report(y_validate, y_pred))"
   ]
  },
  {
   "cell_type": "code",
   "execution_count": 45,
   "id": "af883ad2",
   "metadata": {},
   "outputs": [
    {
     "name": "stdout",
     "output_type": "stream",
     "text": [
      "0.7710280373831776\n",
      "              precision    recall  f1-score   support\n",
      "\n",
      "           0       0.77      0.95      0.85       132\n",
      "           1       0.88      0.54      0.67        82\n",
      "\n",
      "    accuracy                           0.79       214\n",
      "   macro avg       0.82      0.75      0.76       214\n",
      "weighted avg       0.81      0.79      0.78       214\n",
      "\n"
     ]
    }
   ],
   "source": [
    "# Create the Decision Tree Object increasing max_depth to 6\n",
    "clf = DecisionTreeClassifier(max_depth=6, random_state=123)\n",
    "# Fit the Model\n",
    "clf = clf.fit(X_train, y_train)\n",
    "\n",
    "print(clf.score(X_validate, y_validate))\n",
    "print(classification_report(y_validate, y_pred))"
   ]
  },
  {
   "cell_type": "code",
   "execution_count": 46,
   "id": "0d544aba",
   "metadata": {},
   "outputs": [
    {
     "data": {
      "text/html": [
       "<div>\n",
       "<style scoped>\n",
       "    .dataframe tbody tr th:only-of-type {\n",
       "        vertical-align: middle;\n",
       "    }\n",
       "\n",
       "    .dataframe tbody tr th {\n",
       "        vertical-align: top;\n",
       "    }\n",
       "\n",
       "    .dataframe thead th {\n",
       "        text-align: right;\n",
       "    }\n",
       "</style>\n",
       "<table border=\"1\" class=\"dataframe\">\n",
       "  <thead>\n",
       "    <tr style=\"text-align: right;\">\n",
       "      <th></th>\n",
       "      <th>max_depth</th>\n",
       "      <th>train_accuracy</th>\n",
       "      <th>validate_accuracy</th>\n",
       "      <th>difference</th>\n",
       "    </tr>\n",
       "  </thead>\n",
       "  <tbody>\n",
       "    <tr>\n",
       "      <th>0</th>\n",
       "      <td>2</td>\n",
       "      <td>0.799197</td>\n",
       "      <td>0.761682</td>\n",
       "      <td>0.037515</td>\n",
       "    </tr>\n",
       "    <tr>\n",
       "      <th>1</th>\n",
       "      <td>3</td>\n",
       "      <td>0.819277</td>\n",
       "      <td>0.794393</td>\n",
       "      <td>0.024885</td>\n",
       "    </tr>\n",
       "    <tr>\n",
       "      <th>2</th>\n",
       "      <td>4</td>\n",
       "      <td>0.821285</td>\n",
       "      <td>0.794393</td>\n",
       "      <td>0.026893</td>\n",
       "    </tr>\n",
       "    <tr>\n",
       "      <th>3</th>\n",
       "      <td>5</td>\n",
       "      <td>0.831325</td>\n",
       "      <td>0.766355</td>\n",
       "      <td>0.064970</td>\n",
       "    </tr>\n",
       "    <tr>\n",
       "      <th>4</th>\n",
       "      <td>6</td>\n",
       "      <td>0.853414</td>\n",
       "      <td>0.771028</td>\n",
       "      <td>0.082386</td>\n",
       "    </tr>\n",
       "    <tr>\n",
       "      <th>5</th>\n",
       "      <td>7</td>\n",
       "      <td>0.857430</td>\n",
       "      <td>0.761682</td>\n",
       "      <td>0.095747</td>\n",
       "    </tr>\n",
       "    <tr>\n",
       "      <th>6</th>\n",
       "      <td>8</td>\n",
       "      <td>0.859438</td>\n",
       "      <td>0.757009</td>\n",
       "      <td>0.102428</td>\n",
       "    </tr>\n",
       "    <tr>\n",
       "      <th>7</th>\n",
       "      <td>9</td>\n",
       "      <td>0.859438</td>\n",
       "      <td>0.757009</td>\n",
       "      <td>0.102428</td>\n",
       "    </tr>\n",
       "    <tr>\n",
       "      <th>8</th>\n",
       "      <td>10</td>\n",
       "      <td>0.859438</td>\n",
       "      <td>0.757009</td>\n",
       "      <td>0.102428</td>\n",
       "    </tr>\n",
       "    <tr>\n",
       "      <th>9</th>\n",
       "      <td>11</td>\n",
       "      <td>0.859438</td>\n",
       "      <td>0.757009</td>\n",
       "      <td>0.102428</td>\n",
       "    </tr>\n",
       "    <tr>\n",
       "      <th>10</th>\n",
       "      <td>12</td>\n",
       "      <td>0.859438</td>\n",
       "      <td>0.757009</td>\n",
       "      <td>0.102428</td>\n",
       "    </tr>\n",
       "    <tr>\n",
       "      <th>11</th>\n",
       "      <td>13</td>\n",
       "      <td>0.859438</td>\n",
       "      <td>0.757009</td>\n",
       "      <td>0.102428</td>\n",
       "    </tr>\n",
       "    <tr>\n",
       "      <th>12</th>\n",
       "      <td>14</td>\n",
       "      <td>0.859438</td>\n",
       "      <td>0.757009</td>\n",
       "      <td>0.102428</td>\n",
       "    </tr>\n",
       "    <tr>\n",
       "      <th>13</th>\n",
       "      <td>15</td>\n",
       "      <td>0.859438</td>\n",
       "      <td>0.757009</td>\n",
       "      <td>0.102428</td>\n",
       "    </tr>\n",
       "    <tr>\n",
       "      <th>14</th>\n",
       "      <td>16</td>\n",
       "      <td>0.859438</td>\n",
       "      <td>0.757009</td>\n",
       "      <td>0.102428</td>\n",
       "    </tr>\n",
       "    <tr>\n",
       "      <th>15</th>\n",
       "      <td>17</td>\n",
       "      <td>0.859438</td>\n",
       "      <td>0.757009</td>\n",
       "      <td>0.102428</td>\n",
       "    </tr>\n",
       "    <tr>\n",
       "      <th>16</th>\n",
       "      <td>18</td>\n",
       "      <td>0.859438</td>\n",
       "      <td>0.757009</td>\n",
       "      <td>0.102428</td>\n",
       "    </tr>\n",
       "    <tr>\n",
       "      <th>17</th>\n",
       "      <td>19</td>\n",
       "      <td>0.859438</td>\n",
       "      <td>0.757009</td>\n",
       "      <td>0.102428</td>\n",
       "    </tr>\n",
       "    <tr>\n",
       "      <th>18</th>\n",
       "      <td>20</td>\n",
       "      <td>0.859438</td>\n",
       "      <td>0.757009</td>\n",
       "      <td>0.102428</td>\n",
       "    </tr>\n",
       "    <tr>\n",
       "      <th>19</th>\n",
       "      <td>21</td>\n",
       "      <td>0.859438</td>\n",
       "      <td>0.757009</td>\n",
       "      <td>0.102428</td>\n",
       "    </tr>\n",
       "    <tr>\n",
       "      <th>20</th>\n",
       "      <td>22</td>\n",
       "      <td>0.859438</td>\n",
       "      <td>0.757009</td>\n",
       "      <td>0.102428</td>\n",
       "    </tr>\n",
       "    <tr>\n",
       "      <th>21</th>\n",
       "      <td>23</td>\n",
       "      <td>0.859438</td>\n",
       "      <td>0.757009</td>\n",
       "      <td>0.102428</td>\n",
       "    </tr>\n",
       "    <tr>\n",
       "      <th>22</th>\n",
       "      <td>24</td>\n",
       "      <td>0.859438</td>\n",
       "      <td>0.757009</td>\n",
       "      <td>0.102428</td>\n",
       "    </tr>\n",
       "  </tbody>\n",
       "</table>\n",
       "</div>"
      ],
      "text/plain": [
       "    max_depth  train_accuracy  validate_accuracy  difference\n",
       "0           2        0.799197           0.761682    0.037515\n",
       "1           3        0.819277           0.794393    0.024885\n",
       "2           4        0.821285           0.794393    0.026893\n",
       "3           5        0.831325           0.766355    0.064970\n",
       "4           6        0.853414           0.771028    0.082386\n",
       "5           7        0.857430           0.761682    0.095747\n",
       "6           8        0.859438           0.757009    0.102428\n",
       "7           9        0.859438           0.757009    0.102428\n",
       "8          10        0.859438           0.757009    0.102428\n",
       "9          11        0.859438           0.757009    0.102428\n",
       "10         12        0.859438           0.757009    0.102428\n",
       "11         13        0.859438           0.757009    0.102428\n",
       "12         14        0.859438           0.757009    0.102428\n",
       "13         15        0.859438           0.757009    0.102428\n",
       "14         16        0.859438           0.757009    0.102428\n",
       "15         17        0.859438           0.757009    0.102428\n",
       "16         18        0.859438           0.757009    0.102428\n",
       "17         19        0.859438           0.757009    0.102428\n",
       "18         20        0.859438           0.757009    0.102428\n",
       "19         21        0.859438           0.757009    0.102428\n",
       "20         22        0.859438           0.757009    0.102428\n",
       "21         23        0.859438           0.757009    0.102428\n",
       "22         24        0.859438           0.757009    0.102428"
      ]
     },
     "execution_count": 46,
     "metadata": {},
     "output_type": "execute_result"
    }
   ],
   "source": [
    "# Let's continue getting loopy, so we can compare in-sample to out-of-sample\n",
    "metrics = []\n",
    "\n",
    "for i in range(2, 25):\n",
    "    # Make the model\n",
    "    clf = DecisionTreeClassifier(max_depth=i, random_state=123)\n",
    "\n",
    "    # Fit the model (on train and only train)\n",
    "    clf = clf.fit(X_train, y_train)\n",
    "\n",
    "    # Use the model\n",
    "    # We'll evaluate the model's performance on train, first\n",
    "    in_sample_accuracy = clf.score(X_train, y_train)\n",
    "    \n",
    "    out_of_sample_accuracy = clf.score(X_validate, y_validate)\n",
    "\n",
    "    output = {\n",
    "        \"max_depth\": i,\n",
    "        \"train_accuracy\": in_sample_accuracy,\n",
    "        \"validate_accuracy\": out_of_sample_accuracy\n",
    "    }\n",
    "    \n",
    "    metrics.append(output)\n",
    "    \n",
    "df = pd.DataFrame(metrics)\n",
    "df[\"difference\"] = df.train_accuracy - df.validate_accuracy\n",
    "df"
   ]
  },
  {
   "cell_type": "markdown",
   "id": "7fca32f1",
   "metadata": {},
   "source": [
    "### Model with Max_Depth 6 has the best F1-Scores"
   ]
  },
  {
   "cell_type": "markdown",
   "id": "dbac23f1",
   "metadata": {},
   "source": [
    "## <font color = 'red'>8) Work through these same exercises using the Telco dataset."
   ]
  },
  {
   "cell_type": "code",
   "execution_count": 47,
   "id": "820ad5eb",
   "metadata": {},
   "outputs": [],
   "source": [
    "import prepare"
   ]
  },
  {
   "cell_type": "code",
   "execution_count": 48,
   "id": "d5f25c43",
   "metadata": {},
   "outputs": [
    {
     "data": {
      "text/html": [
       "<div>\n",
       "<style scoped>\n",
       "    .dataframe tbody tr th:only-of-type {\n",
       "        vertical-align: middle;\n",
       "    }\n",
       "\n",
       "    .dataframe tbody tr th {\n",
       "        vertical-align: top;\n",
       "    }\n",
       "\n",
       "    .dataframe thead th {\n",
       "        text-align: right;\n",
       "    }\n",
       "</style>\n",
       "<table border=\"1\" class=\"dataframe\">\n",
       "  <thead>\n",
       "    <tr style=\"text-align: right;\">\n",
       "      <th></th>\n",
       "      <th>senior_citizen</th>\n",
       "      <th>tenure</th>\n",
       "      <th>monthly_charges</th>\n",
       "      <th>total_charges</th>\n",
       "      <th>churn</th>\n",
       "      <th>senior_citizen</th>\n",
       "      <th>gender_Male</th>\n",
       "      <th>partner_Yes</th>\n",
       "      <th>dependents_Yes</th>\n",
       "      <th>phone_service_Yes</th>\n",
       "      <th>...</th>\n",
       "      <th>streaming_movies_Yes</th>\n",
       "      <th>paperless_billing_Yes</th>\n",
       "      <th>churn_Yes</th>\n",
       "      <th>contract_type_One year</th>\n",
       "      <th>contract_type_Two year</th>\n",
       "      <th>internet_service_type_Fiber optic</th>\n",
       "      <th>internet_service_type_None</th>\n",
       "      <th>payment_type_Credit card (automatic)</th>\n",
       "      <th>payment_type_Electronic check</th>\n",
       "      <th>payment_type_Mailed check</th>\n",
       "    </tr>\n",
       "  </thead>\n",
       "  <tbody>\n",
       "    <tr>\n",
       "      <th>0</th>\n",
       "      <td>0</td>\n",
       "      <td>65</td>\n",
       "      <td>90.45</td>\n",
       "      <td>5957.90</td>\n",
       "      <td>No</td>\n",
       "      <td>0</td>\n",
       "      <td>0</td>\n",
       "      <td>1</td>\n",
       "      <td>1</td>\n",
       "      <td>1</td>\n",
       "      <td>...</td>\n",
       "      <td>1</td>\n",
       "      <td>1</td>\n",
       "      <td>0</td>\n",
       "      <td>0</td>\n",
       "      <td>1</td>\n",
       "      <td>0</td>\n",
       "      <td>0</td>\n",
       "      <td>0</td>\n",
       "      <td>0</td>\n",
       "      <td>1</td>\n",
       "    </tr>\n",
       "    <tr>\n",
       "      <th>1</th>\n",
       "      <td>0</td>\n",
       "      <td>54</td>\n",
       "      <td>45.20</td>\n",
       "      <td>2460.55</td>\n",
       "      <td>No</td>\n",
       "      <td>0</td>\n",
       "      <td>1</td>\n",
       "      <td>0</td>\n",
       "      <td>0</td>\n",
       "      <td>0</td>\n",
       "      <td>...</td>\n",
       "      <td>0</td>\n",
       "      <td>0</td>\n",
       "      <td>0</td>\n",
       "      <td>0</td>\n",
       "      <td>1</td>\n",
       "      <td>0</td>\n",
       "      <td>0</td>\n",
       "      <td>1</td>\n",
       "      <td>0</td>\n",
       "      <td>0</td>\n",
       "    </tr>\n",
       "    <tr>\n",
       "      <th>2</th>\n",
       "      <td>0</td>\n",
       "      <td>56</td>\n",
       "      <td>45.05</td>\n",
       "      <td>2560.10</td>\n",
       "      <td>No</td>\n",
       "      <td>0</td>\n",
       "      <td>0</td>\n",
       "      <td>0</td>\n",
       "      <td>0</td>\n",
       "      <td>0</td>\n",
       "      <td>...</td>\n",
       "      <td>0</td>\n",
       "      <td>0</td>\n",
       "      <td>0</td>\n",
       "      <td>0</td>\n",
       "      <td>1</td>\n",
       "      <td>0</td>\n",
       "      <td>0</td>\n",
       "      <td>0</td>\n",
       "      <td>0</td>\n",
       "      <td>0</td>\n",
       "    </tr>\n",
       "    <tr>\n",
       "      <th>3</th>\n",
       "      <td>0</td>\n",
       "      <td>20</td>\n",
       "      <td>39.40</td>\n",
       "      <td>825.40</td>\n",
       "      <td>No</td>\n",
       "      <td>0</td>\n",
       "      <td>1</td>\n",
       "      <td>1</td>\n",
       "      <td>1</td>\n",
       "      <td>0</td>\n",
       "      <td>...</td>\n",
       "      <td>0</td>\n",
       "      <td>1</td>\n",
       "      <td>0</td>\n",
       "      <td>0</td>\n",
       "      <td>1</td>\n",
       "      <td>0</td>\n",
       "      <td>0</td>\n",
       "      <td>1</td>\n",
       "      <td>0</td>\n",
       "      <td>0</td>\n",
       "    </tr>\n",
       "    <tr>\n",
       "      <th>4</th>\n",
       "      <td>0</td>\n",
       "      <td>72</td>\n",
       "      <td>85.15</td>\n",
       "      <td>6316.20</td>\n",
       "      <td>No</td>\n",
       "      <td>0</td>\n",
       "      <td>1</td>\n",
       "      <td>1</td>\n",
       "      <td>0</td>\n",
       "      <td>1</td>\n",
       "      <td>...</td>\n",
       "      <td>1</td>\n",
       "      <td>1</td>\n",
       "      <td>0</td>\n",
       "      <td>0</td>\n",
       "      <td>1</td>\n",
       "      <td>0</td>\n",
       "      <td>0</td>\n",
       "      <td>0</td>\n",
       "      <td>0</td>\n",
       "      <td>0</td>\n",
       "    </tr>\n",
       "    <tr>\n",
       "      <th>...</th>\n",
       "      <td>...</td>\n",
       "      <td>...</td>\n",
       "      <td>...</td>\n",
       "      <td>...</td>\n",
       "      <td>...</td>\n",
       "      <td>...</td>\n",
       "      <td>...</td>\n",
       "      <td>...</td>\n",
       "      <td>...</td>\n",
       "      <td>...</td>\n",
       "      <td>...</td>\n",
       "      <td>...</td>\n",
       "      <td>...</td>\n",
       "      <td>...</td>\n",
       "      <td>...</td>\n",
       "      <td>...</td>\n",
       "      <td>...</td>\n",
       "      <td>...</td>\n",
       "      <td>...</td>\n",
       "      <td>...</td>\n",
       "      <td>...</td>\n",
       "    </tr>\n",
       "    <tr>\n",
       "      <th>7038</th>\n",
       "      <td>0</td>\n",
       "      <td>1</td>\n",
       "      <td>20.05</td>\n",
       "      <td>20.05</td>\n",
       "      <td>No</td>\n",
       "      <td>0</td>\n",
       "      <td>0</td>\n",
       "      <td>1</td>\n",
       "      <td>1</td>\n",
       "      <td>1</td>\n",
       "      <td>...</td>\n",
       "      <td>0</td>\n",
       "      <td>0</td>\n",
       "      <td>0</td>\n",
       "      <td>0</td>\n",
       "      <td>0</td>\n",
       "      <td>0</td>\n",
       "      <td>1</td>\n",
       "      <td>0</td>\n",
       "      <td>0</td>\n",
       "      <td>1</td>\n",
       "    </tr>\n",
       "    <tr>\n",
       "      <th>7039</th>\n",
       "      <td>0</td>\n",
       "      <td>19</td>\n",
       "      <td>19.90</td>\n",
       "      <td>367.55</td>\n",
       "      <td>No</td>\n",
       "      <td>0</td>\n",
       "      <td>0</td>\n",
       "      <td>0</td>\n",
       "      <td>0</td>\n",
       "      <td>1</td>\n",
       "      <td>...</td>\n",
       "      <td>0</td>\n",
       "      <td>0</td>\n",
       "      <td>0</td>\n",
       "      <td>0</td>\n",
       "      <td>0</td>\n",
       "      <td>0</td>\n",
       "      <td>1</td>\n",
       "      <td>0</td>\n",
       "      <td>0</td>\n",
       "      <td>1</td>\n",
       "    </tr>\n",
       "    <tr>\n",
       "      <th>7040</th>\n",
       "      <td>0</td>\n",
       "      <td>6</td>\n",
       "      <td>19.70</td>\n",
       "      <td>129.55</td>\n",
       "      <td>No</td>\n",
       "      <td>0</td>\n",
       "      <td>0</td>\n",
       "      <td>0</td>\n",
       "      <td>0</td>\n",
       "      <td>1</td>\n",
       "      <td>...</td>\n",
       "      <td>0</td>\n",
       "      <td>0</td>\n",
       "      <td>0</td>\n",
       "      <td>0</td>\n",
       "      <td>0</td>\n",
       "      <td>0</td>\n",
       "      <td>1</td>\n",
       "      <td>1</td>\n",
       "      <td>0</td>\n",
       "      <td>0</td>\n",
       "    </tr>\n",
       "    <tr>\n",
       "      <th>7041</th>\n",
       "      <td>0</td>\n",
       "      <td>1</td>\n",
       "      <td>18.90</td>\n",
       "      <td>18.90</td>\n",
       "      <td>No</td>\n",
       "      <td>0</td>\n",
       "      <td>1</td>\n",
       "      <td>0</td>\n",
       "      <td>0</td>\n",
       "      <td>1</td>\n",
       "      <td>...</td>\n",
       "      <td>0</td>\n",
       "      <td>0</td>\n",
       "      <td>0</td>\n",
       "      <td>0</td>\n",
       "      <td>0</td>\n",
       "      <td>0</td>\n",
       "      <td>1</td>\n",
       "      <td>0</td>\n",
       "      <td>0</td>\n",
       "      <td>1</td>\n",
       "    </tr>\n",
       "    <tr>\n",
       "      <th>7042</th>\n",
       "      <td>0</td>\n",
       "      <td>4</td>\n",
       "      <td>20.95</td>\n",
       "      <td>85.50</td>\n",
       "      <td>Yes</td>\n",
       "      <td>0</td>\n",
       "      <td>0</td>\n",
       "      <td>0</td>\n",
       "      <td>0</td>\n",
       "      <td>1</td>\n",
       "      <td>...</td>\n",
       "      <td>0</td>\n",
       "      <td>0</td>\n",
       "      <td>1</td>\n",
       "      <td>0</td>\n",
       "      <td>0</td>\n",
       "      <td>0</td>\n",
       "      <td>1</td>\n",
       "      <td>0</td>\n",
       "      <td>0</td>\n",
       "      <td>0</td>\n",
       "    </tr>\n",
       "  </tbody>\n",
       "</table>\n",
       "<p>7043 rows × 33 columns</p>\n",
       "</div>"
      ],
      "text/plain": [
       "      senior_citizen  tenure  monthly_charges  total_charges churn  \\\n",
       "0                  0      65            90.45        5957.90    No   \n",
       "1                  0      54            45.20        2460.55    No   \n",
       "2                  0      56            45.05        2560.10    No   \n",
       "3                  0      20            39.40         825.40    No   \n",
       "4                  0      72            85.15        6316.20    No   \n",
       "...              ...     ...              ...            ...   ...   \n",
       "7038               0       1            20.05          20.05    No   \n",
       "7039               0      19            19.90         367.55    No   \n",
       "7040               0       6            19.70         129.55    No   \n",
       "7041               0       1            18.90          18.90    No   \n",
       "7042               0       4            20.95          85.50   Yes   \n",
       "\n",
       "      senior_citizen  gender_Male  partner_Yes  dependents_Yes  \\\n",
       "0                  0            0            1               1   \n",
       "1                  0            1            0               0   \n",
       "2                  0            0            0               0   \n",
       "3                  0            1            1               1   \n",
       "4                  0            1            1               0   \n",
       "...              ...          ...          ...             ...   \n",
       "7038               0            0            1               1   \n",
       "7039               0            0            0               0   \n",
       "7040               0            0            0               0   \n",
       "7041               0            1            0               0   \n",
       "7042               0            0            0               0   \n",
       "\n",
       "      phone_service_Yes  ...  streaming_movies_Yes  paperless_billing_Yes  \\\n",
       "0                     1  ...                     1                      1   \n",
       "1                     0  ...                     0                      0   \n",
       "2                     0  ...                     0                      0   \n",
       "3                     0  ...                     0                      1   \n",
       "4                     1  ...                     1                      1   \n",
       "...                 ...  ...                   ...                    ...   \n",
       "7038                  1  ...                     0                      0   \n",
       "7039                  1  ...                     0                      0   \n",
       "7040                  1  ...                     0                      0   \n",
       "7041                  1  ...                     0                      0   \n",
       "7042                  1  ...                     0                      0   \n",
       "\n",
       "      churn_Yes  contract_type_One year  contract_type_Two year  \\\n",
       "0             0                       0                       1   \n",
       "1             0                       0                       1   \n",
       "2             0                       0                       1   \n",
       "3             0                       0                       1   \n",
       "4             0                       0                       1   \n",
       "...         ...                     ...                     ...   \n",
       "7038          0                       0                       0   \n",
       "7039          0                       0                       0   \n",
       "7040          0                       0                       0   \n",
       "7041          0                       0                       0   \n",
       "7042          1                       0                       0   \n",
       "\n",
       "      internet_service_type_Fiber optic  internet_service_type_None  \\\n",
       "0                                     0                           0   \n",
       "1                                     0                           0   \n",
       "2                                     0                           0   \n",
       "3                                     0                           0   \n",
       "4                                     0                           0   \n",
       "...                                 ...                         ...   \n",
       "7038                                  0                           1   \n",
       "7039                                  0                           1   \n",
       "7040                                  0                           1   \n",
       "7041                                  0                           1   \n",
       "7042                                  0                           1   \n",
       "\n",
       "      payment_type_Credit card (automatic)  payment_type_Electronic check  \\\n",
       "0                                        0                              0   \n",
       "1                                        1                              0   \n",
       "2                                        0                              0   \n",
       "3                                        1                              0   \n",
       "4                                        0                              0   \n",
       "...                                    ...                            ...   \n",
       "7038                                     0                              0   \n",
       "7039                                     0                              0   \n",
       "7040                                     1                              0   \n",
       "7041                                     0                              0   \n",
       "7042                                     0                              0   \n",
       "\n",
       "      payment_type_Mailed check  \n",
       "0                             1  \n",
       "1                             0  \n",
       "2                             0  \n",
       "3                             0  \n",
       "4                             0  \n",
       "...                         ...  \n",
       "7038                          1  \n",
       "7039                          1  \n",
       "7040                          0  \n",
       "7041                          1  \n",
       "7042                          0  \n",
       "\n",
       "[7043 rows x 33 columns]"
      ]
     },
     "execution_count": 48,
     "metadata": {},
     "output_type": "execute_result"
    }
   ],
   "source": [
    "df = prepare.prep_telco()\n",
    "drop_cols = ['customer_id',\n",
    " 'gender','partner',\n",
    " 'dependents','phone_service',\n",
    " 'multiple_lines',\n",
    " 'online_security',\n",
    " 'online_backup',\n",
    " 'device_protection',\n",
    " 'tech_support',\n",
    " 'streaming_tv',\n",
    " 'streaming_movies',\n",
    " 'paperless_billing','contract_type',\n",
    " 'internet_service_type',\n",
    " 'payment_type']\n",
    "df = df.drop(columns=drop_cols)\n",
    "df"
   ]
  },
  {
   "cell_type": "markdown",
   "id": "15bfb3d4",
   "metadata": {},
   "source": [
    "# <font color='red'> Random Forest"
   ]
  },
  {
   "cell_type": "markdown",
   "id": "586a5053",
   "metadata": {},
   "source": [
    "##  <font color='red'> 1) Fit the Random Forest classifier to your training sample and transform (i.e. make predictions on the training sample) setting the random_state accordingly and setting min_samples_leaf = 1 and max_depth = 10."
   ]
  },
  {
   "cell_type": "code",
   "execution_count": 49,
   "id": "a219d154",
   "metadata": {},
   "outputs": [
    {
     "data": {
      "text/plain": [
       "RandomForestClassifier(max_depth=10, random_state=123)"
      ]
     },
     "execution_count": 49,
     "metadata": {},
     "output_type": "execute_result"
    }
   ],
   "source": [
    "# Create the Model's Object\n",
    "rf = RandomForestClassifier(max_depth=10,\n",
    "                           random_state=123,\n",
    "                           min_samples_leaf=1)\n",
    "rf"
   ]
  },
  {
   "cell_type": "code",
   "execution_count": 50,
   "id": "fa5957a2",
   "metadata": {},
   "outputs": [],
   "source": [
    "#Fit the Data to the model\n",
    "rf = rf.fit(X_train,y_train)"
   ]
  },
  {
   "cell_type": "code",
   "execution_count": 52,
   "id": "1a386683",
   "metadata": {},
   "outputs": [
    {
     "name": "stdout",
     "output_type": "stream",
     "text": [
      "[0.20087185 0.12628004 0.091555   0.03498795 0.47979937 0.02186451\n",
      " 0.04464129]\n"
     ]
    }
   ],
   "source": [
    "# Get Feature (column) Importances. sex_male (48%) has the most importance\n",
    "print(rf.feature_importances_)"
   ]
  },
  {
   "cell_type": "code",
   "execution_count": 53,
   "id": "e14f9c4a",
   "metadata": {},
   "outputs": [
    {
     "data": {
      "text/plain": [
       "array([0, 1, 0, 1, 1, 0, 1, 0, 0, 0, 1, 0, 1, 0, 0, 0, 0, 1, 0, 0, 1, 0,\n",
       "       1, 1, 0, 0, 1, 1, 0, 0, 0, 0, 0, 0, 1, 0, 0, 1, 0, 1, 0, 0, 0, 1,\n",
       "       0, 0, 0, 0, 1, 0, 0, 0, 1, 1, 0, 1, 0, 1, 0, 0, 0, 0, 0, 0, 0, 0,\n",
       "       0, 0, 1, 1, 0, 0, 1, 0, 0, 0, 0, 0, 0, 1, 0, 1, 0, 0, 0, 0, 1, 1,\n",
       "       1, 0, 0, 0, 1, 1, 0, 0, 1, 0, 0, 1, 0, 0, 1, 0, 0, 1, 0, 1, 0, 0,\n",
       "       0, 0, 0, 0, 0, 1, 0, 0, 1, 1, 0, 0, 0, 0, 1, 1, 1, 0, 0, 0, 1, 0,\n",
       "       0, 1, 0, 0, 0, 0, 0, 1, 1, 0, 0, 0, 0, 0, 1, 1, 1, 1, 0, 1, 1, 0,\n",
       "       1, 0, 0, 0, 1, 0, 0, 1, 0, 1, 0, 0, 0, 0, 0, 0, 0, 1, 1, 0, 0, 0,\n",
       "       1, 0, 0, 0, 0, 0, 0, 1, 0, 1, 0, 1, 1, 0, 0, 1, 0, 0, 1, 1, 0, 0,\n",
       "       0, 0, 0, 1, 1, 0, 0, 0, 0, 0, 0, 1, 0, 0, 0, 0, 1, 0, 0, 0, 1, 0,\n",
       "       0, 0, 0, 1, 0, 0, 0, 0, 0, 0, 0, 0, 0, 0, 0, 1, 1, 0, 0, 0, 0, 0,\n",
       "       1, 0, 1, 0, 1, 0, 0, 1, 0, 0, 0, 1, 0, 0, 1, 1, 1, 1, 0, 0, 1, 1,\n",
       "       0, 0, 0, 0, 0, 0, 0, 1, 0, 1, 0, 0, 0, 0, 0, 0, 0, 1, 1, 1, 0, 0,\n",
       "       1, 0, 0, 0, 0, 0, 0, 0, 0, 0, 0, 0, 0, 0, 0, 0, 0, 1, 0, 0, 1, 0,\n",
       "       0, 0, 0, 0, 0, 1, 0, 0, 0, 1, 0, 0, 0, 0, 1, 0, 0, 0, 0, 0, 0, 1,\n",
       "       0, 1, 1, 1, 0, 1, 0, 0, 0, 0, 0, 1, 1, 0, 0, 1, 0, 0, 1, 0, 1, 0,\n",
       "       0, 0, 1, 1, 1, 0, 0, 1, 0, 1, 1, 0, 0, 1, 0, 0, 0, 0, 0, 0, 0, 0,\n",
       "       0, 0, 1, 1, 1, 1, 1, 1, 1, 0, 0, 1, 0, 0, 0, 0, 0, 0, 0, 1, 1, 0,\n",
       "       1, 0, 0, 0, 0, 1, 0, 0, 0, 0, 0, 0, 0, 0, 0, 0, 0, 0, 1, 1, 1, 0,\n",
       "       1, 0, 0, 0, 0, 1, 0, 1, 0, 1, 0, 0, 0, 0, 0, 0, 1, 0, 1, 0, 1, 0,\n",
       "       0, 0, 0, 0, 0, 0, 0, 0, 0, 0, 0, 1, 0, 0, 1, 0, 0, 0, 0, 0, 0, 0,\n",
       "       1, 0, 0, 1, 0, 0, 1, 0, 1, 0, 0, 0, 0, 0, 1, 0, 0, 0, 1, 1, 1, 1,\n",
       "       0, 1, 0, 0, 0, 0, 1, 0, 1, 0, 0, 0, 0, 0])"
      ]
     },
     "execution_count": 53,
     "metadata": {},
     "output_type": "execute_result"
    }
   ],
   "source": [
    "# Make Predictions\n",
    "y_pred = rf.predict(X_train)\n",
    "y_pred"
   ]
  },
  {
   "cell_type": "code",
   "execution_count": 54,
   "id": "2e1b80aa",
   "metadata": {},
   "outputs": [
    {
     "data": {
      "text/plain": [
       "array([[7.53151354e-01, 2.46848646e-01],\n",
       "       [2.80579574e-01, 7.19420426e-01],\n",
       "       [9.76000000e-01, 2.40000000e-02],\n",
       "       [0.00000000e+00, 1.00000000e+00],\n",
       "       [9.35694720e-02, 9.06430528e-01],\n",
       "       [8.66036214e-01, 1.33963786e-01],\n",
       "       [3.25888889e-01, 6.74111111e-01],\n",
       "       [8.75629507e-01, 1.24370493e-01],\n",
       "       [9.32874395e-01, 6.71256048e-02],\n",
       "       [1.00000000e+00, 0.00000000e+00],\n",
       "       [2.43932540e-01, 7.56067460e-01],\n",
       "       [5.93532127e-01, 4.06467873e-01],\n",
       "       [0.00000000e+00, 1.00000000e+00],\n",
       "       [5.93532127e-01, 4.06467873e-01],\n",
       "       [8.46741730e-01, 1.53258270e-01],\n",
       "       [8.99012579e-01, 1.00987421e-01],\n",
       "       [8.99012579e-01, 1.00987421e-01],\n",
       "       [2.32714357e-01, 7.67285643e-01],\n",
       "       [8.75629507e-01, 1.24370493e-01],\n",
       "       [6.45130592e-01, 3.54869408e-01],\n",
       "       [2.43932540e-01, 7.56067460e-01],\n",
       "       [8.99012579e-01, 1.00987421e-01],\n",
       "       [0.00000000e+00, 1.00000000e+00],\n",
       "       [0.00000000e+00, 1.00000000e+00],\n",
       "       [5.93532127e-01, 4.06467873e-01],\n",
       "       [8.99012579e-01, 1.00987421e-01],\n",
       "       [1.00000000e-02, 9.90000000e-01],\n",
       "       [9.35694720e-02, 9.06430528e-01],\n",
       "       [5.93532127e-01, 4.06467873e-01],\n",
       "       [8.75629507e-01, 1.24370493e-01],\n",
       "       [8.99012579e-01, 1.00987421e-01],\n",
       "       [8.75629507e-01, 1.24370493e-01],\n",
       "       [8.99012579e-01, 1.00987421e-01],\n",
       "       [8.99012579e-01, 1.00987421e-01],\n",
       "       [4.46702857e-02, 9.55329714e-01],\n",
       "       [8.75629507e-01, 1.24370493e-01],\n",
       "       [8.75629507e-01, 1.24370493e-01],\n",
       "       [1.16666667e-02, 9.88333333e-01],\n",
       "       [8.99012579e-01, 1.00987421e-01],\n",
       "       [6.50000000e-02, 9.35000000e-01],\n",
       "       [8.99012579e-01, 1.00987421e-01],\n",
       "       [8.99012579e-01, 1.00987421e-01],\n",
       "       [7.21492674e-01, 2.78507326e-01],\n",
       "       [1.00000000e-02, 9.90000000e-01],\n",
       "       [5.93532127e-01, 4.06467873e-01],\n",
       "       [9.92581699e-01, 7.41830065e-03],\n",
       "       [9.32874395e-01, 6.71256048e-02],\n",
       "       [8.99012579e-01, 1.00987421e-01],\n",
       "       [2.32714357e-01, 7.67285643e-01],\n",
       "       [7.41008939e-01, 2.58991061e-01],\n",
       "       [8.99012579e-01, 1.00987421e-01],\n",
       "       [8.75629507e-01, 1.24370493e-01],\n",
       "       [0.00000000e+00, 1.00000000e+00],\n",
       "       [9.35694720e-02, 9.06430528e-01],\n",
       "       [8.99012579e-01, 1.00987421e-01],\n",
       "       [4.33333333e-02, 9.56666667e-01],\n",
       "       [8.99012579e-01, 1.00987421e-01],\n",
       "       [4.46702857e-02, 9.55329714e-01],\n",
       "       [5.36423626e-01, 4.63576374e-01],\n",
       "       [8.99012579e-01, 1.00987421e-01],\n",
       "       [8.05000000e-01, 1.95000000e-01],\n",
       "       [8.75629507e-01, 1.24370493e-01],\n",
       "       [8.89617621e-01, 1.10382379e-01],\n",
       "       [8.75629507e-01, 1.24370493e-01],\n",
       "       [8.99012579e-01, 1.00987421e-01],\n",
       "       [9.32874395e-01, 6.71256048e-02],\n",
       "       [8.89617621e-01, 1.10382379e-01],\n",
       "       [8.99012579e-01, 1.00987421e-01],\n",
       "       [3.37142857e-01, 6.62857143e-01],\n",
       "       [4.46702857e-02, 9.55329714e-01],\n",
       "       [9.50000000e-01, 5.00000000e-02],\n",
       "       [8.99012579e-01, 1.00987421e-01],\n",
       "       [4.46702857e-02, 9.55329714e-01],\n",
       "       [7.53151354e-01, 2.46848646e-01],\n",
       "       [9.32874395e-01, 6.71256048e-02],\n",
       "       [7.53151354e-01, 2.46848646e-01],\n",
       "       [8.99012579e-01, 1.00987421e-01],\n",
       "       [8.75629507e-01, 1.24370493e-01],\n",
       "       [8.99012579e-01, 1.00987421e-01],\n",
       "       [3.46000000e-01, 6.54000000e-01],\n",
       "       [8.46741730e-01, 1.53258270e-01],\n",
       "       [9.35694720e-02, 9.06430528e-01],\n",
       "       [8.99012579e-01, 1.00987421e-01],\n",
       "       [8.75629507e-01, 1.24370493e-01],\n",
       "       [8.99012579e-01, 1.00987421e-01],\n",
       "       [9.08888889e-01, 9.11111111e-02],\n",
       "       [9.35694720e-02, 9.06430528e-01],\n",
       "       [2.43932540e-01, 7.56067460e-01],\n",
       "       [3.65639499e-01, 6.34360501e-01],\n",
       "       [8.75629507e-01, 1.24370493e-01],\n",
       "       [8.99012579e-01, 1.00987421e-01],\n",
       "       [9.32874395e-01, 6.71256048e-02],\n",
       "       [7.55952381e-02, 9.24404762e-01],\n",
       "       [0.00000000e+00, 1.00000000e+00],\n",
       "       [8.75629507e-01, 1.24370493e-01],\n",
       "       [8.99012579e-01, 1.00987421e-01],\n",
       "       [9.35694720e-02, 9.06430528e-01],\n",
       "       [7.53151354e-01, 2.46848646e-01],\n",
       "       [7.53151354e-01, 2.46848646e-01],\n",
       "       [1.00000000e-02, 9.90000000e-01],\n",
       "       [8.99012579e-01, 1.00987421e-01],\n",
       "       [6.73976190e-01, 3.26023810e-01],\n",
       "       [4.00000000e-02, 9.60000000e-01],\n",
       "       [8.99012579e-01, 1.00987421e-01],\n",
       "       [5.95000000e-01, 4.05000000e-01],\n",
       "       [0.00000000e+00, 1.00000000e+00],\n",
       "       [9.50000000e-01, 5.00000000e-02],\n",
       "       [3.25888889e-01, 6.74111111e-01],\n",
       "       [8.99012579e-01, 1.00987421e-01],\n",
       "       [8.99012579e-01, 1.00987421e-01],\n",
       "       [5.93532127e-01, 4.06467873e-01],\n",
       "       [5.93532127e-01, 4.06467873e-01],\n",
       "       [8.75629507e-01, 1.24370493e-01],\n",
       "       [9.72122400e-01, 2.78775995e-02],\n",
       "       [5.36423626e-01, 4.63576374e-01],\n",
       "       [1.16666667e-02, 9.88333333e-01],\n",
       "       [9.80000000e-01, 2.00000000e-02],\n",
       "       [8.99012579e-01, 1.00987421e-01],\n",
       "       [0.00000000e+00, 1.00000000e+00],\n",
       "       [5.00000000e-03, 9.95000000e-01],\n",
       "       [6.45130592e-01, 3.54869408e-01],\n",
       "       [8.89617621e-01, 1.10382379e-01],\n",
       "       [5.85982268e-01, 4.14017732e-01],\n",
       "       [7.46761905e-01, 2.53238095e-01],\n",
       "       [3.25888889e-01, 6.74111111e-01],\n",
       "       [3.20956349e-01, 6.79043651e-01],\n",
       "       [4.02777778e-03, 9.95972222e-01],\n",
       "       [7.66583333e-01, 2.33416667e-01],\n",
       "       [5.36423626e-01, 4.63576374e-01],\n",
       "       [9.46564103e-01, 5.34358974e-02],\n",
       "       [2.32714357e-01, 7.67285643e-01],\n",
       "       [8.99012579e-01, 1.00987421e-01],\n",
       "       [9.79230769e-01, 2.07692308e-02],\n",
       "       [4.46702857e-02, 9.55329714e-01],\n",
       "       [8.46741730e-01, 1.53258270e-01],\n",
       "       [8.99012579e-01, 1.00987421e-01],\n",
       "       [9.32874395e-01, 6.71256048e-02],\n",
       "       [8.99012579e-01, 1.00987421e-01],\n",
       "       [7.67625436e-01, 2.32374564e-01],\n",
       "       [4.95107143e-01, 5.04892857e-01],\n",
       "       [4.02777778e-03, 9.95972222e-01],\n",
       "       [9.95277778e-01, 4.72222222e-03],\n",
       "       [5.93532127e-01, 4.06467873e-01],\n",
       "       [9.32874395e-01, 6.71256048e-02],\n",
       "       [5.41666667e-01, 4.58333333e-01],\n",
       "       [5.93532127e-01, 4.06467873e-01],\n",
       "       [0.00000000e+00, 1.00000000e+00],\n",
       "       [4.46702857e-02, 9.55329714e-01],\n",
       "       [5.00000000e-03, 9.95000000e-01],\n",
       "       [4.38095238e-02, 9.56190476e-01],\n",
       "       [8.75629507e-01, 1.24370493e-01],\n",
       "       [4.46702857e-02, 9.55329714e-01],\n",
       "       [9.35694720e-02, 9.06430528e-01],\n",
       "       [8.99012579e-01, 1.00987421e-01],\n",
       "       [3.65639499e-01, 6.34360501e-01],\n",
       "       [8.99012579e-01, 1.00987421e-01],\n",
       "       [8.99012579e-01, 1.00987421e-01],\n",
       "       [8.99012579e-01, 1.00987421e-01],\n",
       "       [8.21780303e-02, 9.17821970e-01],\n",
       "       [8.99012579e-01, 1.00987421e-01],\n",
       "       [7.53151354e-01, 2.46848646e-01],\n",
       "       [4.46702857e-02, 9.55329714e-01],\n",
       "       [8.75629507e-01, 1.24370493e-01],\n",
       "       [7.55952381e-02, 9.24404762e-01],\n",
       "       [8.99012579e-01, 1.00987421e-01],\n",
       "       [8.89617621e-01, 1.10382379e-01],\n",
       "       [7.56666667e-01, 2.43333333e-01],\n",
       "       [8.99012579e-01, 1.00987421e-01],\n",
       "       [8.75629507e-01, 1.24370493e-01],\n",
       "       [8.99012579e-01, 1.00987421e-01],\n",
       "       [8.75629507e-01, 1.24370493e-01],\n",
       "       [9.35694720e-02, 9.06430528e-01],\n",
       "       [8.21780303e-02, 9.17821970e-01],\n",
       "       [9.32874395e-01, 6.71256048e-02],\n",
       "       [5.93532127e-01, 4.06467873e-01],\n",
       "       [5.93532127e-01, 4.06467873e-01],\n",
       "       [8.00000000e-02, 9.20000000e-01],\n",
       "       [8.89617621e-01, 1.10382379e-01],\n",
       "       [9.92581699e-01, 7.41830065e-03],\n",
       "       [5.93532127e-01, 4.06467873e-01],\n",
       "       [8.99012579e-01, 1.00987421e-01],\n",
       "       [8.99012579e-01, 1.00987421e-01],\n",
       "       [8.99012579e-01, 1.00987421e-01],\n",
       "       [5.00000000e-03, 9.95000000e-01],\n",
       "       [8.99012579e-01, 1.00987421e-01],\n",
       "       [2.32714357e-01, 7.67285643e-01],\n",
       "       [8.75629507e-01, 1.24370493e-01],\n",
       "       [4.02777778e-03, 9.95972222e-01],\n",
       "       [2.32714357e-01, 7.67285643e-01],\n",
       "       [5.36423626e-01, 4.63576374e-01],\n",
       "       [9.10104716e-01, 8.98952840e-02],\n",
       "       [0.00000000e+00, 1.00000000e+00],\n",
       "       [8.99012579e-01, 1.00987421e-01],\n",
       "       [8.75629507e-01, 1.24370493e-01],\n",
       "       [0.00000000e+00, 1.00000000e+00],\n",
       "       [2.32714357e-01, 7.67285643e-01],\n",
       "       [5.41666667e-01, 4.58333333e-01],\n",
       "       [7.41008939e-01, 2.58991061e-01],\n",
       "       [8.99012579e-01, 1.00987421e-01],\n",
       "       [8.99012579e-01, 1.00987421e-01],\n",
       "       [9.80000000e-01, 2.00000000e-02],\n",
       "       [0.00000000e+00, 1.00000000e+00],\n",
       "       [9.35694720e-02, 9.06430528e-01],\n",
       "       [5.93532127e-01, 4.06467873e-01],\n",
       "       [9.65035714e-01, 3.49642857e-02],\n",
       "       [8.99012579e-01, 1.00987421e-01],\n",
       "       [8.46741730e-01, 1.53258270e-01],\n",
       "       [9.95277778e-01, 4.72222222e-03],\n",
       "       [8.99012579e-01, 1.00987421e-01],\n",
       "       [1.00000000e-02, 9.90000000e-01],\n",
       "       [5.36423626e-01, 4.63576374e-01],\n",
       "       [8.99012579e-01, 1.00987421e-01],\n",
       "       [8.89617621e-01, 1.10382379e-01],\n",
       "       [6.45130592e-01, 3.54869408e-01],\n",
       "       [0.00000000e+00, 1.00000000e+00],\n",
       "       [5.93532127e-01, 4.06467873e-01],\n",
       "       [8.99012579e-01, 1.00987421e-01],\n",
       "       [9.32874395e-01, 6.71256048e-02],\n",
       "       [3.20956349e-01, 6.79043651e-01],\n",
       "       [8.99012579e-01, 1.00987421e-01],\n",
       "       [5.48809524e-01, 4.51190476e-01],\n",
       "       [8.99012579e-01, 1.00987421e-01],\n",
       "       [8.99012579e-01, 1.00987421e-01],\n",
       "       [0.00000000e+00, 1.00000000e+00],\n",
       "       [8.89617621e-01, 1.10382379e-01],\n",
       "       [8.99012579e-01, 1.00987421e-01],\n",
       "       [5.85982268e-01, 4.14017732e-01],\n",
       "       [8.99012579e-01, 1.00987421e-01],\n",
       "       [8.99012579e-01, 1.00987421e-01],\n",
       "       [8.99012579e-01, 1.00987421e-01],\n",
       "       [8.75629507e-01, 1.24370493e-01],\n",
       "       [8.99012579e-01, 1.00987421e-01],\n",
       "       [8.99012579e-01, 1.00987421e-01],\n",
       "       [8.99012579e-01, 1.00987421e-01],\n",
       "       [8.99012579e-01, 1.00987421e-01],\n",
       "       [4.02777778e-03, 9.95972222e-01],\n",
       "       [2.43932540e-01, 7.56067460e-01],\n",
       "       [8.89617621e-01, 1.10382379e-01],\n",
       "       [1.00000000e+00, 0.00000000e+00],\n",
       "       [9.99230769e-01, 7.69230769e-04],\n",
       "       [8.99012579e-01, 1.00987421e-01],\n",
       "       [5.36423626e-01, 4.63576374e-01],\n",
       "       [4.46702857e-02, 9.55329714e-01],\n",
       "       [8.75629507e-01, 1.24370493e-01],\n",
       "       [0.00000000e+00, 1.00000000e+00],\n",
       "       [8.89617621e-01, 1.10382379e-01],\n",
       "       [7.50000000e-03, 9.92500000e-01],\n",
       "       [8.89617621e-01, 1.10382379e-01],\n",
       "       [8.99012579e-01, 1.00987421e-01],\n",
       "       [1.50000000e-02, 9.85000000e-01],\n",
       "       [8.99012579e-01, 1.00987421e-01],\n",
       "       [8.46741730e-01, 1.53258270e-01],\n",
       "       [8.99012579e-01, 1.00987421e-01],\n",
       "       [1.93440476e-01, 8.06559524e-01],\n",
       "       [8.53496241e-01, 1.46503759e-01],\n",
       "       [5.18761905e-01, 4.81238095e-01],\n",
       "       [2.32714357e-01, 7.67285643e-01],\n",
       "       [0.00000000e+00, 1.00000000e+00],\n",
       "       [0.00000000e+00, 1.00000000e+00],\n",
       "       [3.65639499e-01, 6.34360501e-01],\n",
       "       [8.75629507e-01, 1.24370493e-01],\n",
       "       [8.99012579e-01, 1.00987421e-01],\n",
       "       [2.32714357e-01, 7.67285643e-01],\n",
       "       [5.00000000e-03, 9.95000000e-01],\n",
       "       [8.99012579e-01, 1.00987421e-01],\n",
       "       [1.00000000e+00, 0.00000000e+00],\n",
       "       [8.44761905e-01, 1.55238095e-01],\n",
       "       [7.41008939e-01, 2.58991061e-01],\n",
       "       [8.99012579e-01, 1.00987421e-01],\n",
       "       [9.08095238e-01, 9.19047619e-02],\n",
       "       [8.93619048e-01, 1.06380952e-01],\n",
       "       [4.95107143e-01, 5.04892857e-01],\n",
       "       [8.99012579e-01, 1.00987421e-01],\n",
       "       [7.50000000e-03, 9.92500000e-01],\n",
       "       [1.00000000e+00, 0.00000000e+00],\n",
       "       [9.92581699e-01, 7.41830065e-03],\n",
       "       [8.99012579e-01, 1.00987421e-01],\n",
       "       [8.99012579e-01, 1.00987421e-01],\n",
       "       [8.99012579e-01, 1.00987421e-01],\n",
       "       [8.99012579e-01, 1.00987421e-01],\n",
       "       [8.99012579e-01, 1.00987421e-01],\n",
       "       [9.35694720e-02, 9.06430528e-01],\n",
       "       [2.32714357e-01, 7.67285643e-01],\n",
       "       [2.32714357e-01, 7.67285643e-01],\n",
       "       [8.99012579e-01, 1.00987421e-01],\n",
       "       [7.53151354e-01, 2.46848646e-01],\n",
       "       [4.46702857e-02, 9.55329714e-01],\n",
       "       [5.93532127e-01, 4.06467873e-01],\n",
       "       [9.13333333e-01, 8.66666667e-02],\n",
       "       [8.99012579e-01, 1.00987421e-01],\n",
       "       [8.99012579e-01, 1.00987421e-01],\n",
       "       [8.75629507e-01, 1.24370493e-01],\n",
       "       [8.99012579e-01, 1.00987421e-01],\n",
       "       [8.99012579e-01, 1.00987421e-01],\n",
       "       [9.95277778e-01, 4.72222222e-03],\n",
       "       [5.93532127e-01, 4.06467873e-01],\n",
       "       [8.75629507e-01, 1.24370493e-01],\n",
       "       [8.99012579e-01, 1.00987421e-01],\n",
       "       [1.00000000e+00, 0.00000000e+00],\n",
       "       [5.93532127e-01, 4.06467873e-01],\n",
       "       [8.99012579e-01, 1.00987421e-01],\n",
       "       [8.99012579e-01, 1.00987421e-01],\n",
       "       [8.99012579e-01, 1.00987421e-01],\n",
       "       [2.32714357e-01, 7.67285643e-01],\n",
       "       [8.99012579e-01, 1.00987421e-01],\n",
       "       [5.93532127e-01, 4.06467873e-01],\n",
       "       [0.00000000e+00, 1.00000000e+00],\n",
       "       [8.99012579e-01, 1.00987421e-01],\n",
       "       [8.75629507e-01, 1.24370493e-01],\n",
       "       [7.94928571e-01, 2.05071429e-01],\n",
       "       [8.75629507e-01, 1.24370493e-01],\n",
       "       [9.65035714e-01, 3.49642857e-02],\n",
       "       [9.32874395e-01, 6.71256048e-02],\n",
       "       [2.32714357e-01, 7.67285643e-01],\n",
       "       [9.79230769e-01, 2.07692308e-02],\n",
       "       [6.57285714e-01, 3.42714286e-01],\n",
       "       [8.99012579e-01, 1.00987421e-01],\n",
       "       [0.00000000e+00, 1.00000000e+00],\n",
       "       [7.53151354e-01, 2.46848646e-01],\n",
       "       [8.89617621e-01, 1.10382379e-01],\n",
       "       [9.46564103e-01, 5.34358974e-02],\n",
       "       [8.99012579e-01, 1.00987421e-01],\n",
       "       [0.00000000e+00, 1.00000000e+00],\n",
       "       [7.53151354e-01, 2.46848646e-01],\n",
       "       [8.89617621e-01, 1.10382379e-01],\n",
       "       [5.85982268e-01, 4.14017732e-01],\n",
       "       [7.53151354e-01, 2.46848646e-01],\n",
       "       [8.46741730e-01, 1.53258270e-01],\n",
       "       [5.93532127e-01, 4.06467873e-01],\n",
       "       [4.46702857e-02, 9.55329714e-01],\n",
       "       [8.99012579e-01, 1.00987421e-01],\n",
       "       [3.25888889e-01, 6.74111111e-01],\n",
       "       [2.32714357e-01, 7.67285643e-01],\n",
       "       [2.54408730e-01, 7.45591270e-01],\n",
       "       [5.85982268e-01, 4.14017732e-01],\n",
       "       [2.32714357e-01, 7.67285643e-01],\n",
       "       [9.59333333e-01, 4.06666667e-02],\n",
       "       [6.57285714e-01, 3.42714286e-01],\n",
       "       [8.75629507e-01, 1.24370493e-01],\n",
       "       [9.32874395e-01, 6.71256048e-02],\n",
       "       [8.75629507e-01, 1.24370493e-01],\n",
       "       [4.04890466e-02, 9.59510953e-01],\n",
       "       [2.32714357e-01, 7.67285643e-01],\n",
       "       [5.93532127e-01, 4.06467873e-01],\n",
       "       [5.93532127e-01, 4.06467873e-01],\n",
       "       [1.03020204e-01, 8.96979796e-01],\n",
       "       [7.53151354e-01, 2.46848646e-01],\n",
       "       [5.93532127e-01, 4.06467873e-01],\n",
       "       [3.25888889e-01, 6.74111111e-01],\n",
       "       [5.93532127e-01, 4.06467873e-01],\n",
       "       [0.00000000e+00, 1.00000000e+00],\n",
       "       [7.53151354e-01, 2.46848646e-01],\n",
       "       [8.99012579e-01, 1.00987421e-01],\n",
       "       [5.48809524e-01, 4.51190476e-01],\n",
       "       [4.02777778e-03, 9.95972222e-01],\n",
       "       [0.00000000e+00, 1.00000000e+00],\n",
       "       [0.00000000e+00, 1.00000000e+00],\n",
       "       [9.92666667e-01, 7.33333333e-03],\n",
       "       [6.57285714e-01, 3.42714286e-01],\n",
       "       [2.85476190e-01, 7.14523810e-01],\n",
       "       [5.36423626e-01, 4.63576374e-01],\n",
       "       [3.67666667e-01, 6.32333333e-01],\n",
       "       [4.46702857e-02, 9.55329714e-01],\n",
       "       [9.35000000e-01, 6.50000000e-02],\n",
       "       [9.32874395e-01, 6.71256048e-02],\n",
       "       [2.54408730e-01, 7.45591270e-01],\n",
       "       [8.75629507e-01, 1.24370493e-01],\n",
       "       [8.99012579e-01, 1.00987421e-01],\n",
       "       [9.76000000e-01, 2.40000000e-02],\n",
       "       [7.53151354e-01, 2.46848646e-01],\n",
       "       [8.75629507e-01, 1.24370493e-01],\n",
       "       [9.32874395e-01, 6.71256048e-02],\n",
       "       [5.36423626e-01, 4.63576374e-01],\n",
       "       [8.89815912e-01, 1.10184088e-01],\n",
       "       [5.36423626e-01, 4.63576374e-01],\n",
       "       [5.36423626e-01, 4.63576374e-01],\n",
       "       [0.00000000e+00, 1.00000000e+00],\n",
       "       [3.20956349e-01, 6.79043651e-01],\n",
       "       [9.35694720e-02, 9.06430528e-01],\n",
       "       [3.06666667e-01, 6.93333333e-01],\n",
       "       [3.25888889e-01, 6.74111111e-01],\n",
       "       [1.16666667e-02, 9.88333333e-01],\n",
       "       [4.46702857e-02, 9.55329714e-01],\n",
       "       [8.99012579e-01, 1.00987421e-01],\n",
       "       [5.85982268e-01, 4.14017732e-01],\n",
       "       [2.32714357e-01, 7.67285643e-01],\n",
       "       [8.89617621e-01, 1.10382379e-01],\n",
       "       [5.36423626e-01, 4.63576374e-01],\n",
       "       [7.23444444e-01, 2.76555556e-01],\n",
       "       [8.75629507e-01, 1.24370493e-01],\n",
       "       [8.89617621e-01, 1.10382379e-01],\n",
       "       [8.75629507e-01, 1.24370493e-01],\n",
       "       [8.46741730e-01, 1.53258270e-01],\n",
       "       [4.46702857e-02, 9.55329714e-01],\n",
       "       [2.54408730e-01, 7.45591270e-01],\n",
       "       [5.36423626e-01, 4.63576374e-01],\n",
       "       [1.50000000e-02, 9.85000000e-01],\n",
       "       [8.99012579e-01, 1.00987421e-01],\n",
       "       [8.89617621e-01, 1.10382379e-01],\n",
       "       [8.28735931e-01, 1.71264069e-01],\n",
       "       [8.99012579e-01, 1.00987421e-01],\n",
       "       [4.04890466e-02, 9.59510953e-01],\n",
       "       [7.41008939e-01, 2.58991061e-01],\n",
       "       [5.85982268e-01, 4.14017732e-01],\n",
       "       [8.75629507e-01, 1.24370493e-01],\n",
       "       [8.99012579e-01, 1.00987421e-01],\n",
       "       [8.75629507e-01, 1.24370493e-01],\n",
       "       [7.41008939e-01, 2.58991061e-01],\n",
       "       [1.00000000e+00, 0.00000000e+00],\n",
       "       [6.45130592e-01, 3.54869408e-01],\n",
       "       [5.93532127e-01, 4.06467873e-01],\n",
       "       [9.32874395e-01, 6.71256048e-02],\n",
       "       [7.41008939e-01, 2.58991061e-01],\n",
       "       [9.32874395e-01, 6.71256048e-02],\n",
       "       [0.00000000e+00, 1.00000000e+00],\n",
       "       [4.46702857e-02, 9.55329714e-01],\n",
       "       [0.00000000e+00, 1.00000000e+00],\n",
       "       [5.36423626e-01, 4.63576374e-01],\n",
       "       [0.00000000e+00, 1.00000000e+00],\n",
       "       [5.93532127e-01, 4.06467873e-01],\n",
       "       [5.93532127e-01, 4.06467873e-01],\n",
       "       [8.99012579e-01, 1.00987421e-01],\n",
       "       [8.75629507e-01, 1.24370493e-01],\n",
       "       [0.00000000e+00, 1.00000000e+00],\n",
       "       [7.41008939e-01, 2.58991061e-01],\n",
       "       [4.46702857e-02, 9.55329714e-01],\n",
       "       [5.36423626e-01, 4.63576374e-01],\n",
       "       [5.00000000e-03, 9.95000000e-01],\n",
       "       [8.99012579e-01, 1.00987421e-01],\n",
       "       [5.18761905e-01, 4.81238095e-01],\n",
       "       [8.99012579e-01, 1.00987421e-01],\n",
       "       [8.93743316e-01, 1.06256684e-01],\n",
       "       [9.72122400e-01, 2.78775995e-02],\n",
       "       [8.75629507e-01, 1.24370493e-01],\n",
       "       [2.32714357e-01, 7.67285643e-01],\n",
       "       [8.75629507e-01, 1.24370493e-01],\n",
       "       [2.32714357e-01, 7.67285643e-01],\n",
       "       [8.99012579e-01, 1.00987421e-01],\n",
       "       [1.00000000e-02, 9.90000000e-01],\n",
       "       [8.99012579e-01, 1.00987421e-01],\n",
       "       [8.99012579e-01, 1.00987421e-01],\n",
       "       [5.36423626e-01, 4.63576374e-01],\n",
       "       [8.99012579e-01, 1.00987421e-01],\n",
       "       [8.75629507e-01, 1.24370493e-01],\n",
       "       [8.99012579e-01, 1.00987421e-01],\n",
       "       [5.36423626e-01, 4.63576374e-01],\n",
       "       [9.59333333e-01, 4.06666667e-02],\n",
       "       [9.80000000e-01, 2.00000000e-02],\n",
       "       [7.53151354e-01, 2.46848646e-01],\n",
       "       [8.89617621e-01, 1.10382379e-01],\n",
       "       [5.85982268e-01, 4.14017732e-01],\n",
       "       [9.35694720e-02, 9.06430528e-01],\n",
       "       [8.89617621e-01, 1.10382379e-01],\n",
       "       [8.75629507e-01, 1.24370493e-01],\n",
       "       [1.03020204e-01, 8.96979796e-01],\n",
       "       [5.93532127e-01, 4.06467873e-01],\n",
       "       [9.50000000e-01, 5.00000000e-02],\n",
       "       [7.53151354e-01, 2.46848646e-01],\n",
       "       [8.89617621e-01, 1.10382379e-01],\n",
       "       [8.75629507e-01, 1.24370493e-01],\n",
       "       [9.50000000e-01, 5.00000000e-02],\n",
       "       [8.99012579e-01, 1.00987421e-01],\n",
       "       [4.46702857e-02, 9.55329714e-01],\n",
       "       [6.73976190e-01, 3.26023810e-01],\n",
       "       [6.45130592e-01, 3.54869408e-01],\n",
       "       [0.00000000e+00, 1.00000000e+00],\n",
       "       [6.73976190e-01, 3.26023810e-01],\n",
       "       [8.99012579e-01, 1.00987421e-01],\n",
       "       [3.13119048e-01, 6.86880952e-01],\n",
       "       [8.99012579e-01, 1.00987421e-01],\n",
       "       [4.46702857e-02, 9.55329714e-01],\n",
       "       [7.41008939e-01, 2.58991061e-01],\n",
       "       [5.93532127e-01, 4.06467873e-01],\n",
       "       [8.99012579e-01, 1.00987421e-01],\n",
       "       [9.32874395e-01, 6.71256048e-02],\n",
       "       [8.89617621e-01, 1.10382379e-01],\n",
       "       [4.46702857e-02, 9.55329714e-01],\n",
       "       [9.76000000e-01, 2.40000000e-02],\n",
       "       [7.53151354e-01, 2.46848646e-01],\n",
       "       [8.99012579e-01, 1.00987421e-01],\n",
       "       [4.95107143e-01, 5.04892857e-01],\n",
       "       [0.00000000e+00, 1.00000000e+00],\n",
       "       [2.54408730e-01, 7.45591270e-01],\n",
       "       [4.33333333e-02, 9.56666667e-01],\n",
       "       [8.99012579e-01, 1.00987421e-01],\n",
       "       [4.95107143e-01, 5.04892857e-01],\n",
       "       [8.99012579e-01, 1.00987421e-01],\n",
       "       [5.36423626e-01, 4.63576374e-01],\n",
       "       [8.99012579e-01, 1.00987421e-01],\n",
       "       [6.45130592e-01, 3.54869408e-01],\n",
       "       [1.16666667e-02, 9.88333333e-01],\n",
       "       [8.75629507e-01, 1.24370493e-01],\n",
       "       [4.33333333e-02, 9.56666667e-01],\n",
       "       [8.99012579e-01, 1.00987421e-01],\n",
       "       [8.99012579e-01, 1.00987421e-01],\n",
       "       [8.99012579e-01, 1.00987421e-01],\n",
       "       [9.46564103e-01, 5.34358974e-02],\n",
       "       [8.99012579e-01, 1.00987421e-01]])"
      ]
     },
     "execution_count": 54,
     "metadata": {},
     "output_type": "execute_result"
    }
   ],
   "source": [
    "# Find Probabability of each Prediction\n",
    "y_pred_proba = rf.predict_proba(X_train)\n",
    "y_pred_proba"
   ]
  },
  {
   "cell_type": "markdown",
   "id": "1336d368",
   "metadata": {},
   "source": [
    "##  <font color='red'> 2) Evaluate your results using the model score, confusion matrix, and classification report."
   ]
  },
  {
   "cell_type": "code",
   "execution_count": 55,
   "id": "bdcd68dc",
   "metadata": {},
   "outputs": [
    {
     "data": {
      "text/plain": [
       "0.8594377510040161"
      ]
     },
     "execution_count": 55,
     "metadata": {},
     "output_type": "execute_result"
    }
   ],
   "source": [
    "# Find Model Score for Accuracy\n",
    "rf.score(X_train,y_train)"
   ]
  },
  {
   "cell_type": "code",
   "execution_count": 60,
   "id": "265f3d28",
   "metadata": {},
   "outputs": [
    {
     "name": "stdout",
     "output_type": "stream",
     "text": [
      "Actual on the left, predicted on the top\n"
     ]
    },
    {
     "data": {
      "text/html": [
       "<div>\n",
       "<style scoped>\n",
       "    .dataframe tbody tr th:only-of-type {\n",
       "        vertical-align: middle;\n",
       "    }\n",
       "\n",
       "    .dataframe tbody tr th {\n",
       "        vertical-align: top;\n",
       "    }\n",
       "\n",
       "    .dataframe thead th {\n",
       "        text-align: right;\n",
       "    }\n",
       "</style>\n",
       "<table border=\"1\" class=\"dataframe\">\n",
       "  <thead>\n",
       "    <tr style=\"text-align: right;\">\n",
       "      <th></th>\n",
       "      <th>0</th>\n",
       "      <th>1</th>\n",
       "    </tr>\n",
       "  </thead>\n",
       "  <tbody>\n",
       "    <tr>\n",
       "      <th>0</th>\n",
       "      <td>293</td>\n",
       "      <td>14</td>\n",
       "    </tr>\n",
       "    <tr>\n",
       "      <th>1</th>\n",
       "      <td>56</td>\n",
       "      <td>135</td>\n",
       "    </tr>\n",
       "  </tbody>\n",
       "</table>\n",
       "</div>"
      ],
      "text/plain": [
       "     0    1\n",
       "0  293   14\n",
       "1   56  135"
      ]
     },
     "execution_count": 60,
     "metadata": {},
     "output_type": "execute_result"
    }
   ],
   "source": [
    "# Make Confusion Matrix\n",
    "labels = sorted(y_train.unique())\n",
    "print('Actual on the left, predicted on the top')\n",
    "pd.DataFrame(confusion_matrix(y_train, y_pred), index=labels, columns=labels)"
   ]
  },
  {
   "cell_type": "code",
   "execution_count": 62,
   "id": "fd48feca",
   "metadata": {},
   "outputs": [
    {
     "name": "stdout",
     "output_type": "stream",
     "text": [
      "              precision    recall  f1-score   support\n",
      "\n",
      "           0       0.84      0.95      0.89       307\n",
      "           1       0.91      0.71      0.79       191\n",
      "\n",
      "    accuracy                           0.86       498\n",
      "   macro avg       0.87      0.83      0.84       498\n",
      "weighted avg       0.87      0.86      0.86       498\n",
      "\n"
     ]
    }
   ],
   "source": [
    "print(classification_report(y_train,y_pred))"
   ]
  },
  {
   "cell_type": "code",
   "execution_count": 64,
   "id": "70606050",
   "metadata": {},
   "outputs": [
    {
     "data": {
      "text/html": [
       "<div>\n",
       "<style scoped>\n",
       "    .dataframe tbody tr th:only-of-type {\n",
       "        vertical-align: middle;\n",
       "    }\n",
       "\n",
       "    .dataframe tbody tr th {\n",
       "        vertical-align: top;\n",
       "    }\n",
       "\n",
       "    .dataframe thead th {\n",
       "        text-align: right;\n",
       "    }\n",
       "</style>\n",
       "<table border=\"1\" class=\"dataframe\">\n",
       "  <thead>\n",
       "    <tr style=\"text-align: right;\">\n",
       "      <th></th>\n",
       "      <th>0</th>\n",
       "      <th>1</th>\n",
       "      <th>accuracy</th>\n",
       "      <th>macro avg</th>\n",
       "      <th>weighted avg</th>\n",
       "    </tr>\n",
       "  </thead>\n",
       "  <tbody>\n",
       "    <tr>\n",
       "      <th>precision</th>\n",
       "      <td>0.839542</td>\n",
       "      <td>0.906040</td>\n",
       "      <td>0.859438</td>\n",
       "      <td>0.872791</td>\n",
       "      <td>0.865046</td>\n",
       "    </tr>\n",
       "    <tr>\n",
       "      <th>recall</th>\n",
       "      <td>0.954397</td>\n",
       "      <td>0.706806</td>\n",
       "      <td>0.859438</td>\n",
       "      <td>0.830602</td>\n",
       "      <td>0.859438</td>\n",
       "    </tr>\n",
       "    <tr>\n",
       "      <th>f1-score</th>\n",
       "      <td>0.893293</td>\n",
       "      <td>0.794118</td>\n",
       "      <td>0.859438</td>\n",
       "      <td>0.843705</td>\n",
       "      <td>0.855256</td>\n",
       "    </tr>\n",
       "    <tr>\n",
       "      <th>support</th>\n",
       "      <td>307.000000</td>\n",
       "      <td>191.000000</td>\n",
       "      <td>0.859438</td>\n",
       "      <td>498.000000</td>\n",
       "      <td>498.000000</td>\n",
       "    </tr>\n",
       "  </tbody>\n",
       "</table>\n",
       "</div>"
      ],
      "text/plain": [
       "                    0           1  accuracy   macro avg  weighted avg\n",
       "precision    0.839542    0.906040  0.859438    0.872791      0.865046\n",
       "recall       0.954397    0.706806  0.859438    0.830602      0.859438\n",
       "f1-score     0.893293    0.794118  0.859438    0.843705      0.855256\n",
       "support    307.000000  191.000000  0.859438  498.000000    498.000000"
      ]
     },
     "execution_count": 64,
     "metadata": {},
     "output_type": "execute_result"
    }
   ],
   "source": [
    "# Produce the classification report on the actual y values and this model's predicted y values\n",
    "report = classification_report(y_train, y_pred, output_dict=True)\n",
    "pd.DataFrame(report)"
   ]
  },
  {
   "cell_type": "markdown",
   "id": "e43fb93a",
   "metadata": {},
   "source": [
    "##  <font color='red'> 3) Print and clearly label the following: Accuracy, true positive rate, false positive rate, true negative rate, false negative rate, precision, recall, f1-score, and support."
   ]
  },
  {
   "cell_type": "code",
   "execution_count": 65,
   "id": "edcf8243",
   "metadata": {},
   "outputs": [
    {
     "name": "stdout",
     "output_type": "stream",
     "text": [
      "Accuracy: 0.8594377510040161\n",
      "True Positive Rate: 0.9543973941368078\n",
      "False Positive Rate: 0.2931937172774869\n",
      "True Negative Rate: 0.7068062827225131\n",
      "False Negative Rate: 0.04560260586319218\n",
      "Precision: 0.839541547277937\n",
      "Recall: 0.9543973941368078\n",
      "F1 Score: 0.8932926829268293\n",
      "Support (0): 307\n",
      "Support (1): 191\n"
     ]
    }
   ],
   "source": [
    "TP = 293\n",
    "FP = 56\n",
    "FN = 14\n",
    "TN = 135\n",
    "ALL = TP + FP + FN + TN\n",
    "\n",
    "accuracy = (TP + TN)/ALL\n",
    "print(f\"Accuracy: {accuracy}\")\n",
    "\n",
    "true_positive_rate = TP/(TP+FN)\n",
    "print(f\"True Positive Rate: {true_positive_rate}\")\n",
    "\n",
    "false_positive_rate = FP/(FP+TN)\n",
    "print(f\"False Positive Rate: {false_positive_rate}\")\n",
    "\n",
    "true_negative_rate = TN/(TN+FP)\n",
    "print(f\"True Negative Rate: {true_negative_rate}\")\n",
    "\n",
    "false_negative_rate = FN/(FN+TP)\n",
    "print(f\"False Negative Rate: {false_negative_rate}\")\n",
    "\n",
    "precision = TP/(TP+FP)\n",
    "print(f\"Precision: {precision}\")\n",
    "\n",
    "recall = TP/(TP+FN)\n",
    "print(f\"Recall: {recall}\")\n",
    "\n",
    "f1_score = 2*(precision*recall)/(precision+recall)\n",
    "print(f\"F1 Score: {f1_score}\")\n",
    "\n",
    "support_pos = TP + FN\n",
    "print(f\"Support (0): {support_pos}\")\n",
    "\n",
    "support_neg = FP + TN\n",
    "print(f\"Support (1): {support_neg}\")"
   ]
  },
  {
   "cell_type": "markdown",
   "id": "1367c27d",
   "metadata": {},
   "source": [
    "##  <font color='red'> 4) Run through steps increasing your min_samples_leaf and decreasing your max_depth"
   ]
  },
  {
   "cell_type": "code",
   "execution_count": 82,
   "id": "7f8157fc",
   "metadata": {},
   "outputs": [
    {
     "name": "stdout",
     "output_type": "stream",
     "text": [
      "Random Forest with max_depth of 10 and min_sample_leaf 1\n",
      "                    0           1  accuracy   macro avg  weighted avg\n",
      "precision    0.839542    0.906040  0.859438    0.872791      0.865046\n",
      "recall       0.954397    0.706806  0.859438    0.830602      0.859438\n",
      "f1-score     0.893293    0.794118  0.859438    0.843705      0.855256\n",
      "support    307.000000  191.000000  0.859438  498.000000    498.000000\n",
      "\n",
      "Random Forest with max_depth of 9 and min_sample_leaf 2\n",
      "                    0           1  accuracy   macro avg  weighted avg\n",
      "precision    0.819209    0.881944  0.837349    0.850577      0.843270\n",
      "recall       0.944625    0.664921  0.837349    0.804773      0.837349\n",
      "f1-score     0.877458    0.758209  0.837349    0.817834      0.831722\n",
      "support    307.000000  191.000000  0.837349  498.000000    498.000000\n",
      "\n",
      "Random Forest with max_depth of 8 and min_sample_leaf 3\n",
      "                    0           1  accuracy   macro avg  weighted avg\n",
      "precision    0.820513    0.870748  0.835341    0.845631      0.839780\n",
      "recall       0.938111    0.670157  0.835341    0.804134      0.835341\n",
      "f1-score     0.875380    0.757396  0.835341    0.816388      0.830129\n",
      "support    307.000000  191.000000  0.835341  498.000000    498.000000\n",
      "\n",
      "Random Forest with max_depth of 7 and min_sample_leaf 4\n",
      "                    0           1  accuracy   macro avg  weighted avg\n",
      "precision    0.812849    0.885714  0.833333    0.849282      0.840795\n",
      "recall       0.947883    0.649215  0.833333    0.798549      0.833333\n",
      "f1-score     0.875188    0.749245  0.833333    0.812216      0.826884\n",
      "support    307.000000  191.000000  0.833333  498.000000    498.000000\n",
      "\n",
      "Random Forest with max_depth of 6 and min_sample_leaf 5\n",
      "                    0           1  accuracy   macro avg  weighted avg\n",
      "precision    0.812849    0.885714  0.833333    0.849282      0.840795\n",
      "recall       0.947883    0.649215  0.833333    0.798549      0.833333\n",
      "f1-score     0.875188    0.749245  0.833333    0.812216      0.826884\n",
      "support    307.000000  191.000000  0.833333  498.000000    498.000000\n",
      "\n",
      "Random Forest with max_depth of 5 and min_sample_leaf 6\n",
      "                    0           1  accuracy   macro avg  weighted avg\n",
      "precision    0.806094    0.883212  0.827309    0.844653      0.835671\n",
      "recall       0.947883    0.633508  0.827309    0.790695      0.827309\n",
      "f1-score     0.871257    0.737805  0.827309    0.804531      0.820074\n",
      "support    307.000000  191.000000  0.827309  498.000000    498.000000\n",
      "\n",
      "Random Forest with max_depth of 4 and min_sample_leaf 7\n",
      "                    0           1  accuracy   macro avg  weighted avg\n",
      "precision    0.796748    0.899225  0.823293    0.847986      0.836051\n",
      "recall       0.957655    0.607330  0.823293    0.782492      0.823293\n",
      "f1-score     0.869822    0.725000  0.823293    0.797411      0.814278\n",
      "support    307.000000  191.000000  0.823293  498.000000    498.000000\n",
      "\n",
      "Random Forest with max_depth of 3 and min_sample_leaf 8\n",
      "                    0           1  accuracy   macro avg  weighted avg\n",
      "precision    0.807263    0.871429  0.825301    0.839346      0.831872\n",
      "recall       0.941368    0.638743  0.825301    0.790056      0.825301\n",
      "f1-score     0.869173    0.737160  0.825301    0.803167      0.818542\n",
      "support    307.000000  191.000000  0.825301  498.000000    498.000000\n",
      "\n",
      "Random Forest with max_depth of 2 and min_sample_leaf 9\n",
      "                    0           1  accuracy   macro avg  weighted avg\n",
      "precision    0.769430    0.910714  0.801205    0.840072      0.823617\n",
      "recall       0.967427    0.534031  0.801205    0.750729      0.801205\n",
      "f1-score     0.857143    0.673267  0.801205    0.765205      0.786620\n",
      "support    307.000000  191.000000  0.801205  498.000000    498.000000\n",
      "\n",
      "Random Forest with max_depth of 1 and min_sample_leaf 10\n",
      "                    0           1  accuracy   macro avg  weighted avg\n",
      "precision    0.702079    0.953846   0.73494    0.827962      0.798640\n",
      "recall       0.990228    0.324607   0.73494    0.657418      0.734940\n",
      "f1-score     0.821622    0.484375   0.73494    0.652998      0.692276\n",
      "support    307.000000  191.000000   0.73494  498.000000    498.000000\n",
      "\n"
     ]
    }
   ],
   "source": [
    "for i in range(1,11):\n",
    "    rf = RandomForestClassifier(max_depth=11-i,\n",
    "                           random_state=123,\n",
    "                           min_samples_leaf=i)\n",
    "    rf = rf.fit(X_train,y_train)\n",
    "    y_pred = rf.predict(X_train)\n",
    "    report = classification_report(y_train, y_pred, output_dict=True)\n",
    "    print(f\"Random Forest with max_depth of {11-i} and min_sample_leaf {i}\")\n",
    "    print(pd.DataFrame(report))\n",
    "    print()"
   ]
  },
  {
   "cell_type": "markdown",
   "id": "17b72f46",
   "metadata": {},
   "source": [
    "##  <font color='red'> 5a) What are the differences in the evaluation metrics? "
   ]
  },
  {
   "cell_type": "markdown",
   "id": "f3c012ab",
   "metadata": {},
   "source": [
    "???"
   ]
  },
  {
   "cell_type": "markdown",
   "id": "c24532ee",
   "metadata": {},
   "source": [
    "##  <font color='red'> 5a)Which performs better on your in-sample data? Why?"
   ]
  },
  {
   "cell_type": "markdown",
   "id": "ae93bbda",
   "metadata": {},
   "source": [
    "Random Forest with max_depth of 8 and min_sample_leaf 3 performs best. ???"
   ]
  },
  {
   "cell_type": "markdown",
   "id": "68dd2c14",
   "metadata": {},
   "source": [
    "##  <font color='red'> 6) After making a few models, which one has the best performance (or closest metrics) on both train and validate?"
   ]
  },
  {
   "cell_type": "code",
   "execution_count": 83,
   "id": "070931b9",
   "metadata": {},
   "outputs": [
    {
     "data": {
      "text/html": [
       "<div>\n",
       "<style scoped>\n",
       "    .dataframe tbody tr th:only-of-type {\n",
       "        vertical-align: middle;\n",
       "    }\n",
       "\n",
       "    .dataframe tbody tr th {\n",
       "        vertical-align: top;\n",
       "    }\n",
       "\n",
       "    .dataframe thead th {\n",
       "        text-align: right;\n",
       "    }\n",
       "</style>\n",
       "<table border=\"1\" class=\"dataframe\">\n",
       "  <thead>\n",
       "    <tr style=\"text-align: right;\">\n",
       "      <th></th>\n",
       "      <th>max_depth</th>\n",
       "      <th>min_sample</th>\n",
       "      <th>train_accuracy</th>\n",
       "      <th>validate_accuracy</th>\n",
       "      <th>difference</th>\n",
       "    </tr>\n",
       "  </thead>\n",
       "  <tbody>\n",
       "    <tr>\n",
       "      <th>0</th>\n",
       "      <td>10</td>\n",
       "      <td>1</td>\n",
       "      <td>0.859438</td>\n",
       "      <td>0.757009</td>\n",
       "      <td>0.102428</td>\n",
       "    </tr>\n",
       "    <tr>\n",
       "      <th>1</th>\n",
       "      <td>9</td>\n",
       "      <td>2</td>\n",
       "      <td>0.837349</td>\n",
       "      <td>0.794393</td>\n",
       "      <td>0.042957</td>\n",
       "    </tr>\n",
       "    <tr>\n",
       "      <th>2</th>\n",
       "      <td>8</td>\n",
       "      <td>3</td>\n",
       "      <td>0.835341</td>\n",
       "      <td>0.799065</td>\n",
       "      <td>0.036276</td>\n",
       "    </tr>\n",
       "    <tr>\n",
       "      <th>3</th>\n",
       "      <td>7</td>\n",
       "      <td>4</td>\n",
       "      <td>0.833333</td>\n",
       "      <td>0.794393</td>\n",
       "      <td>0.038941</td>\n",
       "    </tr>\n",
       "    <tr>\n",
       "      <th>4</th>\n",
       "      <td>6</td>\n",
       "      <td>5</td>\n",
       "      <td>0.833333</td>\n",
       "      <td>0.794393</td>\n",
       "      <td>0.038941</td>\n",
       "    </tr>\n",
       "    <tr>\n",
       "      <th>5</th>\n",
       "      <td>5</td>\n",
       "      <td>6</td>\n",
       "      <td>0.827309</td>\n",
       "      <td>0.794393</td>\n",
       "      <td>0.032917</td>\n",
       "    </tr>\n",
       "    <tr>\n",
       "      <th>6</th>\n",
       "      <td>4</td>\n",
       "      <td>7</td>\n",
       "      <td>0.823293</td>\n",
       "      <td>0.794393</td>\n",
       "      <td>0.028901</td>\n",
       "    </tr>\n",
       "    <tr>\n",
       "      <th>7</th>\n",
       "      <td>3</td>\n",
       "      <td>8</td>\n",
       "      <td>0.825301</td>\n",
       "      <td>0.789720</td>\n",
       "      <td>0.035582</td>\n",
       "    </tr>\n",
       "    <tr>\n",
       "      <th>8</th>\n",
       "      <td>2</td>\n",
       "      <td>9</td>\n",
       "      <td>0.801205</td>\n",
       "      <td>0.789720</td>\n",
       "      <td>0.011485</td>\n",
       "    </tr>\n",
       "    <tr>\n",
       "      <th>9</th>\n",
       "      <td>1</td>\n",
       "      <td>10</td>\n",
       "      <td>0.734940</td>\n",
       "      <td>0.719626</td>\n",
       "      <td>0.015314</td>\n",
       "    </tr>\n",
       "  </tbody>\n",
       "</table>\n",
       "</div>"
      ],
      "text/plain": [
       "   max_depth  min_sample  train_accuracy  validate_accuracy  difference\n",
       "0         10           1        0.859438           0.757009    0.102428\n",
       "1          9           2        0.837349           0.794393    0.042957\n",
       "2          8           3        0.835341           0.799065    0.036276\n",
       "3          7           4        0.833333           0.794393    0.038941\n",
       "4          6           5        0.833333           0.794393    0.038941\n",
       "5          5           6        0.827309           0.794393    0.032917\n",
       "6          4           7        0.823293           0.794393    0.028901\n",
       "7          3           8        0.825301           0.789720    0.035582\n",
       "8          2           9        0.801205           0.789720    0.011485\n",
       "9          1          10        0.734940           0.719626    0.015314"
      ]
     },
     "execution_count": 83,
     "metadata": {},
     "output_type": "execute_result"
    }
   ],
   "source": [
    "# compare in-sample to out-of-sample\n",
    "metrics = []\n",
    "\n",
    "for i in range(1,11):\n",
    "    # Make the model\n",
    "    rf = RandomForestClassifier(max_depth=11-i,\n",
    "                           random_state=123,\n",
    "                           min_samples_leaf=i)\n",
    "\n",
    "    # Fit the model (on train and only train)\n",
    "    rf = rf.fit(X_train, y_train)\n",
    "    \n",
    "    # Use the model\n",
    "    # We'll evaluate the model's performance on train, first\n",
    "    in_sample_accuracy = rf.score(X_train, y_train)\n",
    "    \n",
    "    out_of_sample_accuracy = rf.score(X_validate, y_validate)\n",
    "\n",
    "    output = {\n",
    "        \"max_depth\": 11-i,\n",
    "        \"min_sample\": i,\n",
    "        \"train_accuracy\": in_sample_accuracy,\n",
    "        \"validate_accuracy\": out_of_sample_accuracy\n",
    "    }\n",
    "    \n",
    "    metrics.append(output)\n",
    "    \n",
    "df = pd.DataFrame(metrics)\n",
    "df[\"difference\"] = df.train_accuracy - df.validate_accuracy\n",
    "df"
   ]
  },
  {
   "cell_type": "markdown",
   "id": "25b70ebe",
   "metadata": {},
   "source": [
    "### model with max_depth = 2, min_sample = 9"
   ]
  },
  {
   "cell_type": "code",
   "execution_count": null,
   "id": "9a1cf36d",
   "metadata": {},
   "outputs": [],
   "source": []
  },
  {
   "cell_type": "code",
   "execution_count": null,
   "id": "cf177f1c",
   "metadata": {},
   "outputs": [],
   "source": []
  },
  {
   "cell_type": "code",
   "execution_count": null,
   "id": "d6e1fb2b",
   "metadata": {},
   "outputs": [],
   "source": []
  }
 ],
 "metadata": {
  "kernelspec": {
   "display_name": "Python 3",
   "language": "python",
   "name": "python3"
  },
  "language_info": {
   "codemirror_mode": {
    "name": "ipython",
    "version": 3
   },
   "file_extension": ".py",
   "mimetype": "text/x-python",
   "name": "python",
   "nbconvert_exporter": "python",
   "pygments_lexer": "ipython3",
   "version": "3.8.8"
  }
 },
 "nbformat": 4,
 "nbformat_minor": 5
}
